{
  "nbformat": 4,
  "nbformat_minor": 0,
  "metadata": {
    "colab": {
      "name": "Churn Model - Keras - Customização CEF.ipynb",
      "version": "0.3.2",
      "provenance": [],
      "collapsed_sections": [
        "__M0VyahudDA",
        "gPj6Wi0pIWT6",
        "ITKpOZPx0C3H",
        "hX7GaeMGTSlg",
        "4Rtl4asmIWXq",
        "JN9uPUDuIWZp",
        "jYRZygJlIWbD",
        "4f6BrkinrU5W"
      ]
    },
    "kernelspec": {
      "display_name": "Python 3",
      "language": "python",
      "name": "python3"
    }
  },
  "cells": [
    {
      "metadata": {
        "id": "YYXqKPpcto1C",
        "colab_type": "text"
      },
      "cell_type": "markdown",
      "source": [
        "## **MODELO PARA EVASÃO DE CLIENTES - KERAS | VERSÃO CEF **"
      ]
    },
    {
      "metadata": {
        "id": "__M0VyahudDA",
        "colab_type": "text"
      },
      "cell_type": "markdown",
      "source": [
        "#### IMPORTANDO AS BIBLIOTECAS DO PROJETO"
      ]
    },
    {
      "metadata": {
        "id": "1xB7mdyQIWTW",
        "colab_type": "code",
        "colab": {}
      },
      "cell_type": "code",
      "source": [
        "# Bibliotecas Utilizadas no Projeto\n",
        "\n",
        "import warnings\n",
        "warnings.filterwarnings('ignore')\n",
        "\n",
        "# Bibliotecas para construção da Rede Neural\n",
        "import tensorflow\n",
        "from tensorflow import keras\n",
        "from tensorflow.keras.models import load_model\n",
        "\n",
        "# Bibliotecas para processamento de Dados\n",
        "import numpy as np\n",
        "import pandas as pd\n",
        "\n",
        "# Importando biblioteca para Pré-Processamento e Enconding dos Dados\n",
        "from sklearn.preprocessing import LabelEncoder, OneHotEncoder, StandardScaler\n",
        "from sklearn.metrics import confusion_matrix, accuracy_score, f1_score, precision_score, recall_score, classification_report\n",
        "from sklearn.model_selection import train_test_split\n",
        "\n",
        "# Bibliotecas para visualização de Dados\n",
        "import matplotlib.pyplot as plt\n",
        "%matplotlib inline\n",
        "import seaborn as sns"
      ],
      "execution_count": 0,
      "outputs": []
    },
    {
      "metadata": {
        "id": "gPj6Wi0pIWT6",
        "colab_type": "text"
      },
      "cell_type": "markdown",
      "source": [
        "#### CARREGANDO O DATASET"
      ]
    },
    {
      "metadata": {
        "id": "pKlk2bdjIWUl",
        "colab_type": "code",
        "colab": {}
      },
      "cell_type": "code",
      "source": [
        "# Carregando o dataset\n",
        "file = 'https://gist.githubusercontent.com/jsturiao/164d2af04dcd235f3adcf45f7112baa8/raw/151481b004649a88d2118a6501d1d254eb85a5f8/Churn_Model.csv'\n",
        "dataset = pd.read_csv(file)"
      ],
      "execution_count": 0,
      "outputs": []
    },
    {
      "metadata": {
        "id": "ITKpOZPx0C3H",
        "colab_type": "text"
      },
      "cell_type": "markdown",
      "source": [
        "#### EXPLORAÇÃO E VISUALIZAÇÃO DE DADOS"
      ]
    },
    {
      "metadata": {
        "id": "w3-J_Y4MIWUu",
        "colab_type": "code",
        "outputId": "26698210-7acd-49f3-cf9d-56770efbfe0c",
        "colab": {
          "base_uri": "https://localhost:8080/",
          "height": 335
        }
      },
      "cell_type": "code",
      "source": [
        "# Mostrando as 5 primeiras linhas do dataset\n",
        "dataset.head(10)"
      ],
      "execution_count": 0,
      "outputs": [
        {
          "output_type": "execute_result",
          "data": {
            "text/html": [
              "<div>\n",
              "<style scoped>\n",
              "    .dataframe tbody tr th:only-of-type {\n",
              "        vertical-align: middle;\n",
              "    }\n",
              "\n",
              "    .dataframe tbody tr th {\n",
              "        vertical-align: top;\n",
              "    }\n",
              "\n",
              "    .dataframe thead th {\n",
              "        text-align: right;\n",
              "    }\n",
              "</style>\n",
              "<table border=\"1\" class=\"dataframe\">\n",
              "  <thead>\n",
              "    <tr style=\"text-align: right;\">\n",
              "      <th></th>\n",
              "      <th>RowNumber</th>\n",
              "      <th>CustomerId</th>\n",
              "      <th>Surname</th>\n",
              "      <th>CreditScore</th>\n",
              "      <th>Geography</th>\n",
              "      <th>Gender</th>\n",
              "      <th>Age</th>\n",
              "      <th>Tenure</th>\n",
              "      <th>Balance</th>\n",
              "      <th>NumOfProducts</th>\n",
              "      <th>HasCrCard</th>\n",
              "      <th>IsActiveMember</th>\n",
              "      <th>EstimatedSalary</th>\n",
              "      <th>Exited</th>\n",
              "    </tr>\n",
              "  </thead>\n",
              "  <tbody>\n",
              "    <tr>\n",
              "      <th>0</th>\n",
              "      <td>1</td>\n",
              "      <td>15634602</td>\n",
              "      <td>Hargrave</td>\n",
              "      <td>619</td>\n",
              "      <td>France</td>\n",
              "      <td>Female</td>\n",
              "      <td>42</td>\n",
              "      <td>2</td>\n",
              "      <td>0.00</td>\n",
              "      <td>1</td>\n",
              "      <td>1</td>\n",
              "      <td>1</td>\n",
              "      <td>101348.88</td>\n",
              "      <td>1</td>\n",
              "    </tr>\n",
              "    <tr>\n",
              "      <th>1</th>\n",
              "      <td>2</td>\n",
              "      <td>15647311</td>\n",
              "      <td>Hill</td>\n",
              "      <td>608</td>\n",
              "      <td>Spain</td>\n",
              "      <td>Female</td>\n",
              "      <td>41</td>\n",
              "      <td>1</td>\n",
              "      <td>83807.86</td>\n",
              "      <td>1</td>\n",
              "      <td>0</td>\n",
              "      <td>1</td>\n",
              "      <td>112542.58</td>\n",
              "      <td>0</td>\n",
              "    </tr>\n",
              "    <tr>\n",
              "      <th>2</th>\n",
              "      <td>3</td>\n",
              "      <td>15619304</td>\n",
              "      <td>Onio</td>\n",
              "      <td>502</td>\n",
              "      <td>France</td>\n",
              "      <td>Female</td>\n",
              "      <td>42</td>\n",
              "      <td>8</td>\n",
              "      <td>159660.80</td>\n",
              "      <td>3</td>\n",
              "      <td>1</td>\n",
              "      <td>0</td>\n",
              "      <td>113931.57</td>\n",
              "      <td>1</td>\n",
              "    </tr>\n",
              "    <tr>\n",
              "      <th>3</th>\n",
              "      <td>4</td>\n",
              "      <td>15701354</td>\n",
              "      <td>Boni</td>\n",
              "      <td>699</td>\n",
              "      <td>France</td>\n",
              "      <td>Female</td>\n",
              "      <td>39</td>\n",
              "      <td>1</td>\n",
              "      <td>0.00</td>\n",
              "      <td>2</td>\n",
              "      <td>0</td>\n",
              "      <td>0</td>\n",
              "      <td>93826.63</td>\n",
              "      <td>0</td>\n",
              "    </tr>\n",
              "    <tr>\n",
              "      <th>4</th>\n",
              "      <td>5</td>\n",
              "      <td>15737888</td>\n",
              "      <td>Mitchell</td>\n",
              "      <td>850</td>\n",
              "      <td>Spain</td>\n",
              "      <td>Female</td>\n",
              "      <td>43</td>\n",
              "      <td>2</td>\n",
              "      <td>125510.82</td>\n",
              "      <td>1</td>\n",
              "      <td>1</td>\n",
              "      <td>1</td>\n",
              "      <td>79084.10</td>\n",
              "      <td>0</td>\n",
              "    </tr>\n",
              "    <tr>\n",
              "      <th>5</th>\n",
              "      <td>6</td>\n",
              "      <td>15574012</td>\n",
              "      <td>Chu</td>\n",
              "      <td>645</td>\n",
              "      <td>Spain</td>\n",
              "      <td>Male</td>\n",
              "      <td>44</td>\n",
              "      <td>8</td>\n",
              "      <td>113755.78</td>\n",
              "      <td>2</td>\n",
              "      <td>1</td>\n",
              "      <td>0</td>\n",
              "      <td>149756.71</td>\n",
              "      <td>1</td>\n",
              "    </tr>\n",
              "    <tr>\n",
              "      <th>6</th>\n",
              "      <td>7</td>\n",
              "      <td>15592531</td>\n",
              "      <td>Bartlett</td>\n",
              "      <td>822</td>\n",
              "      <td>France</td>\n",
              "      <td>Male</td>\n",
              "      <td>50</td>\n",
              "      <td>7</td>\n",
              "      <td>0.00</td>\n",
              "      <td>2</td>\n",
              "      <td>1</td>\n",
              "      <td>1</td>\n",
              "      <td>10062.80</td>\n",
              "      <td>0</td>\n",
              "    </tr>\n",
              "    <tr>\n",
              "      <th>7</th>\n",
              "      <td>8</td>\n",
              "      <td>15656148</td>\n",
              "      <td>Obinna</td>\n",
              "      <td>376</td>\n",
              "      <td>Germany</td>\n",
              "      <td>Female</td>\n",
              "      <td>29</td>\n",
              "      <td>4</td>\n",
              "      <td>115046.74</td>\n",
              "      <td>4</td>\n",
              "      <td>1</td>\n",
              "      <td>0</td>\n",
              "      <td>119346.88</td>\n",
              "      <td>1</td>\n",
              "    </tr>\n",
              "    <tr>\n",
              "      <th>8</th>\n",
              "      <td>9</td>\n",
              "      <td>15792365</td>\n",
              "      <td>He</td>\n",
              "      <td>501</td>\n",
              "      <td>France</td>\n",
              "      <td>Male</td>\n",
              "      <td>44</td>\n",
              "      <td>4</td>\n",
              "      <td>142051.07</td>\n",
              "      <td>2</td>\n",
              "      <td>0</td>\n",
              "      <td>1</td>\n",
              "      <td>74940.50</td>\n",
              "      <td>0</td>\n",
              "    </tr>\n",
              "    <tr>\n",
              "      <th>9</th>\n",
              "      <td>10</td>\n",
              "      <td>15592389</td>\n",
              "      <td>H?</td>\n",
              "      <td>684</td>\n",
              "      <td>France</td>\n",
              "      <td>Male</td>\n",
              "      <td>27</td>\n",
              "      <td>2</td>\n",
              "      <td>134603.88</td>\n",
              "      <td>1</td>\n",
              "      <td>1</td>\n",
              "      <td>1</td>\n",
              "      <td>71725.73</td>\n",
              "      <td>0</td>\n",
              "    </tr>\n",
              "  </tbody>\n",
              "</table>\n",
              "</div>"
            ],
            "text/plain": [
              "   RowNumber  CustomerId   Surname  CreditScore Geography  Gender  Age  \\\n",
              "0          1    15634602  Hargrave          619    France  Female   42   \n",
              "1          2    15647311      Hill          608     Spain  Female   41   \n",
              "2          3    15619304      Onio          502    France  Female   42   \n",
              "3          4    15701354      Boni          699    France  Female   39   \n",
              "4          5    15737888  Mitchell          850     Spain  Female   43   \n",
              "5          6    15574012       Chu          645     Spain    Male   44   \n",
              "6          7    15592531  Bartlett          822    France    Male   50   \n",
              "7          8    15656148    Obinna          376   Germany  Female   29   \n",
              "8          9    15792365        He          501    France    Male   44   \n",
              "9         10    15592389        H?          684    France    Male   27   \n",
              "\n",
              "   Tenure    Balance  NumOfProducts  HasCrCard  IsActiveMember  \\\n",
              "0       2       0.00              1          1               1   \n",
              "1       1   83807.86              1          0               1   \n",
              "2       8  159660.80              3          1               0   \n",
              "3       1       0.00              2          0               0   \n",
              "4       2  125510.82              1          1               1   \n",
              "5       8  113755.78              2          1               0   \n",
              "6       7       0.00              2          1               1   \n",
              "7       4  115046.74              4          1               0   \n",
              "8       4  142051.07              2          0               1   \n",
              "9       2  134603.88              1          1               1   \n",
              "\n",
              "   EstimatedSalary  Exited  \n",
              "0        101348.88       1  \n",
              "1        112542.58       0  \n",
              "2        113931.57       1  \n",
              "3         93826.63       0  \n",
              "4         79084.10       0  \n",
              "5        149756.71       1  \n",
              "6         10062.80       0  \n",
              "7        119346.88       1  \n",
              "8         74940.50       0  \n",
              "9         71725.73       0  "
            ]
          },
          "metadata": {
            "tags": []
          },
          "execution_count": 43
        }
      ]
    },
    {
      "metadata": {
        "id": "QQ1RyuvdTEG3",
        "colab_type": "code",
        "outputId": "e2b05e3b-a0e0-4662-8458-16881ce8ab55",
        "colab": {
          "base_uri": "https://localhost:8080/",
          "height": 33
        }
      },
      "cell_type": "code",
      "source": [
        "# Aqui iremos visualizar o shape do nosso dataset, ou seja, quantas colunas e quantas linhas temos.\n",
        "dataset.shape"
      ],
      "execution_count": 0,
      "outputs": [
        {
          "output_type": "execute_result",
          "data": {
            "text/plain": [
              "(10000, 14)"
            ]
          },
          "metadata": {
            "tags": []
          },
          "execution_count": 44
        }
      ]
    },
    {
      "metadata": {
        "id": "h_iCVRSYb8kX",
        "colab_type": "code",
        "outputId": "15c09713-4f9c-4915-ce92-6bbb9c9b3689",
        "colab": {
          "base_uri": "https://localhost:8080/",
          "height": 277
        }
      },
      "cell_type": "code",
      "source": [
        "# Aqui temos uma analise descritiva das variáveis do nosso dataset. Dados importantes como media, desvio padrao, minimo, maximo, quartis, quantidade e etc.\n",
        "dataset.describe().round(2)"
      ],
      "execution_count": 0,
      "outputs": [
        {
          "output_type": "execute_result",
          "data": {
            "text/html": [
              "<div>\n",
              "<style scoped>\n",
              "    .dataframe tbody tr th:only-of-type {\n",
              "        vertical-align: middle;\n",
              "    }\n",
              "\n",
              "    .dataframe tbody tr th {\n",
              "        vertical-align: top;\n",
              "    }\n",
              "\n",
              "    .dataframe thead th {\n",
              "        text-align: right;\n",
              "    }\n",
              "</style>\n",
              "<table border=\"1\" class=\"dataframe\">\n",
              "  <thead>\n",
              "    <tr style=\"text-align: right;\">\n",
              "      <th></th>\n",
              "      <th>RowNumber</th>\n",
              "      <th>CustomerId</th>\n",
              "      <th>CreditScore</th>\n",
              "      <th>Age</th>\n",
              "      <th>Tenure</th>\n",
              "      <th>Balance</th>\n",
              "      <th>NumOfProducts</th>\n",
              "      <th>HasCrCard</th>\n",
              "      <th>IsActiveMember</th>\n",
              "      <th>EstimatedSalary</th>\n",
              "      <th>Exited</th>\n",
              "    </tr>\n",
              "  </thead>\n",
              "  <tbody>\n",
              "    <tr>\n",
              "      <th>count</th>\n",
              "      <td>10000.00</td>\n",
              "      <td>10000.00</td>\n",
              "      <td>10000.00</td>\n",
              "      <td>10000.00</td>\n",
              "      <td>10000.00</td>\n",
              "      <td>10000.00</td>\n",
              "      <td>10000.00</td>\n",
              "      <td>10000.00</td>\n",
              "      <td>10000.00</td>\n",
              "      <td>10000.00</td>\n",
              "      <td>10000.0</td>\n",
              "    </tr>\n",
              "    <tr>\n",
              "      <th>mean</th>\n",
              "      <td>5000.50</td>\n",
              "      <td>15690940.57</td>\n",
              "      <td>650.53</td>\n",
              "      <td>38.92</td>\n",
              "      <td>5.01</td>\n",
              "      <td>76485.89</td>\n",
              "      <td>1.53</td>\n",
              "      <td>0.71</td>\n",
              "      <td>0.52</td>\n",
              "      <td>100090.24</td>\n",
              "      <td>0.2</td>\n",
              "    </tr>\n",
              "    <tr>\n",
              "      <th>std</th>\n",
              "      <td>2886.90</td>\n",
              "      <td>71936.19</td>\n",
              "      <td>96.65</td>\n",
              "      <td>10.49</td>\n",
              "      <td>2.89</td>\n",
              "      <td>62397.41</td>\n",
              "      <td>0.58</td>\n",
              "      <td>0.46</td>\n",
              "      <td>0.50</td>\n",
              "      <td>57510.49</td>\n",
              "      <td>0.4</td>\n",
              "    </tr>\n",
              "    <tr>\n",
              "      <th>min</th>\n",
              "      <td>1.00</td>\n",
              "      <td>15565701.00</td>\n",
              "      <td>350.00</td>\n",
              "      <td>18.00</td>\n",
              "      <td>0.00</td>\n",
              "      <td>0.00</td>\n",
              "      <td>1.00</td>\n",
              "      <td>0.00</td>\n",
              "      <td>0.00</td>\n",
              "      <td>11.58</td>\n",
              "      <td>0.0</td>\n",
              "    </tr>\n",
              "    <tr>\n",
              "      <th>25%</th>\n",
              "      <td>2500.75</td>\n",
              "      <td>15628528.25</td>\n",
              "      <td>584.00</td>\n",
              "      <td>32.00</td>\n",
              "      <td>3.00</td>\n",
              "      <td>0.00</td>\n",
              "      <td>1.00</td>\n",
              "      <td>0.00</td>\n",
              "      <td>0.00</td>\n",
              "      <td>51002.11</td>\n",
              "      <td>0.0</td>\n",
              "    </tr>\n",
              "    <tr>\n",
              "      <th>50%</th>\n",
              "      <td>5000.50</td>\n",
              "      <td>15690738.00</td>\n",
              "      <td>652.00</td>\n",
              "      <td>37.00</td>\n",
              "      <td>5.00</td>\n",
              "      <td>97198.54</td>\n",
              "      <td>1.00</td>\n",
              "      <td>1.00</td>\n",
              "      <td>1.00</td>\n",
              "      <td>100193.92</td>\n",
              "      <td>0.0</td>\n",
              "    </tr>\n",
              "    <tr>\n",
              "      <th>75%</th>\n",
              "      <td>7500.25</td>\n",
              "      <td>15753233.75</td>\n",
              "      <td>718.00</td>\n",
              "      <td>44.00</td>\n",
              "      <td>7.00</td>\n",
              "      <td>127644.24</td>\n",
              "      <td>2.00</td>\n",
              "      <td>1.00</td>\n",
              "      <td>1.00</td>\n",
              "      <td>149388.25</td>\n",
              "      <td>0.0</td>\n",
              "    </tr>\n",
              "    <tr>\n",
              "      <th>max</th>\n",
              "      <td>10000.00</td>\n",
              "      <td>15815690.00</td>\n",
              "      <td>850.00</td>\n",
              "      <td>92.00</td>\n",
              "      <td>10.00</td>\n",
              "      <td>250898.09</td>\n",
              "      <td>4.00</td>\n",
              "      <td>1.00</td>\n",
              "      <td>1.00</td>\n",
              "      <td>199992.48</td>\n",
              "      <td>1.0</td>\n",
              "    </tr>\n",
              "  </tbody>\n",
              "</table>\n",
              "</div>"
            ],
            "text/plain": [
              "       RowNumber   CustomerId  CreditScore       Age    Tenure    Balance  \\\n",
              "count   10000.00     10000.00     10000.00  10000.00  10000.00   10000.00   \n",
              "mean     5000.50  15690940.57       650.53     38.92      5.01   76485.89   \n",
              "std      2886.90     71936.19        96.65     10.49      2.89   62397.41   \n",
              "min         1.00  15565701.00       350.00     18.00      0.00       0.00   \n",
              "25%      2500.75  15628528.25       584.00     32.00      3.00       0.00   \n",
              "50%      5000.50  15690738.00       652.00     37.00      5.00   97198.54   \n",
              "75%      7500.25  15753233.75       718.00     44.00      7.00  127644.24   \n",
              "max     10000.00  15815690.00       850.00     92.00     10.00  250898.09   \n",
              "\n",
              "       NumOfProducts  HasCrCard  IsActiveMember  EstimatedSalary   Exited  \n",
              "count       10000.00   10000.00        10000.00         10000.00  10000.0  \n",
              "mean            1.53       0.71            0.52        100090.24      0.2  \n",
              "std             0.58       0.46            0.50         57510.49      0.4  \n",
              "min             1.00       0.00            0.00            11.58      0.0  \n",
              "25%             1.00       0.00            0.00         51002.11      0.0  \n",
              "50%             1.00       1.00            1.00        100193.92      0.0  \n",
              "75%             2.00       1.00            1.00        149388.25      0.0  \n",
              "max             4.00       1.00            1.00        199992.48      1.0  "
            ]
          },
          "metadata": {
            "tags": []
          },
          "execution_count": 45
        }
      ]
    },
    {
      "metadata": {
        "id": "6dn340hdjALc",
        "colab_type": "code",
        "outputId": "2656095d-49d8-4a31-a823-43d4a30ebb34",
        "colab": {
          "base_uri": "https://localhost:8080/",
          "height": 363
        }
      },
      "cell_type": "code",
      "source": [
        "# Aqui temos a tabela de correlação, onde tentamos encontrar correlação entre as variáveis.\n",
        "dataset.corr().round(4)"
      ],
      "execution_count": 0,
      "outputs": [
        {
          "output_type": "execute_result",
          "data": {
            "text/html": [
              "<div>\n",
              "<style scoped>\n",
              "    .dataframe tbody tr th:only-of-type {\n",
              "        vertical-align: middle;\n",
              "    }\n",
              "\n",
              "    .dataframe tbody tr th {\n",
              "        vertical-align: top;\n",
              "    }\n",
              "\n",
              "    .dataframe thead th {\n",
              "        text-align: right;\n",
              "    }\n",
              "</style>\n",
              "<table border=\"1\" class=\"dataframe\">\n",
              "  <thead>\n",
              "    <tr style=\"text-align: right;\">\n",
              "      <th></th>\n",
              "      <th>RowNumber</th>\n",
              "      <th>CustomerId</th>\n",
              "      <th>CreditScore</th>\n",
              "      <th>Age</th>\n",
              "      <th>Tenure</th>\n",
              "      <th>Balance</th>\n",
              "      <th>NumOfProducts</th>\n",
              "      <th>HasCrCard</th>\n",
              "      <th>IsActiveMember</th>\n",
              "      <th>EstimatedSalary</th>\n",
              "      <th>Exited</th>\n",
              "    </tr>\n",
              "  </thead>\n",
              "  <tbody>\n",
              "    <tr>\n",
              "      <th>RowNumber</th>\n",
              "      <td>1.0000</td>\n",
              "      <td>0.0042</td>\n",
              "      <td>0.0058</td>\n",
              "      <td>0.0008</td>\n",
              "      <td>-0.0065</td>\n",
              "      <td>-0.0091</td>\n",
              "      <td>0.0072</td>\n",
              "      <td>0.0006</td>\n",
              "      <td>0.0120</td>\n",
              "      <td>-0.0060</td>\n",
              "      <td>-0.0166</td>\n",
              "    </tr>\n",
              "    <tr>\n",
              "      <th>CustomerId</th>\n",
              "      <td>0.0042</td>\n",
              "      <td>1.0000</td>\n",
              "      <td>0.0053</td>\n",
              "      <td>0.0095</td>\n",
              "      <td>-0.0149</td>\n",
              "      <td>-0.0124</td>\n",
              "      <td>0.0170</td>\n",
              "      <td>-0.0140</td>\n",
              "      <td>0.0017</td>\n",
              "      <td>0.0153</td>\n",
              "      <td>-0.0062</td>\n",
              "    </tr>\n",
              "    <tr>\n",
              "      <th>CreditScore</th>\n",
              "      <td>0.0058</td>\n",
              "      <td>0.0053</td>\n",
              "      <td>1.0000</td>\n",
              "      <td>-0.0040</td>\n",
              "      <td>0.0008</td>\n",
              "      <td>0.0063</td>\n",
              "      <td>0.0122</td>\n",
              "      <td>-0.0055</td>\n",
              "      <td>0.0257</td>\n",
              "      <td>-0.0014</td>\n",
              "      <td>-0.0271</td>\n",
              "    </tr>\n",
              "    <tr>\n",
              "      <th>Age</th>\n",
              "      <td>0.0008</td>\n",
              "      <td>0.0095</td>\n",
              "      <td>-0.0040</td>\n",
              "      <td>1.0000</td>\n",
              "      <td>-0.0100</td>\n",
              "      <td>0.0283</td>\n",
              "      <td>-0.0307</td>\n",
              "      <td>-0.0117</td>\n",
              "      <td>0.0855</td>\n",
              "      <td>-0.0072</td>\n",
              "      <td>0.2853</td>\n",
              "    </tr>\n",
              "    <tr>\n",
              "      <th>Tenure</th>\n",
              "      <td>-0.0065</td>\n",
              "      <td>-0.0149</td>\n",
              "      <td>0.0008</td>\n",
              "      <td>-0.0100</td>\n",
              "      <td>1.0000</td>\n",
              "      <td>-0.0123</td>\n",
              "      <td>0.0134</td>\n",
              "      <td>0.0226</td>\n",
              "      <td>-0.0284</td>\n",
              "      <td>0.0078</td>\n",
              "      <td>-0.0140</td>\n",
              "    </tr>\n",
              "    <tr>\n",
              "      <th>Balance</th>\n",
              "      <td>-0.0091</td>\n",
              "      <td>-0.0124</td>\n",
              "      <td>0.0063</td>\n",
              "      <td>0.0283</td>\n",
              "      <td>-0.0123</td>\n",
              "      <td>1.0000</td>\n",
              "      <td>-0.3042</td>\n",
              "      <td>-0.0149</td>\n",
              "      <td>-0.0101</td>\n",
              "      <td>0.0128</td>\n",
              "      <td>0.1185</td>\n",
              "    </tr>\n",
              "    <tr>\n",
              "      <th>NumOfProducts</th>\n",
              "      <td>0.0072</td>\n",
              "      <td>0.0170</td>\n",
              "      <td>0.0122</td>\n",
              "      <td>-0.0307</td>\n",
              "      <td>0.0134</td>\n",
              "      <td>-0.3042</td>\n",
              "      <td>1.0000</td>\n",
              "      <td>0.0032</td>\n",
              "      <td>0.0096</td>\n",
              "      <td>0.0142</td>\n",
              "      <td>-0.0478</td>\n",
              "    </tr>\n",
              "    <tr>\n",
              "      <th>HasCrCard</th>\n",
              "      <td>0.0006</td>\n",
              "      <td>-0.0140</td>\n",
              "      <td>-0.0055</td>\n",
              "      <td>-0.0117</td>\n",
              "      <td>0.0226</td>\n",
              "      <td>-0.0149</td>\n",
              "      <td>0.0032</td>\n",
              "      <td>1.0000</td>\n",
              "      <td>-0.0119</td>\n",
              "      <td>-0.0099</td>\n",
              "      <td>-0.0071</td>\n",
              "    </tr>\n",
              "    <tr>\n",
              "      <th>IsActiveMember</th>\n",
              "      <td>0.0120</td>\n",
              "      <td>0.0017</td>\n",
              "      <td>0.0257</td>\n",
              "      <td>0.0855</td>\n",
              "      <td>-0.0284</td>\n",
              "      <td>-0.0101</td>\n",
              "      <td>0.0096</td>\n",
              "      <td>-0.0119</td>\n",
              "      <td>1.0000</td>\n",
              "      <td>-0.0114</td>\n",
              "      <td>-0.1561</td>\n",
              "    </tr>\n",
              "    <tr>\n",
              "      <th>EstimatedSalary</th>\n",
              "      <td>-0.0060</td>\n",
              "      <td>0.0153</td>\n",
              "      <td>-0.0014</td>\n",
              "      <td>-0.0072</td>\n",
              "      <td>0.0078</td>\n",
              "      <td>0.0128</td>\n",
              "      <td>0.0142</td>\n",
              "      <td>-0.0099</td>\n",
              "      <td>-0.0114</td>\n",
              "      <td>1.0000</td>\n",
              "      <td>0.0121</td>\n",
              "    </tr>\n",
              "    <tr>\n",
              "      <th>Exited</th>\n",
              "      <td>-0.0166</td>\n",
              "      <td>-0.0062</td>\n",
              "      <td>-0.0271</td>\n",
              "      <td>0.2853</td>\n",
              "      <td>-0.0140</td>\n",
              "      <td>0.1185</td>\n",
              "      <td>-0.0478</td>\n",
              "      <td>-0.0071</td>\n",
              "      <td>-0.1561</td>\n",
              "      <td>0.0121</td>\n",
              "      <td>1.0000</td>\n",
              "    </tr>\n",
              "  </tbody>\n",
              "</table>\n",
              "</div>"
            ],
            "text/plain": [
              "                 RowNumber  CustomerId  CreditScore     Age  Tenure  Balance  \\\n",
              "RowNumber           1.0000      0.0042       0.0058  0.0008 -0.0065  -0.0091   \n",
              "CustomerId          0.0042      1.0000       0.0053  0.0095 -0.0149  -0.0124   \n",
              "CreditScore         0.0058      0.0053       1.0000 -0.0040  0.0008   0.0063   \n",
              "Age                 0.0008      0.0095      -0.0040  1.0000 -0.0100   0.0283   \n",
              "Tenure             -0.0065     -0.0149       0.0008 -0.0100  1.0000  -0.0123   \n",
              "Balance            -0.0091     -0.0124       0.0063  0.0283 -0.0123   1.0000   \n",
              "NumOfProducts       0.0072      0.0170       0.0122 -0.0307  0.0134  -0.3042   \n",
              "HasCrCard           0.0006     -0.0140      -0.0055 -0.0117  0.0226  -0.0149   \n",
              "IsActiveMember      0.0120      0.0017       0.0257  0.0855 -0.0284  -0.0101   \n",
              "EstimatedSalary    -0.0060      0.0153      -0.0014 -0.0072  0.0078   0.0128   \n",
              "Exited             -0.0166     -0.0062      -0.0271  0.2853 -0.0140   0.1185   \n",
              "\n",
              "                 NumOfProducts  HasCrCard  IsActiveMember  EstimatedSalary  \\\n",
              "RowNumber               0.0072     0.0006          0.0120          -0.0060   \n",
              "CustomerId              0.0170    -0.0140          0.0017           0.0153   \n",
              "CreditScore             0.0122    -0.0055          0.0257          -0.0014   \n",
              "Age                    -0.0307    -0.0117          0.0855          -0.0072   \n",
              "Tenure                  0.0134     0.0226         -0.0284           0.0078   \n",
              "Balance                -0.3042    -0.0149         -0.0101           0.0128   \n",
              "NumOfProducts           1.0000     0.0032          0.0096           0.0142   \n",
              "HasCrCard               0.0032     1.0000         -0.0119          -0.0099   \n",
              "IsActiveMember          0.0096    -0.0119          1.0000          -0.0114   \n",
              "EstimatedSalary         0.0142    -0.0099         -0.0114           1.0000   \n",
              "Exited                 -0.0478    -0.0071         -0.1561           0.0121   \n",
              "\n",
              "                 Exited  \n",
              "RowNumber       -0.0166  \n",
              "CustomerId      -0.0062  \n",
              "CreditScore     -0.0271  \n",
              "Age              0.2853  \n",
              "Tenure          -0.0140  \n",
              "Balance          0.1185  \n",
              "NumOfProducts   -0.0478  \n",
              "HasCrCard       -0.0071  \n",
              "IsActiveMember  -0.1561  \n",
              "EstimatedSalary  0.0121  \n",
              "Exited           1.0000  "
            ]
          },
          "metadata": {
            "tags": []
          },
          "execution_count": 46
        }
      ]
    },
    {
      "metadata": {
        "id": "AwN5ousvwK6K",
        "colab_type": "code",
        "outputId": "3f53017c-a3bb-46f0-836c-066fffe80a8f",
        "colab": {
          "base_uri": "https://localhost:8080/",
          "height": 546
        }
      },
      "cell_type": "code",
      "source": [
        "# Aqui temos de forma gráfica a matriz de correlação, que tinhamos visto acima, no formato tabular.\n",
        "# Essa visualização nos permite inferir as correlações existentes entre as variáveis. Obviamente qualquer inferência precisa posteriormente ser provada formalmente.\n",
        "plt.subplots(figsize = (12, 8))\n",
        "sns.heatmap(dataset.corr().round(4), annot = True, cmap = 'Blues')\n",
        "plt.show()"
      ],
      "execution_count": 0,
      "outputs": [
        {
          "output_type": "display_data",
          "data": {
            "image/png": "[encoded data removed]",
            "text/plain": [
              "<Figure size 864x576 with 2 Axes>"
            ]
          },
          "metadata": {
            "tags": []
          }
        }
      ]
    },
    {
      "metadata": {
        "id": "ASVXIsiTqOZO",
        "colab_type": "code",
        "outputId": "a89c4ec2-efac-43e8-c562-6615026dfdd0",
        "colab": {
          "base_uri": "https://localhost:8080/",
          "height": 50
        }
      },
      "cell_type": "code",
      "source": [
        "sairam = dataset.Exited[dataset['Exited'] == 1].count()\n",
        "ficaram = dataset.Exited[dataset['Exited'] == 0].count()\n",
        "print('Sairam', sairam)\n",
        "print('Ficaram', ficaram)"
      ],
      "execution_count": 0,
      "outputs": [
        {
          "output_type": "stream",
          "text": [
            "Sairam 2037\n",
            "Ficaram 7963\n"
          ],
          "name": "stdout"
        }
      ]
    },
    {
      "metadata": {
        "id": "ScxgJWnD0ris",
        "colab_type": "code",
        "outputId": "7388ed7c-be61-48a0-cce0-6bd64521d2ee",
        "colab": {
          "base_uri": "https://localhost:8080/",
          "height": 133
        }
      },
      "cell_type": "code",
      "source": [
        "HasCrCard = dataset.query('HasCrCard == 1')\n",
        "teste = teste.groupby('Exited').count()\n",
        "teste = pd.DataFrame(teste['HasCrCard'])\n",
        "teste"
      ],
      "execution_count": 0,
      "outputs": [
        {
          "output_type": "execute_result",
          "data": {
            "text/html": [
              "<div>\n",
              "<style scoped>\n",
              "    .dataframe tbody tr th:only-of-type {\n",
              "        vertical-align: middle;\n",
              "    }\n",
              "\n",
              "    .dataframe tbody tr th {\n",
              "        vertical-align: top;\n",
              "    }\n",
              "\n",
              "    .dataframe thead th {\n",
              "        text-align: right;\n",
              "    }\n",
              "</style>\n",
              "<table border=\"1\" class=\"dataframe\">\n",
              "  <thead>\n",
              "    <tr style=\"text-align: right;\">\n",
              "      <th></th>\n",
              "      <th>HasCrCard</th>\n",
              "    </tr>\n",
              "    <tr>\n",
              "      <th>Exited</th>\n",
              "      <th></th>\n",
              "    </tr>\n",
              "  </thead>\n",
              "  <tbody>\n",
              "    <tr>\n",
              "      <th>0</th>\n",
              "      <td>5631</td>\n",
              "    </tr>\n",
              "    <tr>\n",
              "      <th>1</th>\n",
              "      <td>1424</td>\n",
              "    </tr>\n",
              "  </tbody>\n",
              "</table>\n",
              "</div>"
            ],
            "text/plain": [
              "        HasCrCard\n",
              "Exited           \n",
              "0            5631\n",
              "1            1424"
            ]
          },
          "metadata": {
            "tags": []
          },
          "execution_count": 214
        }
      ]
    },
    {
      "metadata": {
        "id": "UaNhskaM0i_R",
        "colab_type": "code",
        "outputId": "7f2d4b95-0e96-46c9-d6a8-21ba73f174d3",
        "colab": {
          "base_uri": "https://localhost:8080/",
          "height": 133
        }
      },
      "cell_type": "code",
      "source": [
        "teste = dataset.query('HasCrCard == 0')\n",
        "teste = teste.groupby('Exited').count()\n",
        "teste = pd.DataFrame(teste['HasCrCard'])\n",
        "teste"
      ],
      "execution_count": 0,
      "outputs": [
        {
          "output_type": "execute_result",
          "data": {
            "text/html": [
              "<div>\n",
              "<style scoped>\n",
              "    .dataframe tbody tr th:only-of-type {\n",
              "        vertical-align: middle;\n",
              "    }\n",
              "\n",
              "    .dataframe tbody tr th {\n",
              "        vertical-align: top;\n",
              "    }\n",
              "\n",
              "    .dataframe thead th {\n",
              "        text-align: right;\n",
              "    }\n",
              "</style>\n",
              "<table border=\"1\" class=\"dataframe\">\n",
              "  <thead>\n",
              "    <tr style=\"text-align: right;\">\n",
              "      <th></th>\n",
              "      <th>HasCrCard</th>\n",
              "    </tr>\n",
              "    <tr>\n",
              "      <th>Exited</th>\n",
              "      <th></th>\n",
              "    </tr>\n",
              "  </thead>\n",
              "  <tbody>\n",
              "    <tr>\n",
              "      <th>0</th>\n",
              "      <td>2332</td>\n",
              "    </tr>\n",
              "    <tr>\n",
              "      <th>1</th>\n",
              "      <td>613</td>\n",
              "    </tr>\n",
              "  </tbody>\n",
              "</table>\n",
              "</div>"
            ],
            "text/plain": [
              "        HasCrCard\n",
              "Exited           \n",
              "0            2332\n",
              "1             613"
            ]
          },
          "metadata": {
            "tags": []
          },
          "execution_count": 213
        }
      ]
    },
    {
      "metadata": {
        "id": "IY6DP1JfoNyB",
        "colab_type": "code",
        "outputId": "6d5c24f5-b9e2-494d-d4d9-0fde2e6521f4",
        "colab": {
          "base_uri": "https://localhost:8080/",
          "height": 375
        }
      },
      "cell_type": "code",
      "source": [
        "# Visualizamos a Proporção de Clientes que Evadiram e Ficaram\n",
        "labels = 'Evadiu', 'Ficou'\n",
        "sizes = [dataset.Exited[dataset['Exited'] == 1].count(), dataset.Exited[dataset['Exited'] == 0].count()]\n",
        "explode = (0, 0.1)\n",
        "fig1, ax1 = plt.subplots(figsize = (9, 6))\n",
        "ax1.pie(sizes, explode = explode, labels = labels, autopct = '%1.1f%%', shadow = True, startangle = 90, textprops = {'fontsize': 13, 'weight': 'bold'})\n",
        "ax1.axis('equal')\n",
        "plt.title('Proporção de Clientes que Sairam e Ficaram', size = 14)\n",
        "plt.show()"
      ],
      "execution_count": 0,
      "outputs": [
        {
          "output_type": "display_data",
          "data": {
            "image/png": "[encoded data removed]",
            "text/plain": [
              "<Figure size 648x432 with 1 Axes>"
            ]
          },
          "metadata": {
            "tags": []
          }
        }
      ]
    },
    {
      "metadata": {
        "id": "WqKFizDvo4Io",
        "colab_type": "code",
        "outputId": "575ad1fe-0c1f-4b0c-b882-f4ac2f9a72fb",
        "colab": {
          "base_uri": "https://localhost:8080/",
          "height": 622
        }
      },
      "cell_type": "code",
      "source": [
        "# Vamos analisar a correlação de algumas variáveis binárias com a saída do cliente\n",
        "fig, axarr = plt.subplots(2, 2, figsize = (25, 10))\n",
        "sns.countplot(x = 'Geography', hue = 'Exited',data = dataset, ax = axarr[0][0])\n",
        "sns.countplot(x = 'Gender', hue = 'Exited',data = dataset, ax = axarr[0][1])\n",
        "sns.countplot(x = 'HasCrCard', hue = 'Exited',data = dataset, ax = axarr[1][0])\n",
        "sns.countplot(x = 'IsActiveMember', hue = 'Exited',data = dataset, ax = axarr[1][1])"
      ],
      "execution_count": 0,
      "outputs": [
        {
          "output_type": "execute_result",
          "data": {
            "text/plain": [
              "<matplotlib.axes._subplots.AxesSubplot at 0x7f8747b058d0>"
            ]
          },
          "metadata": {
            "tags": []
          },
          "execution_count": 48
        },
        {
          "output_type": "display_data",
          "data": {
            "image/png": "[encoded data removed]",
            "text/plain": [
              "<Figure size 1800x720 with 4 Axes>"
            ]
          },
          "metadata": {
            "tags": []
          }
        }
      ]
    },
    {
      "metadata": {
        "id": "A7eI6Fz4o-BZ",
        "colab_type": "code",
        "outputId": "6d655bb0-1cd5-444a-d008-435770f5a213",
        "colab": {
          "base_uri": "https://localhost:8080/",
          "height": 622
        }
      },
      "cell_type": "code",
      "source": [
        "# Relação baseada em atributos contínuos: Score de Credito, Idade, Tempo de Relacionamento, Saldo, Numero de Produtos e Salario Estimado\n",
        "fig, axarr = plt.subplots(2, 3, figsize = (25, 10))\n",
        "sns.boxplot(y = 'CreditScore', x = 'Exited', hue = 'Exited', data = dataset, ax = axarr[0][0])\n",
        "sns.boxplot(y = 'Age', x = 'Exited', hue = 'Exited', data = dataset , ax = axarr[0][1])\n",
        "sns.boxplot(y = 'Tenure', x = 'Exited', hue = 'Exited', data = dataset, ax = axarr[0][2])\n",
        "sns.boxplot(y = 'Balance', x = 'Exited', hue = 'Exited', data = dataset, ax = axarr[1][0])\n",
        "sns.boxplot(y = 'NumOfProducts', x = 'Exited', hue = 'Exited', data = dataset, ax = axarr[1][1])\n",
        "sns.boxplot(y = 'EstimatedSalary', x = 'Exited', hue = 'Exited', data = dataset, ax = axarr[1][2])"
      ],
      "execution_count": 0,
      "outputs": [
        {
          "output_type": "execute_result",
          "data": {
            "text/plain": [
              "<matplotlib.axes._subplots.AxesSubplot at 0x7f873e1a92b0>"
            ]
          },
          "metadata": {
            "tags": []
          },
          "execution_count": 81
        },
        {
          "output_type": "display_data",
          "data": {
            "image/png": "[encoded data removed]",
            "text/plain": [
              "<Figure size 1800x720 with 6 Axes>"
            ]
          },
          "metadata": {
            "tags": []
          }
        }
      ]
    },
    {
      "metadata": {
        "id": "zUz7gCbUv78M",
        "colab_type": "code",
        "outputId": "3783a6bd-bc9d-4ce1-9fef-a38f60d2f530",
        "colab": {
          "base_uri": "https://localhost:8080/",
          "height": 225
        }
      },
      "cell_type": "code",
      "source": [
        "# Visualização do comportamento da variável Idade em relação à variável Saida (Exited)\n",
        "facet = sns.FacetGrid(dataset, hue = 'Exited', aspect = 4)\n",
        "facet.map(sns.kdeplot, 'Age', shade = True)\n",
        "facet.set(xlim = (0, dataset['Age'].max()))\n",
        "facet.add_legend()\n",
        "plt.show()"
      ],
      "execution_count": 0,
      "outputs": [
        {
          "output_type": "display_data",
          "data": {
            "image/png": "[encoded data removed]",
            "text/plain": [
              "<Figure size 905.625x216 with 1 Axes>"
            ]
          },
          "metadata": {
            "tags": []
          }
        }
      ]
    },
    {
      "metadata": {
        "id": "wRzw2s3Xv_DC",
        "colab_type": "code",
        "outputId": "d55342e0-a8c8-46cc-b51a-e8a45dd77c93",
        "colab": {
          "base_uri": "https://localhost:8080/",
          "height": 225
        }
      },
      "cell_type": "code",
      "source": [
        "# Visualização do comportamento da variável Saldo em relação à variável Saida (Exited)\n",
        "facet = sns.FacetGrid(dataset, hue = 'Exited', aspect = 4)\n",
        "facet.map(sns.kdeplot, 'Balance', shade = True)\n",
        "facet.set(xlim = (0, dataset['Balance'].max()))\n",
        "facet.add_legend()\n",
        "plt.show()"
      ],
      "execution_count": 0,
      "outputs": [
        {
          "output_type": "display_data",
          "data": {
            "image/png": "[encoded data removed]",
            "text/plain": [
              "<Figure size 905.625x216 with 1 Axes>"
            ]
          },
          "metadata": {
            "tags": []
          }
        }
      ]
    },
    {
      "metadata": {
        "id": "tZybCrN4wB02",
        "colab_type": "code",
        "outputId": "e23eba7d-5e1c-4014-9cc4-de7ad8341a1e",
        "colab": {
          "base_uri": "https://localhost:8080/",
          "height": 225
        }
      },
      "cell_type": "code",
      "source": [
        "# Visualização do comportamento da variável Score de Crédito em relação à variável Saida (Exited)\n",
        "facet = sns.FacetGrid(dataset, hue = 'Exited', aspect = 7)\n",
        "facet.map(sns.kdeplot, 'CreditScore', shade = True)\n",
        "facet.set(xlim = (0, dataset['CreditScore'].max()))\n",
        "facet.add_legend()\n",
        "plt.show()"
      ],
      "execution_count": 0,
      "outputs": [
        {
          "output_type": "display_data",
          "data": {
            "image/png": "[encoded data removed]",
            "text/plain": [
              "<Figure size 1553.62x216 with 1 Axes>"
            ]
          },
          "metadata": {
            "tags": []
          }
        }
      ]
    },
    {
      "metadata": {
        "id": "hX7GaeMGTSlg",
        "colab_type": "text"
      },
      "cell_type": "markdown",
      "source": [
        "#### PROCESSAMENTO DE DADOS"
      ]
    },
    {
      "metadata": {
        "id": "iKivGYDSIWVD",
        "colab_type": "code",
        "colab": {}
      },
      "cell_type": "code",
      "source": [
        "# Divisão do Dataset em Variáveis Independentes e Variáveis Dependentes\n",
        "# Variáveis Independentes - Features ou Inputs\n",
        "# Variáveis Dependentes - Classe de Saída ou Output\n",
        "X = dataset.iloc[:, 3:13].values\n",
        "y = dataset.iloc[:, 13].values"
      ],
      "execution_count": 0,
      "outputs": []
    },
    {
      "metadata": {
        "id": "z4FKh0a5FC7n",
        "colab_type": "code",
        "outputId": "3c01a013-aa52-46f6-8ca6-3b8e8fb8c518",
        "colab": {
          "base_uri": "https://localhost:8080/",
          "height": 335
        }
      },
      "cell_type": "code",
      "source": [
        "df = pd.DataFrame(X)\n",
        "df.head(10)"
      ],
      "execution_count": 0,
      "outputs": [
        {
          "output_type": "execute_result",
          "data": {
            "text/html": [
              "<div>\n",
              "<style scoped>\n",
              "    .dataframe tbody tr th:only-of-type {\n",
              "        vertical-align: middle;\n",
              "    }\n",
              "\n",
              "    .dataframe tbody tr th {\n",
              "        vertical-align: top;\n",
              "    }\n",
              "\n",
              "    .dataframe thead th {\n",
              "        text-align: right;\n",
              "    }\n",
              "</style>\n",
              "<table border=\"1\" class=\"dataframe\">\n",
              "  <thead>\n",
              "    <tr style=\"text-align: right;\">\n",
              "      <th></th>\n",
              "      <th>0</th>\n",
              "      <th>1</th>\n",
              "      <th>2</th>\n",
              "      <th>3</th>\n",
              "      <th>4</th>\n",
              "      <th>5</th>\n",
              "      <th>6</th>\n",
              "      <th>7</th>\n",
              "      <th>8</th>\n",
              "      <th>9</th>\n",
              "    </tr>\n",
              "  </thead>\n",
              "  <tbody>\n",
              "    <tr>\n",
              "      <th>0</th>\n",
              "      <td>619</td>\n",
              "      <td>France</td>\n",
              "      <td>Female</td>\n",
              "      <td>42</td>\n",
              "      <td>2</td>\n",
              "      <td>0</td>\n",
              "      <td>1</td>\n",
              "      <td>1</td>\n",
              "      <td>1</td>\n",
              "      <td>101349</td>\n",
              "    </tr>\n",
              "    <tr>\n",
              "      <th>1</th>\n",
              "      <td>608</td>\n",
              "      <td>Spain</td>\n",
              "      <td>Female</td>\n",
              "      <td>41</td>\n",
              "      <td>1</td>\n",
              "      <td>83807.9</td>\n",
              "      <td>1</td>\n",
              "      <td>0</td>\n",
              "      <td>1</td>\n",
              "      <td>112543</td>\n",
              "    </tr>\n",
              "    <tr>\n",
              "      <th>2</th>\n",
              "      <td>502</td>\n",
              "      <td>France</td>\n",
              "      <td>Female</td>\n",
              "      <td>42</td>\n",
              "      <td>8</td>\n",
              "      <td>159661</td>\n",
              "      <td>3</td>\n",
              "      <td>1</td>\n",
              "      <td>0</td>\n",
              "      <td>113932</td>\n",
              "    </tr>\n",
              "    <tr>\n",
              "      <th>3</th>\n",
              "      <td>699</td>\n",
              "      <td>France</td>\n",
              "      <td>Female</td>\n",
              "      <td>39</td>\n",
              "      <td>1</td>\n",
              "      <td>0</td>\n",
              "      <td>2</td>\n",
              "      <td>0</td>\n",
              "      <td>0</td>\n",
              "      <td>93826.6</td>\n",
              "    </tr>\n",
              "    <tr>\n",
              "      <th>4</th>\n",
              "      <td>850</td>\n",
              "      <td>Spain</td>\n",
              "      <td>Female</td>\n",
              "      <td>43</td>\n",
              "      <td>2</td>\n",
              "      <td>125511</td>\n",
              "      <td>1</td>\n",
              "      <td>1</td>\n",
              "      <td>1</td>\n",
              "      <td>79084.1</td>\n",
              "    </tr>\n",
              "    <tr>\n",
              "      <th>5</th>\n",
              "      <td>645</td>\n",
              "      <td>Spain</td>\n",
              "      <td>Male</td>\n",
              "      <td>44</td>\n",
              "      <td>8</td>\n",
              "      <td>113756</td>\n",
              "      <td>2</td>\n",
              "      <td>1</td>\n",
              "      <td>0</td>\n",
              "      <td>149757</td>\n",
              "    </tr>\n",
              "    <tr>\n",
              "      <th>6</th>\n",
              "      <td>822</td>\n",
              "      <td>France</td>\n",
              "      <td>Male</td>\n",
              "      <td>50</td>\n",
              "      <td>7</td>\n",
              "      <td>0</td>\n",
              "      <td>2</td>\n",
              "      <td>1</td>\n",
              "      <td>1</td>\n",
              "      <td>10062.8</td>\n",
              "    </tr>\n",
              "    <tr>\n",
              "      <th>7</th>\n",
              "      <td>376</td>\n",
              "      <td>Germany</td>\n",
              "      <td>Female</td>\n",
              "      <td>29</td>\n",
              "      <td>4</td>\n",
              "      <td>115047</td>\n",
              "      <td>4</td>\n",
              "      <td>1</td>\n",
              "      <td>0</td>\n",
              "      <td>119347</td>\n",
              "    </tr>\n",
              "    <tr>\n",
              "      <th>8</th>\n",
              "      <td>501</td>\n",
              "      <td>France</td>\n",
              "      <td>Male</td>\n",
              "      <td>44</td>\n",
              "      <td>4</td>\n",
              "      <td>142051</td>\n",
              "      <td>2</td>\n",
              "      <td>0</td>\n",
              "      <td>1</td>\n",
              "      <td>74940.5</td>\n",
              "    </tr>\n",
              "    <tr>\n",
              "      <th>9</th>\n",
              "      <td>684</td>\n",
              "      <td>France</td>\n",
              "      <td>Male</td>\n",
              "      <td>27</td>\n",
              "      <td>2</td>\n",
              "      <td>134604</td>\n",
              "      <td>1</td>\n",
              "      <td>1</td>\n",
              "      <td>1</td>\n",
              "      <td>71725.7</td>\n",
              "    </tr>\n",
              "  </tbody>\n",
              "</table>\n",
              "</div>"
            ],
            "text/plain": [
              "     0        1       2   3  4        5  6  7  8        9\n",
              "0  619   France  Female  42  2        0  1  1  1   101349\n",
              "1  608    Spain  Female  41  1  83807.9  1  0  1   112543\n",
              "2  502   France  Female  42  8   159661  3  1  0   113932\n",
              "3  699   France  Female  39  1        0  2  0  0  93826.6\n",
              "4  850    Spain  Female  43  2   125511  1  1  1  79084.1\n",
              "5  645    Spain    Male  44  8   113756  2  1  0   149757\n",
              "6  822   France    Male  50  7        0  2  1  1  10062.8\n",
              "7  376  Germany  Female  29  4   115047  4  1  0   119347\n",
              "8  501   France    Male  44  4   142051  2  0  1  74940.5\n",
              "9  684   France    Male  27  2   134604  1  1  1  71725.7"
            ]
          },
          "metadata": {
            "tags": []
          },
          "execution_count": 234
        }
      ]
    },
    {
      "metadata": {
        "id": "ZqIXUXuVFCvj",
        "colab_type": "code",
        "colab": {}
      },
      "cell_type": "code",
      "source": [
        "# Codificando a Variável Independente Pais, de Categorica para Binária.\n",
        "# Será acrescentada mais 1 coluna no dataset, ficando assim 2 colunas para representar o pais.\n",
        "# Sera um array de 3 posições.\n",
        "labelencoder_X_1 = LabelEncoder()\n",
        "X[:, 1] = labelencoder_X_1.fit_transform(X[:, 1])"
      ],
      "execution_count": 0,
      "outputs": []
    },
    {
      "metadata": {
        "id": "xtw6O4eHFCmC",
        "colab_type": "code",
        "colab": {}
      },
      "cell_type": "code",
      "source": [
        "# Codificando a Variável Independente Genero, de Categorica para Binária.\n",
        "# Neste caso, os 2 valores categóricos, serão transformados em 2 valores binários.\n",
        "# Male será convertido para 1\n",
        "# Female será convertido para 0\n",
        "labelencoder_X_2 = LabelEncoder()\n",
        "X[:, 2] = labelencoder_X_2.fit_transform(X[:, 2])"
      ],
      "execution_count": 0,
      "outputs": []
    },
    {
      "metadata": {
        "id": "Iu-U_zfl866O",
        "colab_type": "code",
        "colab": {}
      },
      "cell_type": "code",
      "source": [
        "onehotencoder = OneHotEncoder(categorical_features = [1])\n",
        "X = onehotencoder.fit_transform(X).toarray()\n",
        "X = X[:, 1:]"
      ],
      "execution_count": 0,
      "outputs": []
    },
    {
      "metadata": {
        "id": "08Hq6cpKIWWU",
        "colab_type": "code",
        "outputId": "a69a6cd3-f2b9-425e-ef69-762ee6305693",
        "colab": {
          "base_uri": "https://localhost:8080/",
          "height": 335
        }
      },
      "cell_type": "code",
      "source": [
        "df = pd.DataFrame(X)\n",
        "df.head(10)"
      ],
      "execution_count": 0,
      "outputs": [
        {
          "output_type": "execute_result",
          "data": {
            "text/html": [
              "<div>\n",
              "<style scoped>\n",
              "    .dataframe tbody tr th:only-of-type {\n",
              "        vertical-align: middle;\n",
              "    }\n",
              "\n",
              "    .dataframe tbody tr th {\n",
              "        vertical-align: top;\n",
              "    }\n",
              "\n",
              "    .dataframe thead th {\n",
              "        text-align: right;\n",
              "    }\n",
              "</style>\n",
              "<table border=\"1\" class=\"dataframe\">\n",
              "  <thead>\n",
              "    <tr style=\"text-align: right;\">\n",
              "      <th></th>\n",
              "      <th>0</th>\n",
              "      <th>1</th>\n",
              "      <th>2</th>\n",
              "      <th>3</th>\n",
              "      <th>4</th>\n",
              "      <th>5</th>\n",
              "      <th>6</th>\n",
              "      <th>7</th>\n",
              "      <th>8</th>\n",
              "      <th>9</th>\n",
              "      <th>10</th>\n",
              "    </tr>\n",
              "  </thead>\n",
              "  <tbody>\n",
              "    <tr>\n",
              "      <th>0</th>\n",
              "      <td>0.0</td>\n",
              "      <td>0.0</td>\n",
              "      <td>619.0</td>\n",
              "      <td>0.0</td>\n",
              "      <td>42.0</td>\n",
              "      <td>2.0</td>\n",
              "      <td>0.00</td>\n",
              "      <td>1.0</td>\n",
              "      <td>1.0</td>\n",
              "      <td>1.0</td>\n",
              "      <td>101348.88</td>\n",
              "    </tr>\n",
              "    <tr>\n",
              "      <th>1</th>\n",
              "      <td>1.0</td>\n",
              "      <td>0.0</td>\n",
              "      <td>608.0</td>\n",
              "      <td>0.0</td>\n",
              "      <td>41.0</td>\n",
              "      <td>1.0</td>\n",
              "      <td>83807.86</td>\n",
              "      <td>1.0</td>\n",
              "      <td>0.0</td>\n",
              "      <td>1.0</td>\n",
              "      <td>112542.58</td>\n",
              "    </tr>\n",
              "    <tr>\n",
              "      <th>2</th>\n",
              "      <td>0.0</td>\n",
              "      <td>0.0</td>\n",
              "      <td>502.0</td>\n",
              "      <td>0.0</td>\n",
              "      <td>42.0</td>\n",
              "      <td>8.0</td>\n",
              "      <td>159660.80</td>\n",
              "      <td>3.0</td>\n",
              "      <td>1.0</td>\n",
              "      <td>0.0</td>\n",
              "      <td>113931.57</td>\n",
              "    </tr>\n",
              "    <tr>\n",
              "      <th>3</th>\n",
              "      <td>0.0</td>\n",
              "      <td>0.0</td>\n",
              "      <td>699.0</td>\n",
              "      <td>0.0</td>\n",
              "      <td>39.0</td>\n",
              "      <td>1.0</td>\n",
              "      <td>0.00</td>\n",
              "      <td>2.0</td>\n",
              "      <td>0.0</td>\n",
              "      <td>0.0</td>\n",
              "      <td>93826.63</td>\n",
              "    </tr>\n",
              "    <tr>\n",
              "      <th>4</th>\n",
              "      <td>1.0</td>\n",
              "      <td>0.0</td>\n",
              "      <td>850.0</td>\n",
              "      <td>0.0</td>\n",
              "      <td>43.0</td>\n",
              "      <td>2.0</td>\n",
              "      <td>125510.82</td>\n",
              "      <td>1.0</td>\n",
              "      <td>1.0</td>\n",
              "      <td>1.0</td>\n",
              "      <td>79084.10</td>\n",
              "    </tr>\n",
              "    <tr>\n",
              "      <th>5</th>\n",
              "      <td>1.0</td>\n",
              "      <td>0.0</td>\n",
              "      <td>645.0</td>\n",
              "      <td>1.0</td>\n",
              "      <td>44.0</td>\n",
              "      <td>8.0</td>\n",
              "      <td>113755.78</td>\n",
              "      <td>2.0</td>\n",
              "      <td>1.0</td>\n",
              "      <td>0.0</td>\n",
              "      <td>149756.71</td>\n",
              "    </tr>\n",
              "    <tr>\n",
              "      <th>6</th>\n",
              "      <td>0.0</td>\n",
              "      <td>0.0</td>\n",
              "      <td>822.0</td>\n",
              "      <td>1.0</td>\n",
              "      <td>50.0</td>\n",
              "      <td>7.0</td>\n",
              "      <td>0.00</td>\n",
              "      <td>2.0</td>\n",
              "      <td>1.0</td>\n",
              "      <td>1.0</td>\n",
              "      <td>10062.80</td>\n",
              "    </tr>\n",
              "    <tr>\n",
              "      <th>7</th>\n",
              "      <td>0.0</td>\n",
              "      <td>1.0</td>\n",
              "      <td>376.0</td>\n",
              "      <td>0.0</td>\n",
              "      <td>29.0</td>\n",
              "      <td>4.0</td>\n",
              "      <td>115046.74</td>\n",
              "      <td>4.0</td>\n",
              "      <td>1.0</td>\n",
              "      <td>0.0</td>\n",
              "      <td>119346.88</td>\n",
              "    </tr>\n",
              "    <tr>\n",
              "      <th>8</th>\n",
              "      <td>0.0</td>\n",
              "      <td>0.0</td>\n",
              "      <td>501.0</td>\n",
              "      <td>1.0</td>\n",
              "      <td>44.0</td>\n",
              "      <td>4.0</td>\n",
              "      <td>142051.07</td>\n",
              "      <td>2.0</td>\n",
              "      <td>0.0</td>\n",
              "      <td>1.0</td>\n",
              "      <td>74940.50</td>\n",
              "    </tr>\n",
              "    <tr>\n",
              "      <th>9</th>\n",
              "      <td>0.0</td>\n",
              "      <td>0.0</td>\n",
              "      <td>684.0</td>\n",
              "      <td>1.0</td>\n",
              "      <td>27.0</td>\n",
              "      <td>2.0</td>\n",
              "      <td>134603.88</td>\n",
              "      <td>1.0</td>\n",
              "      <td>1.0</td>\n",
              "      <td>1.0</td>\n",
              "      <td>71725.73</td>\n",
              "    </tr>\n",
              "  </tbody>\n",
              "</table>\n",
              "</div>"
            ],
            "text/plain": [
              "    0    1      2    3     4    5          6    7    8    9          10\n",
              "0  0.0  0.0  619.0  0.0  42.0  2.0       0.00  1.0  1.0  1.0  101348.88\n",
              "1  1.0  0.0  608.0  0.0  41.0  1.0   83807.86  1.0  0.0  1.0  112542.58\n",
              "2  0.0  0.0  502.0  0.0  42.0  8.0  159660.80  3.0  1.0  0.0  113931.57\n",
              "3  0.0  0.0  699.0  0.0  39.0  1.0       0.00  2.0  0.0  0.0   93826.63\n",
              "4  1.0  0.0  850.0  0.0  43.0  2.0  125510.82  1.0  1.0  1.0   79084.10\n",
              "5  1.0  0.0  645.0  1.0  44.0  8.0  113755.78  2.0  1.0  0.0  149756.71\n",
              "6  0.0  0.0  822.0  1.0  50.0  7.0       0.00  2.0  1.0  1.0   10062.80\n",
              "7  0.0  1.0  376.0  0.0  29.0  4.0  115046.74  4.0  1.0  0.0  119346.88\n",
              "8  0.0  0.0  501.0  1.0  44.0  4.0  142051.07  2.0  0.0  1.0   74940.50\n",
              "9  0.0  0.0  684.0  1.0  27.0  2.0  134603.88  1.0  1.0  1.0   71725.73"
            ]
          },
          "metadata": {
            "tags": []
          },
          "execution_count": 257
        }
      ]
    },
    {
      "metadata": {
        "id": "vHszCVGSZ-Ip",
        "colab_type": "code",
        "colab": {}
      },
      "cell_type": "code",
      "source": [
        "# Dividindo o dataset em Conjunto de Treinamento e Conjunto de Dados\n",
        "X_train, X_test, y_train, y_test = train_test_split(X, y, test_size = 0.2, random_state = 0)"
      ],
      "execution_count": 0,
      "outputs": []
    },
    {
      "metadata": {
        "id": "4Ihrw93iIWWz",
        "colab_type": "code",
        "colab": {}
      },
      "cell_type": "code",
      "source": [
        "# A recomendação de normalizar os atributos vem do fato de utilizamos ranges com escalas diferentes. Ex: Idade, Salario, etc.\n",
        "# De forma geral, o que é feito aqui é o seguinte: \n",
        "# Variavel Padronizada = (variavel original - media da variavel original) / desvio padrão da variavel original\n",
        "# A variavel original, subtraida pela sua média, e dividida pelo seu desvio padrão. Isso faz com que os valores fiquem normalizados, evitando vieses enganosos.\n",
        "# Sem a padronização, temos uma perda de 10% na acurácia do nosso algoritmo\n",
        "\n",
        "sc = StandardScaler()\n",
        "X_train = sc.fit_transform(X_train)\n",
        "X_test = sc.transform(X_test)"
      ],
      "execution_count": 0,
      "outputs": []
    },
    {
      "metadata": {
        "id": "ieoh7hZ7IWXP",
        "colab_type": "code",
        "outputId": "810705c1-4f4c-4003-c511-925bf984641d",
        "colab": {
          "base_uri": "https://localhost:8080/",
          "height": 335
        }
      },
      "cell_type": "code",
      "source": [
        "# Visualizamos como nosso conjunto de dados será enviado para alimentar a rede neural.\n",
        "df = pd.DataFrame(X_train)\n",
        "df.head(10)"
      ],
      "execution_count": 0,
      "outputs": [
        {
          "output_type": "execute_result",
          "data": {
            "text/html": [
              "<div>\n",
              "<style scoped>\n",
              "    .dataframe tbody tr th:only-of-type {\n",
              "        vertical-align: middle;\n",
              "    }\n",
              "\n",
              "    .dataframe tbody tr th {\n",
              "        vertical-align: top;\n",
              "    }\n",
              "\n",
              "    .dataframe thead th {\n",
              "        text-align: right;\n",
              "    }\n",
              "</style>\n",
              "<table border=\"1\" class=\"dataframe\">\n",
              "  <thead>\n",
              "    <tr style=\"text-align: right;\">\n",
              "      <th></th>\n",
              "      <th>0</th>\n",
              "      <th>1</th>\n",
              "      <th>2</th>\n",
              "      <th>3</th>\n",
              "      <th>4</th>\n",
              "      <th>5</th>\n",
              "      <th>6</th>\n",
              "      <th>7</th>\n",
              "      <th>8</th>\n",
              "      <th>9</th>\n",
              "      <th>10</th>\n",
              "    </tr>\n",
              "  </thead>\n",
              "  <tbody>\n",
              "    <tr>\n",
              "      <th>0</th>\n",
              "      <td>1.743090</td>\n",
              "      <td>-0.569844</td>\n",
              "      <td>0.169582</td>\n",
              "      <td>-1.091687</td>\n",
              "      <td>-0.464608</td>\n",
              "      <td>0.006661</td>\n",
              "      <td>-1.215717</td>\n",
              "      <td>0.809503</td>\n",
              "      <td>0.642595</td>\n",
              "      <td>-1.032270</td>\n",
              "      <td>1.106432</td>\n",
              "    </tr>\n",
              "    <tr>\n",
              "      <th>1</th>\n",
              "      <td>-0.573694</td>\n",
              "      <td>1.754865</td>\n",
              "      <td>-2.304559</td>\n",
              "      <td>0.916013</td>\n",
              "      <td>0.301026</td>\n",
              "      <td>-1.377440</td>\n",
              "      <td>-0.006312</td>\n",
              "      <td>-0.921591</td>\n",
              "      <td>0.642595</td>\n",
              "      <td>0.968738</td>\n",
              "      <td>-0.748664</td>\n",
              "    </tr>\n",
              "    <tr>\n",
              "      <th>2</th>\n",
              "      <td>-0.573694</td>\n",
              "      <td>-0.569844</td>\n",
              "      <td>-1.191196</td>\n",
              "      <td>-1.091687</td>\n",
              "      <td>-0.943129</td>\n",
              "      <td>-1.031415</td>\n",
              "      <td>0.579935</td>\n",
              "      <td>-0.921591</td>\n",
              "      <td>0.642595</td>\n",
              "      <td>-1.032270</td>\n",
              "      <td>1.485335</td>\n",
              "    </tr>\n",
              "    <tr>\n",
              "      <th>3</th>\n",
              "      <td>1.743090</td>\n",
              "      <td>-0.569844</td>\n",
              "      <td>0.035566</td>\n",
              "      <td>0.916013</td>\n",
              "      <td>0.109617</td>\n",
              "      <td>0.006661</td>\n",
              "      <td>0.473128</td>\n",
              "      <td>-0.921591</td>\n",
              "      <td>0.642595</td>\n",
              "      <td>-1.032270</td>\n",
              "      <td>1.276528</td>\n",
              "    </tr>\n",
              "    <tr>\n",
              "      <th>4</th>\n",
              "      <td>1.743090</td>\n",
              "      <td>-0.569844</td>\n",
              "      <td>2.056114</td>\n",
              "      <td>-1.091687</td>\n",
              "      <td>1.736588</td>\n",
              "      <td>1.044737</td>\n",
              "      <td>0.810193</td>\n",
              "      <td>0.809503</td>\n",
              "      <td>0.642595</td>\n",
              "      <td>0.968738</td>\n",
              "      <td>0.558378</td>\n",
              "    </tr>\n",
              "    <tr>\n",
              "      <th>5</th>\n",
              "      <td>-0.573694</td>\n",
              "      <td>1.754865</td>\n",
              "      <td>1.293254</td>\n",
              "      <td>-1.091687</td>\n",
              "      <td>-0.177495</td>\n",
              "      <td>-1.031415</td>\n",
              "      <td>0.442535</td>\n",
              "      <td>0.809503</td>\n",
              "      <td>0.642595</td>\n",
              "      <td>-1.032270</td>\n",
              "      <td>1.632521</td>\n",
              "    </tr>\n",
              "    <tr>\n",
              "      <th>6</th>\n",
              "      <td>-0.573694</td>\n",
              "      <td>-0.569844</td>\n",
              "      <td>1.612831</td>\n",
              "      <td>0.916013</td>\n",
              "      <td>0.779547</td>\n",
              "      <td>-1.377440</td>\n",
              "      <td>0.304328</td>\n",
              "      <td>-0.921591</td>\n",
              "      <td>-1.556190</td>\n",
              "      <td>-1.032270</td>\n",
              "      <td>0.481496</td>\n",
              "    </tr>\n",
              "    <tr>\n",
              "      <th>7</th>\n",
              "      <td>1.743090</td>\n",
              "      <td>-0.569844</td>\n",
              "      <td>-0.541734</td>\n",
              "      <td>0.916013</td>\n",
              "      <td>0.205321</td>\n",
              "      <td>1.044737</td>\n",
              "      <td>-1.215717</td>\n",
              "      <td>0.809503</td>\n",
              "      <td>0.642595</td>\n",
              "      <td>0.968738</td>\n",
              "      <td>1.073822</td>\n",
              "    </tr>\n",
              "    <tr>\n",
              "      <th>8</th>\n",
              "      <td>1.743090</td>\n",
              "      <td>-0.569844</td>\n",
              "      <td>-0.149995</td>\n",
              "      <td>0.916013</td>\n",
              "      <td>3.554968</td>\n",
              "      <td>1.390762</td>\n",
              "      <td>0.806330</td>\n",
              "      <td>-0.921591</td>\n",
              "      <td>0.642595</td>\n",
              "      <td>0.968738</td>\n",
              "      <td>-1.049498</td>\n",
              "    </tr>\n",
              "    <tr>\n",
              "      <th>9</th>\n",
              "      <td>-0.573694</td>\n",
              "      <td>-0.569844</td>\n",
              "      <td>-0.294320</td>\n",
              "      <td>-1.091687</td>\n",
              "      <td>-0.656016</td>\n",
              "      <td>0.352686</td>\n",
              "      <td>1.486364</td>\n",
              "      <td>0.809503</td>\n",
              "      <td>0.642595</td>\n",
              "      <td>-1.032270</td>\n",
              "      <td>0.015394</td>\n",
              "    </tr>\n",
              "  </tbody>\n",
              "</table>\n",
              "</div>"
            ],
            "text/plain": [
              "         0         1         2         3         4         5         6   \\\n",
              "0  1.743090 -0.569844  0.169582 -1.091687 -0.464608  0.006661 -1.215717   \n",
              "1 -0.573694  1.754865 -2.304559  0.916013  0.301026 -1.377440 -0.006312   \n",
              "2 -0.573694 -0.569844 -1.191196 -1.091687 -0.943129 -1.031415  0.579935   \n",
              "3  1.743090 -0.569844  0.035566  0.916013  0.109617  0.006661  0.473128   \n",
              "4  1.743090 -0.569844  2.056114 -1.091687  1.736588  1.044737  0.810193   \n",
              "5 -0.573694  1.754865  1.293254 -1.091687 -0.177495 -1.031415  0.442535   \n",
              "6 -0.573694 -0.569844  1.612831  0.916013  0.779547 -1.377440  0.304328   \n",
              "7  1.743090 -0.569844 -0.541734  0.916013  0.205321  1.044737 -1.215717   \n",
              "8  1.743090 -0.569844 -0.149995  0.916013  3.554968  1.390762  0.806330   \n",
              "9 -0.573694 -0.569844 -0.294320 -1.091687 -0.656016  0.352686  1.486364   \n",
              "\n",
              "         7         8         9         10  \n",
              "0  0.809503  0.642595 -1.032270  1.106432  \n",
              "1 -0.921591  0.642595  0.968738 -0.748664  \n",
              "2 -0.921591  0.642595 -1.032270  1.485335  \n",
              "3 -0.921591  0.642595 -1.032270  1.276528  \n",
              "4  0.809503  0.642595  0.968738  0.558378  \n",
              "5  0.809503  0.642595 -1.032270  1.632521  \n",
              "6 -0.921591 -1.556190 -1.032270  0.481496  \n",
              "7  0.809503  0.642595  0.968738  1.073822  \n",
              "8 -0.921591  0.642595  0.968738 -1.049498  \n",
              "9  0.809503  0.642595 -1.032270  0.015394  "
            ]
          },
          "metadata": {
            "tags": []
          },
          "execution_count": 261
        }
      ]
    },
    {
      "metadata": {
        "id": "4Rtl4asmIWXq",
        "colab_type": "text"
      },
      "cell_type": "markdown",
      "source": [
        "#### CONSTRUINDO O MODELO"
      ]
    },
    {
      "metadata": {
        "id": "UT3YK13SPCm6",
        "colab_type": "code",
        "outputId": "0d6d2463-1035-4457-e74a-d3e3bb68d72c",
        "colab": {
          "base_uri": "https://localhost:8080/",
          "height": 683
        }
      },
      "cell_type": "code",
      "source": [
        "# Aqui definimos os parametros da nossa rede neural\n",
        "model = keras.Sequential([\n",
        "    keras.layers.Dense(units = 9, activation = 'relu', input_dim = 11),\n",
        "    keras.layers.Dense(units = 9, kernel_initializer = 'uniform', activation = 'relu'),\n",
        "    keras.layers.Dense(units = 1, activation = 'sigmoid')\n",
        "])\n",
        "\n",
        "### PARÂMETROS DA REDE\n",
        "\n",
        "# optmizer = Algoritmo que será utilizado para encontrar o melhor conjunto de pesos na Rede Neural. lr = Learning Rating = O Quão rapido o algoritmo irá realizar o ajuste de seus pesos\n",
        "optimizer = keras.optimizers.Adam(lr = 0.002)\n",
        "\n",
        "# loss = Algoritmo que irá calcular a perda, ou seja a diferença entre o valor predito e o valor real.\n",
        "loss = 'binary_crossentropy'\n",
        "\n",
        "# metrics = Tipo de Métrica Utilizada para medir o desempenho da Rede\n",
        "metrics = ['accuracy']\n",
        "\n",
        "# Isso faz com que o modelo pare de treinar assim que ele começar a piorar. Congela ele no melhor momento, ou seja, na melhor combinação de parâmetros.\n",
        "earlyStopping = [keras.callbacks.EarlyStopping(monitor = 'val_loss'), keras.callbacks.ModelCheckpoint(filepath = 'bestModel.hdf5', monitor = 'val_loss', save_best_only = True)]\n",
        "\n",
        "# Compilamos nosso modelo, dizendo qual algoritmo iremos utilizar como otimizador, qual iremos utilizar para ajuste de perda e qual tipo de métrica queremos observar.\n",
        "model.compile(optimizer, loss, metrics)\n",
        "\n",
        "# Quantidade de dados que será analisada em cada época\n",
        "batch_size = 10\n",
        "\n",
        "# Quantidade máxima de épocas que nosso algoritmo irá treinar. Chamamos de época o ciclo completo de forward e back propagation\n",
        "epochs = 30\n",
        "\n",
        "# Nossos dados de treinamento. Variáveis de Entrada\n",
        "trainingInputs = X_train\n",
        "\n",
        "# Nossos dados de treinamento. Variáveis de Saída\n",
        "trainingOutputs = y_train\n",
        "\n",
        "# Realizamos o treinamento e guardamos os parametros (Pesos e Tendencias)\n",
        "trainedModel = model.fit(trainingInputs, trainingOutputs, batch_size, epochs, validation_split = 0.25, callbacks = earlyStopping)"
      ],
      "execution_count": 0,
      "outputs": [
        {
          "output_type": "stream",
          "text": [
            "Train on 6000 samples, validate on 2000 samples\n",
            "Epoch 1/30\n",
            "6000/6000 [==============================] - 6s 986us/sample - loss: 0.4779 - acc: 0.7933 - val_loss: 0.4437 - val_acc: 0.7995\n",
            "Epoch 2/30\n",
            "6000/6000 [==============================] - 1s 224us/sample - loss: 0.4300 - acc: 0.7992 - val_loss: 0.4351 - val_acc: 0.8125\n",
            "Epoch 3/30\n",
            "6000/6000 [==============================] - 1s 224us/sample - loss: 0.4199 - acc: 0.8237 - val_loss: 0.4219 - val_acc: 0.8220\n",
            "Epoch 4/30\n",
            "6000/6000 [==============================] - 1s 223us/sample - loss: 0.4105 - acc: 0.8315 - val_loss: 0.4178 - val_acc: 0.8240\n",
            "Epoch 5/30\n",
            "6000/6000 [==============================] - 1s 220us/sample - loss: 0.4059 - acc: 0.8322 - val_loss: 0.4167 - val_acc: 0.8275\n",
            "Epoch 6/30\n",
            "6000/6000 [==============================] - 1s 225us/sample - loss: 0.4024 - acc: 0.8335 - val_loss: 0.4114 - val_acc: 0.8285\n",
            "Epoch 7/30\n",
            "6000/6000 [==============================] - 1s 225us/sample - loss: 0.3999 - acc: 0.8365 - val_loss: 0.4106 - val_acc: 0.8300\n",
            "Epoch 8/30\n",
            "6000/6000 [==============================] - 1s 223us/sample - loss: 0.3983 - acc: 0.8365 - val_loss: 0.4094 - val_acc: 0.8310\n",
            "Epoch 9/30\n",
            "6000/6000 [==============================] - 1s 224us/sample - loss: 0.3961 - acc: 0.8373 - val_loss: 0.4067 - val_acc: 0.8320\n",
            "Epoch 10/30\n",
            "6000/6000 [==============================] - 1s 225us/sample - loss: 0.3911 - acc: 0.8403 - val_loss: 0.4064 - val_acc: 0.8310\n",
            "Epoch 11/30\n",
            "6000/6000 [==============================] - 1s 224us/sample - loss: 0.3839 - acc: 0.8458 - val_loss: 0.3947 - val_acc: 0.8345\n",
            "Epoch 12/30\n",
            "6000/6000 [==============================] - 1s 230us/sample - loss: 0.3733 - acc: 0.8480 - val_loss: 0.3861 - val_acc: 0.8365\n",
            "Epoch 13/30\n",
            "6000/6000 [==============================] - 1s 226us/sample - loss: 0.3630 - acc: 0.8518 - val_loss: 0.3779 - val_acc: 0.8480\n",
            "Epoch 14/30\n",
            "6000/6000 [==============================] - 1s 227us/sample - loss: 0.3561 - acc: 0.8548 - val_loss: 0.3752 - val_acc: 0.8430\n",
            "Epoch 15/30\n",
            "6000/6000 [==============================] - 1s 228us/sample - loss: 0.3498 - acc: 0.8568 - val_loss: 0.3695 - val_acc: 0.8485\n",
            "Epoch 16/30\n",
            "6000/6000 [==============================] - 1s 228us/sample - loss: 0.3465 - acc: 0.8560 - val_loss: 0.3651 - val_acc: 0.8500\n",
            "Epoch 17/30\n",
            "6000/6000 [==============================] - 1s 229us/sample - loss: 0.3418 - acc: 0.8613 - val_loss: 0.3620 - val_acc: 0.8565\n",
            "Epoch 18/30\n",
            "6000/6000 [==============================] - 1s 224us/sample - loss: 0.3397 - acc: 0.8608 - val_loss: 0.3612 - val_acc: 0.8510\n",
            "Epoch 19/30\n",
            "6000/6000 [==============================] - 1s 225us/sample - loss: 0.3378 - acc: 0.8602 - val_loss: 0.3544 - val_acc: 0.8560\n",
            "Epoch 20/30\n",
            "6000/6000 [==============================] - 1s 219us/sample - loss: 0.3374 - acc: 0.8582 - val_loss: 0.3556 - val_acc: 0.8520\n"
          ],
          "name": "stdout"
        }
      ]
    },
    {
      "metadata": {
        "id": "v5-qb9U5vyML",
        "colab_type": "code",
        "outputId": "bd619684-dbd1-4ff0-ca14-b1218d145a11",
        "colab": {
          "base_uri": "https://localhost:8080/",
          "height": 528
        }
      },
      "cell_type": "code",
      "source": [
        "# Aqui visualizamos a progressão da nossa acurácia. Repare que ela aumenta conforme as épocas vão avançando.\n",
        "# Isso faz todo sentido, uma vez que os ajustes vão sendo realizados nos neurônios (Pesos e Tendencias).\n",
        "plt.subplots(figsize = (8, 8))\n",
        "plt.plot(trainedModel.history['acc'])\n",
        "plt.plot(trainedModel.history['val_acc'])\n",
        "plt.title('Acurácia por Epochs')\n",
        "plt.xlabel('Epochs')\n",
        "plt.ylabel('Acurácia')\n",
        "plt.legend(['Treino', 'Validação'])"
      ],
      "execution_count": 0,
      "outputs": [
        {
          "output_type": "execute_result",
          "data": {
            "text/plain": [
              "<matplotlib.legend.Legend at 0x7f872f5bab00>"
            ]
          },
          "metadata": {
            "tags": []
          },
          "execution_count": 264
        },
        {
          "output_type": "display_data",
          "data": {
            "image/png": "[encoded data removed]",
            "text/plain": [
              "<Figure size 576x576 with 1 Axes>"
            ]
          },
          "metadata": {
            "tags": []
          }
        }
      ]
    },
    {
      "metadata": {
        "id": "cF6LS0uqv9lU",
        "colab_type": "code",
        "outputId": "4a6a74f2-ebdd-4267-a843-9c1b04646473",
        "colab": {
          "base_uri": "https://localhost:8080/",
          "height": 528
        }
      },
      "cell_type": "code",
      "source": [
        "# Aqui visualizamos a progressão da nossa perda. Tanto de treino como de validação. Ela deve fazer o caminho inverso da acurácia, ja que uma deve cair para outra subir.\n",
        "# Falando por alto, essa perda que nos referimos aqui, é o quando estamos errando em nossa predição. Repare que a perda cai conforme as épocas vão avançando.\n",
        "plt.subplots(figsize = (8, 8))\n",
        "plt.plot(trainedModel.history['loss'])\n",
        "plt.plot(trainedModel.history['val_loss'])\n",
        "plt.title('Perda por Epochs')\n",
        "plt.xlabel('Epochs')\n",
        "plt.ylabel('Perda')\n",
        "plt.legend(['Treino', 'Validação'])"
      ],
      "execution_count": 0,
      "outputs": [
        {
          "output_type": "execute_result",
          "data": {
            "text/plain": [
              "<matplotlib.legend.Legend at 0x7f872f498c50>"
            ]
          },
          "metadata": {
            "tags": []
          },
          "execution_count": 266
        },
        {
          "output_type": "display_data",
          "data": {
            "image/png": "[encoded data removed]",
            "text/plain": [
              "<Figure size 576x576 with 1 Axes>"
            ]
          },
          "metadata": {
            "tags": []
          }
        }
      ]
    },
    {
      "metadata": {
        "id": "JN9uPUDuIWZp",
        "colab_type": "text"
      },
      "cell_type": "markdown",
      "source": [
        "#### FAZENDO PREDIÇÕES E AVALIANDO O MODELO"
      ]
    },
    {
      "metadata": {
        "id": "qg8gGC0wIWZ2",
        "colab_type": "code",
        "colab": {}
      },
      "cell_type": "code",
      "source": [
        "# Testando nosso modelo no conjunto de teste\n",
        "y_pred = model.predict(X_test)"
      ],
      "execution_count": 0,
      "outputs": []
    },
    {
      "metadata": {
        "id": "jbHNPD7wIWaG",
        "colab_type": "code",
        "outputId": "80523b5c-4641-4f67-9092-9801c7dba66d",
        "colab": {
          "base_uri": "https://localhost:8080/",
          "height": 335
        }
      },
      "cell_type": "code",
      "source": [
        "# Convertendo o array com as probabilidades em um Data Frame\n",
        "# O modelo nos retorna um array com as probabilidades de cada cliente evadir. Com base nisso, montamos nossa estratégia de retenção.\n",
        "df_y_pred = pd.DataFrame(y_pred)\n",
        "\n",
        "# Mostrando as 5 primeiras linhas\n",
        "df_y_pred.head(10)"
      ],
      "execution_count": 0,
      "outputs": [
        {
          "output_type": "execute_result",
          "data": {
            "text/html": [
              "<div>\n",
              "<style scoped>\n",
              "    .dataframe tbody tr th:only-of-type {\n",
              "        vertical-align: middle;\n",
              "    }\n",
              "\n",
              "    .dataframe tbody tr th {\n",
              "        vertical-align: top;\n",
              "    }\n",
              "\n",
              "    .dataframe thead th {\n",
              "        text-align: right;\n",
              "    }\n",
              "</style>\n",
              "<table border=\"1\" class=\"dataframe\">\n",
              "  <thead>\n",
              "    <tr style=\"text-align: right;\">\n",
              "      <th></th>\n",
              "      <th>0</th>\n",
              "    </tr>\n",
              "  </thead>\n",
              "  <tbody>\n",
              "    <tr>\n",
              "      <th>0</th>\n",
              "      <td>0.366682</td>\n",
              "    </tr>\n",
              "    <tr>\n",
              "      <th>1</th>\n",
              "      <td>0.356795</td>\n",
              "    </tr>\n",
              "    <tr>\n",
              "      <th>2</th>\n",
              "      <td>0.247490</td>\n",
              "    </tr>\n",
              "    <tr>\n",
              "      <th>3</th>\n",
              "      <td>0.105012</td>\n",
              "    </tr>\n",
              "    <tr>\n",
              "      <th>4</th>\n",
              "      <td>0.110615</td>\n",
              "    </tr>\n",
              "    <tr>\n",
              "      <th>5</th>\n",
              "      <td>0.921079</td>\n",
              "    </tr>\n",
              "    <tr>\n",
              "      <th>6</th>\n",
              "      <td>0.037953</td>\n",
              "    </tr>\n",
              "    <tr>\n",
              "      <th>7</th>\n",
              "      <td>0.078116</td>\n",
              "    </tr>\n",
              "    <tr>\n",
              "      <th>8</th>\n",
              "      <td>0.326234</td>\n",
              "    </tr>\n",
              "    <tr>\n",
              "      <th>9</th>\n",
              "      <td>0.925057</td>\n",
              "    </tr>\n",
              "  </tbody>\n",
              "</table>\n",
              "</div>"
            ],
            "text/plain": [
              "          0\n",
              "0  0.366682\n",
              "1  0.356795\n",
              "2  0.247490\n",
              "3  0.105012\n",
              "4  0.110615\n",
              "5  0.921079\n",
              "6  0.037953\n",
              "7  0.078116\n",
              "8  0.326234\n",
              "9  0.925057"
            ]
          },
          "metadata": {
            "tags": []
          },
          "execution_count": 267
        }
      ]
    },
    {
      "metadata": {
        "id": "GSXZQuJWIWaw",
        "colab_type": "code",
        "outputId": "b9639f7e-c9fc-4e89-ba05-fb470d8a619f",
        "colab": {
          "base_uri": "https://localhost:8080/",
          "height": 500
        }
      },
      "cell_type": "code",
      "source": [
        "plt.clf()\n",
        "plt.subplots(figsize = (8, 8))\n",
        "cm = confusion_matrix(y_test, y_pred.round())\n",
        "plt.imshow(cm, interpolation = 'nearest', cmap = plt.cm.Blues)\n",
        "classNames = ['Negativo', 'Positivo']\n",
        "plt.title('MATRIZ DE CONFUSÃO')\n",
        "plt.ylabel('Classe Original')\n",
        "plt.xlabel('Classe Predita')\n",
        "tick_marks = np.arange(len(classNames))\n",
        "plt.xticks(tick_marks, classNames, rotation = 45)\n",
        "plt.yticks(tick_marks, classNames)\n",
        "s = [['TN', 'FP'], ['FN', 'TP']]\n",
        "plt.colorbar()\n",
        "for i in range(2):\n",
        "    for j in range(2):\n",
        "        plt.text(j,i, str(s[i][j])+' = '+str(cm[i][j]), horizontalalignment = 'center', color = 'black')\n",
        "plt.show()"
      ],
      "execution_count": 0,
      "outputs": [
        {
          "output_type": "display_data",
          "data": {
            "text/plain": [
              "<Figure size 432x288 with 0 Axes>"
            ]
          },
          "metadata": {
            "tags": []
          }
        },
        {
          "output_type": "display_data",
          "data": {
            "image/png": "[encoded data removed]",
            "text/plain": [
              "<Figure size 576x576 with 2 Axes>"
            ]
          },
          "metadata": {
            "tags": []
          }
        }
      ]
    },
    {
      "metadata": {
        "id": "TtO_c7mx26b8",
        "colab_type": "code",
        "outputId": "01e0cdb7-6eab-4aaa-ee5c-bdc82a645ecb",
        "colab": {
          "base_uri": "https://localhost:8080/",
          "height": 82
        }
      },
      "cell_type": "code",
      "source": [
        "# Detalhamento da Matriz de Confusão\n",
        "print('TN - Verdadeiro Negativos: ', cm[0][0]) # O que realmente eram negativos. Ou seja, o modelo disse que não iam evadir e realmente não evadiram.\n",
        "print('FP - Falsos Positivos: ', cm[0][1]) # O modelo considerou como positivos mas eram negativos. Ou seja, o modelo disse que iriam evadir, mas não evadiram.\n",
        "print('FN - Falsos Negativos: ', cm[1][0]) # O modelo considerou como negativos mas eram positivos. Ou seja, o modelo disse que não iriam evadir, mas evadiram.\n",
        "print('TP - Verdadeiro Positivo: ', cm[1][1]) # O que realmente eram positivos. Ou seja, o modelo disse que iriam evadir e realmente evadiram."
      ],
      "execution_count": 0,
      "outputs": [
        {
          "output_type": "stream",
          "text": [
            "TN - Verdadeiro Negativos:  1484\n",
            "FP - Falsos Positivos:  111\n",
            "FN - Falsos Negativos:  182\n",
            "TP - Verdadeiro Positivo:  223\n"
          ],
          "name": "stdout"
        }
      ]
    },
    {
      "metadata": {
        "id": "JlptT66lIWap",
        "colab_type": "code",
        "outputId": "02904104-305f-46b1-a8c2-ba635f982c09",
        "colab": {
          "base_uri": "https://localhost:8080/",
          "height": 180
        }
      },
      "cell_type": "code",
      "source": [
        "# Relatório de Classificação. Aqui temos um detalhamento maior das métricas obtidas.\n",
        "print(classification_report(y_test, y_pred.round()))\n",
        "acuracia = accuracy_score(y_test, y_pred.round())\n",
        "print('Acurácia Média : %0.2f' % (acuracia * 100))"
      ],
      "execution_count": 0,
      "outputs": [
        {
          "output_type": "stream",
          "text": [
            "              precision    recall  f1-score   support\n",
            "\n",
            "           0       0.89      0.93      0.91      1595\n",
            "           1       0.67      0.55      0.60       405\n",
            "\n",
            "   micro avg       0.85      0.85      0.85      2000\n",
            "   macro avg       0.78      0.74      0.76      2000\n",
            "weighted avg       0.85      0.85      0.85      2000\n",
            "\n",
            "Acurácia Média : 85.35\n"
          ],
          "name": "stdout"
        }
      ]
    },
    {
      "metadata": {
        "id": "jYRZygJlIWbD",
        "colab_type": "text"
      },
      "cell_type": "markdown",
      "source": [
        "#### TESTANDO O MODELO"
      ]
    },
    {
      "metadata": {
        "id": "utnLuuuMIWbO",
        "colab_type": "code",
        "outputId": "a5d7e69b-2908-40dc-ae11-75d618420d82",
        "colab": {
          "base_uri": "https://localhost:8080/",
          "height": 50
        }
      },
      "cell_type": "code",
      "source": [
        "# DADOS SOBRE PAIS:\n",
        "# ## FRANÇA: 0, 0\n",
        "# ## ESPANHA: 0, 1\n",
        "# ## ALEMANHA: 1, 0\n",
        "\n",
        "# Especificamos os dados\n",
        "Pais0 = 0.0\n",
        "Pais1 = 0.0\n",
        "ScoreCredito = 200\n",
        "Genero = 1\n",
        "Idade = 70\n",
        "Relacionamento = 1\n",
        "Saldo = 10000\n",
        "QtdProdutos = 1\n",
        "CartaoCredito = 1\n",
        "Ativo = 1\n",
        "Salario = 10000\n",
        "\n",
        "# Carregamos em um array e fazemos a transformação\n",
        "data = sc.transform(np.array([[Pais0, Pais1, ScoreCredito, Genero, Idade, Relacionamento, Saldo, QtdProdutos, CartaoCredito, Ativo, Salario]]))\n",
        "\n",
        "# Fazemos o predict usando o modelo já treinado e guardamos o resultado na variavel new_prediction\n",
        "new_prediction = model.predict(data)\n",
        "\n",
        "# O modelo irá nos devolver um percentual. Com base nisso, decidimos a partir de que percentual o cliente irá sair do banco. No caso aqui, consideramos 50%.\n",
        "valor = 'Sim' if (new_prediction > 0.5) else 'Não'\n",
        "    \n",
        "print('Cliente Irá Sair ?', valor)\n",
        "print('Qual a Probabilidade do Cliente Sair: ', '%.2f' % (new_prediction * 100))"
      ],
      "execution_count": 0,
      "outputs": [
        {
          "output_type": "stream",
          "text": [
            "Cliente Irá Sair ? Não\n",
            "Qual a Probabilidade do Cliente Sair:  14.36\n"
          ],
          "name": "stdout"
        }
      ]
    },
    {
      "metadata": {
        "id": "4f6BrkinrU5W",
        "colab_type": "text"
      },
      "cell_type": "markdown",
      "source": [
        "#### SALVANDO E EXPORTANDO O MODELO"
      ]
    },
    {
      "metadata": {
        "id": "SdibUQA-vrL6",
        "colab_type": "code",
        "colab": {}
      },
      "cell_type": "code",
      "source": [
        "# Salvamos o modelo para uso posterior\n",
        "model.save('model.h5')\n",
        "\n",
        "# Para carregar o modelo, basta utilizar a funcoa load_model()\n",
        "savedModel = load_model('model.h5')"
      ],
      "execution_count": 0,
      "outputs": []
    }
  ]
}