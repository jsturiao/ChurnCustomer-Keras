{
  "nbformat": 4,
  "nbformat_minor": 0,
  "metadata": {
    "colab": {
      "name": "Churn Model - Keras - Customização CEF.ipynb",
      "version": "0.3.2",
      "provenance": [],
      "collapsed_sections": []
    },
    "kernelspec": {
      "display_name": "Python 3",
      "language": "python",
      "name": "python3"
    }
  },
  "cells": [
    {
      "metadata": {
        "id": "YYXqKPpcto1C",
        "colab_type": "text"
      },
      "cell_type": "markdown",
      "source": [
        "## **MODELO PARA EVASÃO DE CLIENTES - KERAS | VERSÃO CEF **"
      ]
    },
    {
      "metadata": {
        "id": "__M0VyahudDA",
        "colab_type": "text"
      },
      "cell_type": "markdown",
      "source": [
        "#### IMPORTANDO AS BIBLIOTECAS DO PROJETO"
      ]
    },
    {
      "metadata": {
        "id": "1xB7mdyQIWTW",
        "colab_type": "code",
        "colab": {}
      },
      "cell_type": "code",
      "source": [
        "# Bibliotecas Utilizadas no Projeto\n",
        "\n",
        "import warnings\n",
        "warnings.filterwarnings('ignore')\n",
        "\n",
        "# Bibliotecas para construção da Rede Neural\n",
        "import tensorflow\n",
        "from tensorflow import keras\n",
        "from tensorflow.keras.models import load_model\n",
        "\n",
        "# Bibliotecas para processamento de Dados\n",
        "import numpy as np\n",
        "import pandas as pd\n",
        "\n",
        "# Importando biblioteca para Pré-Processamento e Enconding dos Dados\n",
        "from sklearn.preprocessing import LabelEncoder, OneHotEncoder, StandardScaler\n",
        "from sklearn.metrics import confusion_matrix, accuracy_score, f1_score, precision_score, recall_score, classification_report\n",
        "from sklearn.model_selection import train_test_split\n",
        "\n",
        "# Bibliotecas para visualização de Dados\n",
        "import matplotlib.pyplot as plt\n",
        "%matplotlib inline\n",
        "import seaborn as sns"
      ],
      "execution_count": 0,
      "outputs": []
    },
    {
      "metadata": {
        "id": "gPj6Wi0pIWT6",
        "colab_type": "text"
      },
      "cell_type": "markdown",
      "source": [
        "#### CARREGANDO O DATASET"
      ]
    },
    {
      "metadata": {
        "id": "pKlk2bdjIWUl",
        "colab_type": "code",
        "colab": {}
      },
      "cell_type": "code",
      "source": [
        "# Carregando o dataset\n",
        "file = 'https://gist.githubusercontent.com/jsturiao/164d2af04dcd235f3adcf45f7112baa8/raw/151481b004649a88d2118a6501d1d254eb85a5f8/Churn_Model.csv'\n",
        "dataset = pd.read_csv(file)"
      ],
      "execution_count": 0,
      "outputs": []
    },
    {
      "metadata": {
        "id": "ITKpOZPx0C3H",
        "colab_type": "text"
      },
      "cell_type": "markdown",
      "source": [
        "#### EXPLORAÇÃO E VISUALIZAÇÃO DE DADOS"
      ]
    },
    {
      "metadata": {
        "id": "w3-J_Y4MIWUu",
        "colab_type": "code",
        "outputId": "2444bddf-4ac7-4c2c-ca37-fc4de62a8004",
        "colab": {
          "base_uri": "https://localhost:8080/",
          "height": 335
        }
      },
      "cell_type": "code",
      "source": [
        "# Mostrando as 5 primeiras linhas do dataset\n",
        "dataset.head(10)"
      ],
      "execution_count": 3,
      "outputs": [
        {
          "output_type": "execute_result",
          "data": {
            "text/html": [
              "<div>\n",
              "<style scoped>\n",
              "    .dataframe tbody tr th:only-of-type {\n",
              "        vertical-align: middle;\n",
              "    }\n",
              "\n",
              "    .dataframe tbody tr th {\n",
              "        vertical-align: top;\n",
              "    }\n",
              "\n",
              "    .dataframe thead th {\n",
              "        text-align: right;\n",
              "    }\n",
              "</style>\n",
              "<table border=\"1\" class=\"dataframe\">\n",
              "  <thead>\n",
              "    <tr style=\"text-align: right;\">\n",
              "      <th></th>\n",
              "      <th>RowNumber</th>\n",
              "      <th>CustomerId</th>\n",
              "      <th>Surname</th>\n",
              "      <th>CreditScore</th>\n",
              "      <th>Geography</th>\n",
              "      <th>Gender</th>\n",
              "      <th>Age</th>\n",
              "      <th>Tenure</th>\n",
              "      <th>Balance</th>\n",
              "      <th>NumOfProducts</th>\n",
              "      <th>HasCrCard</th>\n",
              "      <th>IsActiveMember</th>\n",
              "      <th>EstimatedSalary</th>\n",
              "      <th>Exited</th>\n",
              "    </tr>\n",
              "  </thead>\n",
              "  <tbody>\n",
              "    <tr>\n",
              "      <th>0</th>\n",
              "      <td>1</td>\n",
              "      <td>15634602</td>\n",
              "      <td>Hargrave</td>\n",
              "      <td>619</td>\n",
              "      <td>France</td>\n",
              "      <td>Female</td>\n",
              "      <td>42</td>\n",
              "      <td>2</td>\n",
              "      <td>0.00</td>\n",
              "      <td>1</td>\n",
              "      <td>1</td>\n",
              "      <td>1</td>\n",
              "      <td>101348.88</td>\n",
              "      <td>1</td>\n",
              "    </tr>\n",
              "    <tr>\n",
              "      <th>1</th>\n",
              "      <td>2</td>\n",
              "      <td>15647311</td>\n",
              "      <td>Hill</td>\n",
              "      <td>608</td>\n",
              "      <td>Spain</td>\n",
              "      <td>Female</td>\n",
              "      <td>41</td>\n",
              "      <td>1</td>\n",
              "      <td>83807.86</td>\n",
              "      <td>1</td>\n",
              "      <td>0</td>\n",
              "      <td>1</td>\n",
              "      <td>112542.58</td>\n",
              "      <td>0</td>\n",
              "    </tr>\n",
              "    <tr>\n",
              "      <th>2</th>\n",
              "      <td>3</td>\n",
              "      <td>15619304</td>\n",
              "      <td>Onio</td>\n",
              "      <td>502</td>\n",
              "      <td>France</td>\n",
              "      <td>Female</td>\n",
              "      <td>42</td>\n",
              "      <td>8</td>\n",
              "      <td>159660.80</td>\n",
              "      <td>3</td>\n",
              "      <td>1</td>\n",
              "      <td>0</td>\n",
              "      <td>113931.57</td>\n",
              "      <td>1</td>\n",
              "    </tr>\n",
              "    <tr>\n",
              "      <th>3</th>\n",
              "      <td>4</td>\n",
              "      <td>15701354</td>\n",
              "      <td>Boni</td>\n",
              "      <td>699</td>\n",
              "      <td>France</td>\n",
              "      <td>Female</td>\n",
              "      <td>39</td>\n",
              "      <td>1</td>\n",
              "      <td>0.00</td>\n",
              "      <td>2</td>\n",
              "      <td>0</td>\n",
              "      <td>0</td>\n",
              "      <td>93826.63</td>\n",
              "      <td>0</td>\n",
              "    </tr>\n",
              "    <tr>\n",
              "      <th>4</th>\n",
              "      <td>5</td>\n",
              "      <td>15737888</td>\n",
              "      <td>Mitchell</td>\n",
              "      <td>850</td>\n",
              "      <td>Spain</td>\n",
              "      <td>Female</td>\n",
              "      <td>43</td>\n",
              "      <td>2</td>\n",
              "      <td>125510.82</td>\n",
              "      <td>1</td>\n",
              "      <td>1</td>\n",
              "      <td>1</td>\n",
              "      <td>79084.10</td>\n",
              "      <td>0</td>\n",
              "    </tr>\n",
              "    <tr>\n",
              "      <th>5</th>\n",
              "      <td>6</td>\n",
              "      <td>15574012</td>\n",
              "      <td>Chu</td>\n",
              "      <td>645</td>\n",
              "      <td>Spain</td>\n",
              "      <td>Male</td>\n",
              "      <td>44</td>\n",
              "      <td>8</td>\n",
              "      <td>113755.78</td>\n",
              "      <td>2</td>\n",
              "      <td>1</td>\n",
              "      <td>0</td>\n",
              "      <td>149756.71</td>\n",
              "      <td>1</td>\n",
              "    </tr>\n",
              "    <tr>\n",
              "      <th>6</th>\n",
              "      <td>7</td>\n",
              "      <td>15592531</td>\n",
              "      <td>Bartlett</td>\n",
              "      <td>822</td>\n",
              "      <td>France</td>\n",
              "      <td>Male</td>\n",
              "      <td>50</td>\n",
              "      <td>7</td>\n",
              "      <td>0.00</td>\n",
              "      <td>2</td>\n",
              "      <td>1</td>\n",
              "      <td>1</td>\n",
              "      <td>10062.80</td>\n",
              "      <td>0</td>\n",
              "    </tr>\n",
              "    <tr>\n",
              "      <th>7</th>\n",
              "      <td>8</td>\n",
              "      <td>15656148</td>\n",
              "      <td>Obinna</td>\n",
              "      <td>376</td>\n",
              "      <td>Germany</td>\n",
              "      <td>Female</td>\n",
              "      <td>29</td>\n",
              "      <td>4</td>\n",
              "      <td>115046.74</td>\n",
              "      <td>4</td>\n",
              "      <td>1</td>\n",
              "      <td>0</td>\n",
              "      <td>119346.88</td>\n",
              "      <td>1</td>\n",
              "    </tr>\n",
              "    <tr>\n",
              "      <th>8</th>\n",
              "      <td>9</td>\n",
              "      <td>15792365</td>\n",
              "      <td>He</td>\n",
              "      <td>501</td>\n",
              "      <td>France</td>\n",
              "      <td>Male</td>\n",
              "      <td>44</td>\n",
              "      <td>4</td>\n",
              "      <td>142051.07</td>\n",
              "      <td>2</td>\n",
              "      <td>0</td>\n",
              "      <td>1</td>\n",
              "      <td>74940.50</td>\n",
              "      <td>0</td>\n",
              "    </tr>\n",
              "    <tr>\n",
              "      <th>9</th>\n",
              "      <td>10</td>\n",
              "      <td>15592389</td>\n",
              "      <td>H?</td>\n",
              "      <td>684</td>\n",
              "      <td>France</td>\n",
              "      <td>Male</td>\n",
              "      <td>27</td>\n",
              "      <td>2</td>\n",
              "      <td>134603.88</td>\n",
              "      <td>1</td>\n",
              "      <td>1</td>\n",
              "      <td>1</td>\n",
              "      <td>71725.73</td>\n",
              "      <td>0</td>\n",
              "    </tr>\n",
              "  </tbody>\n",
              "</table>\n",
              "</div>"
            ],
            "text/plain": [
              "   RowNumber  CustomerId   Surname  CreditScore Geography  Gender  Age  \\\n",
              "0          1    15634602  Hargrave          619    France  Female   42   \n",
              "1          2    15647311      Hill          608     Spain  Female   41   \n",
              "2          3    15619304      Onio          502    France  Female   42   \n",
              "3          4    15701354      Boni          699    France  Female   39   \n",
              "4          5    15737888  Mitchell          850     Spain  Female   43   \n",
              "5          6    15574012       Chu          645     Spain    Male   44   \n",
              "6          7    15592531  Bartlett          822    France    Male   50   \n",
              "7          8    15656148    Obinna          376   Germany  Female   29   \n",
              "8          9    15792365        He          501    France    Male   44   \n",
              "9         10    15592389        H?          684    France    Male   27   \n",
              "\n",
              "   Tenure    Balance  NumOfProducts  HasCrCard  IsActiveMember  \\\n",
              "0       2       0.00              1          1               1   \n",
              "1       1   83807.86              1          0               1   \n",
              "2       8  159660.80              3          1               0   \n",
              "3       1       0.00              2          0               0   \n",
              "4       2  125510.82              1          1               1   \n",
              "5       8  113755.78              2          1               0   \n",
              "6       7       0.00              2          1               1   \n",
              "7       4  115046.74              4          1               0   \n",
              "8       4  142051.07              2          0               1   \n",
              "9       2  134603.88              1          1               1   \n",
              "\n",
              "   EstimatedSalary  Exited  \n",
              "0        101348.88       1  \n",
              "1        112542.58       0  \n",
              "2        113931.57       1  \n",
              "3         93826.63       0  \n",
              "4         79084.10       0  \n",
              "5        149756.71       1  \n",
              "6         10062.80       0  \n",
              "7        119346.88       1  \n",
              "8         74940.50       0  \n",
              "9         71725.73       0  "
            ]
          },
          "metadata": {
            "tags": []
          },
          "execution_count": 3
        }
      ]
    },
    {
      "metadata": {
        "id": "QQ1RyuvdTEG3",
        "colab_type": "code",
        "outputId": "3be3d7ce-6077-4489-8155-1e906ce29e7b",
        "colab": {
          "base_uri": "https://localhost:8080/",
          "height": 33
        }
      },
      "cell_type": "code",
      "source": [
        "# Aqui iremos visualizar o shape do nosso dataset, ou seja, quantas colunas e quantas linhas temos.\n",
        "dataset.shape"
      ],
      "execution_count": 4,
      "outputs": [
        {
          "output_type": "execute_result",
          "data": {
            "text/plain": [
              "(10000, 14)"
            ]
          },
          "metadata": {
            "tags": []
          },
          "execution_count": 4
        }
      ]
    },
    {
      "metadata": {
        "id": "h_iCVRSYb8kX",
        "colab_type": "code",
        "outputId": "a5e2fe77-35eb-4daf-9468-ee702f952af1",
        "colab": {
          "base_uri": "https://localhost:8080/",
          "height": 277
        }
      },
      "cell_type": "code",
      "source": [
        "# Aqui temos uma analise descritiva das variáveis do nosso dataset. Dados importantes como media, desvio padrao, minimo, maximo, quartis, quantidade e etc.\n",
        "dataset.describe().round(2)"
      ],
      "execution_count": 5,
      "outputs": [
        {
          "output_type": "execute_result",
          "data": {
            "text/html": [
              "<div>\n",
              "<style scoped>\n",
              "    .dataframe tbody tr th:only-of-type {\n",
              "        vertical-align: middle;\n",
              "    }\n",
              "\n",
              "    .dataframe tbody tr th {\n",
              "        vertical-align: top;\n",
              "    }\n",
              "\n",
              "    .dataframe thead th {\n",
              "        text-align: right;\n",
              "    }\n",
              "</style>\n",
              "<table border=\"1\" class=\"dataframe\">\n",
              "  <thead>\n",
              "    <tr style=\"text-align: right;\">\n",
              "      <th></th>\n",
              "      <th>RowNumber</th>\n",
              "      <th>CustomerId</th>\n",
              "      <th>CreditScore</th>\n",
              "      <th>Age</th>\n",
              "      <th>Tenure</th>\n",
              "      <th>Balance</th>\n",
              "      <th>NumOfProducts</th>\n",
              "      <th>HasCrCard</th>\n",
              "      <th>IsActiveMember</th>\n",
              "      <th>EstimatedSalary</th>\n",
              "      <th>Exited</th>\n",
              "    </tr>\n",
              "  </thead>\n",
              "  <tbody>\n",
              "    <tr>\n",
              "      <th>count</th>\n",
              "      <td>10000.00</td>\n",
              "      <td>10000.00</td>\n",
              "      <td>10000.00</td>\n",
              "      <td>10000.00</td>\n",
              "      <td>10000.00</td>\n",
              "      <td>10000.00</td>\n",
              "      <td>10000.00</td>\n",
              "      <td>10000.00</td>\n",
              "      <td>10000.00</td>\n",
              "      <td>10000.00</td>\n",
              "      <td>10000.0</td>\n",
              "    </tr>\n",
              "    <tr>\n",
              "      <th>mean</th>\n",
              "      <td>5000.50</td>\n",
              "      <td>15690940.57</td>\n",
              "      <td>650.53</td>\n",
              "      <td>38.92</td>\n",
              "      <td>5.01</td>\n",
              "      <td>76485.89</td>\n",
              "      <td>1.53</td>\n",
              "      <td>0.71</td>\n",
              "      <td>0.52</td>\n",
              "      <td>100090.24</td>\n",
              "      <td>0.2</td>\n",
              "    </tr>\n",
              "    <tr>\n",
              "      <th>std</th>\n",
              "      <td>2886.90</td>\n",
              "      <td>71936.19</td>\n",
              "      <td>96.65</td>\n",
              "      <td>10.49</td>\n",
              "      <td>2.89</td>\n",
              "      <td>62397.41</td>\n",
              "      <td>0.58</td>\n",
              "      <td>0.46</td>\n",
              "      <td>0.50</td>\n",
              "      <td>57510.49</td>\n",
              "      <td>0.4</td>\n",
              "    </tr>\n",
              "    <tr>\n",
              "      <th>min</th>\n",
              "      <td>1.00</td>\n",
              "      <td>15565701.00</td>\n",
              "      <td>350.00</td>\n",
              "      <td>18.00</td>\n",
              "      <td>0.00</td>\n",
              "      <td>0.00</td>\n",
              "      <td>1.00</td>\n",
              "      <td>0.00</td>\n",
              "      <td>0.00</td>\n",
              "      <td>11.58</td>\n",
              "      <td>0.0</td>\n",
              "    </tr>\n",
              "    <tr>\n",
              "      <th>25%</th>\n",
              "      <td>2500.75</td>\n",
              "      <td>15628528.25</td>\n",
              "      <td>584.00</td>\n",
              "      <td>32.00</td>\n",
              "      <td>3.00</td>\n",
              "      <td>0.00</td>\n",
              "      <td>1.00</td>\n",
              "      <td>0.00</td>\n",
              "      <td>0.00</td>\n",
              "      <td>51002.11</td>\n",
              "      <td>0.0</td>\n",
              "    </tr>\n",
              "    <tr>\n",
              "      <th>50%</th>\n",
              "      <td>5000.50</td>\n",
              "      <td>15690738.00</td>\n",
              "      <td>652.00</td>\n",
              "      <td>37.00</td>\n",
              "      <td>5.00</td>\n",
              "      <td>97198.54</td>\n",
              "      <td>1.00</td>\n",
              "      <td>1.00</td>\n",
              "      <td>1.00</td>\n",
              "      <td>100193.92</td>\n",
              "      <td>0.0</td>\n",
              "    </tr>\n",
              "    <tr>\n",
              "      <th>75%</th>\n",
              "      <td>7500.25</td>\n",
              "      <td>15753233.75</td>\n",
              "      <td>718.00</td>\n",
              "      <td>44.00</td>\n",
              "      <td>7.00</td>\n",
              "      <td>127644.24</td>\n",
              "      <td>2.00</td>\n",
              "      <td>1.00</td>\n",
              "      <td>1.00</td>\n",
              "      <td>149388.25</td>\n",
              "      <td>0.0</td>\n",
              "    </tr>\n",
              "    <tr>\n",
              "      <th>max</th>\n",
              "      <td>10000.00</td>\n",
              "      <td>15815690.00</td>\n",
              "      <td>850.00</td>\n",
              "      <td>92.00</td>\n",
              "      <td>10.00</td>\n",
              "      <td>250898.09</td>\n",
              "      <td>4.00</td>\n",
              "      <td>1.00</td>\n",
              "      <td>1.00</td>\n",
              "      <td>199992.48</td>\n",
              "      <td>1.0</td>\n",
              "    </tr>\n",
              "  </tbody>\n",
              "</table>\n",
              "</div>"
            ],
            "text/plain": [
              "       RowNumber   CustomerId  CreditScore       Age    Tenure    Balance  \\\n",
              "count   10000.00     10000.00     10000.00  10000.00  10000.00   10000.00   \n",
              "mean     5000.50  15690940.57       650.53     38.92      5.01   76485.89   \n",
              "std      2886.90     71936.19        96.65     10.49      2.89   62397.41   \n",
              "min         1.00  15565701.00       350.00     18.00      0.00       0.00   \n",
              "25%      2500.75  15628528.25       584.00     32.00      3.00       0.00   \n",
              "50%      5000.50  15690738.00       652.00     37.00      5.00   97198.54   \n",
              "75%      7500.25  15753233.75       718.00     44.00      7.00  127644.24   \n",
              "max     10000.00  15815690.00       850.00     92.00     10.00  250898.09   \n",
              "\n",
              "       NumOfProducts  HasCrCard  IsActiveMember  EstimatedSalary   Exited  \n",
              "count       10000.00   10000.00        10000.00         10000.00  10000.0  \n",
              "mean            1.53       0.71            0.52        100090.24      0.2  \n",
              "std             0.58       0.46            0.50         57510.49      0.4  \n",
              "min             1.00       0.00            0.00            11.58      0.0  \n",
              "25%             1.00       0.00            0.00         51002.11      0.0  \n",
              "50%             1.00       1.00            1.00        100193.92      0.0  \n",
              "75%             2.00       1.00            1.00        149388.25      0.0  \n",
              "max             4.00       1.00            1.00        199992.48      1.0  "
            ]
          },
          "metadata": {
            "tags": []
          },
          "execution_count": 5
        }
      ]
    },
    {
      "metadata": {
        "id": "6dn340hdjALc",
        "colab_type": "code",
        "outputId": "b6585fe2-ecd9-43d2-e4a4-538ef86f571f",
        "colab": {
          "base_uri": "https://localhost:8080/",
          "height": 363
        }
      },
      "cell_type": "code",
      "source": [
        "# Aqui temos a tabela de correlação, onde tentamos encontrar correlação entre as variáveis.\n",
        "dataset.corr().round(4)"
      ],
      "execution_count": 6,
      "outputs": [
        {
          "output_type": "execute_result",
          "data": {
            "text/html": [
              "<div>\n",
              "<style scoped>\n",
              "    .dataframe tbody tr th:only-of-type {\n",
              "        vertical-align: middle;\n",
              "    }\n",
              "\n",
              "    .dataframe tbody tr th {\n",
              "        vertical-align: top;\n",
              "    }\n",
              "\n",
              "    .dataframe thead th {\n",
              "        text-align: right;\n",
              "    }\n",
              "</style>\n",
              "<table border=\"1\" class=\"dataframe\">\n",
              "  <thead>\n",
              "    <tr style=\"text-align: right;\">\n",
              "      <th></th>\n",
              "      <th>RowNumber</th>\n",
              "      <th>CustomerId</th>\n",
              "      <th>CreditScore</th>\n",
              "      <th>Age</th>\n",
              "      <th>Tenure</th>\n",
              "      <th>Balance</th>\n",
              "      <th>NumOfProducts</th>\n",
              "      <th>HasCrCard</th>\n",
              "      <th>IsActiveMember</th>\n",
              "      <th>EstimatedSalary</th>\n",
              "      <th>Exited</th>\n",
              "    </tr>\n",
              "  </thead>\n",
              "  <tbody>\n",
              "    <tr>\n",
              "      <th>RowNumber</th>\n",
              "      <td>1.0000</td>\n",
              "      <td>0.0042</td>\n",
              "      <td>0.0058</td>\n",
              "      <td>0.0008</td>\n",
              "      <td>-0.0065</td>\n",
              "      <td>-0.0091</td>\n",
              "      <td>0.0072</td>\n",
              "      <td>0.0006</td>\n",
              "      <td>0.0120</td>\n",
              "      <td>-0.0060</td>\n",
              "      <td>-0.0166</td>\n",
              "    </tr>\n",
              "    <tr>\n",
              "      <th>CustomerId</th>\n",
              "      <td>0.0042</td>\n",
              "      <td>1.0000</td>\n",
              "      <td>0.0053</td>\n",
              "      <td>0.0095</td>\n",
              "      <td>-0.0149</td>\n",
              "      <td>-0.0124</td>\n",
              "      <td>0.0170</td>\n",
              "      <td>-0.0140</td>\n",
              "      <td>0.0017</td>\n",
              "      <td>0.0153</td>\n",
              "      <td>-0.0062</td>\n",
              "    </tr>\n",
              "    <tr>\n",
              "      <th>CreditScore</th>\n",
              "      <td>0.0058</td>\n",
              "      <td>0.0053</td>\n",
              "      <td>1.0000</td>\n",
              "      <td>-0.0040</td>\n",
              "      <td>0.0008</td>\n",
              "      <td>0.0063</td>\n",
              "      <td>0.0122</td>\n",
              "      <td>-0.0055</td>\n",
              "      <td>0.0257</td>\n",
              "      <td>-0.0014</td>\n",
              "      <td>-0.0271</td>\n",
              "    </tr>\n",
              "    <tr>\n",
              "      <th>Age</th>\n",
              "      <td>0.0008</td>\n",
              "      <td>0.0095</td>\n",
              "      <td>-0.0040</td>\n",
              "      <td>1.0000</td>\n",
              "      <td>-0.0100</td>\n",
              "      <td>0.0283</td>\n",
              "      <td>-0.0307</td>\n",
              "      <td>-0.0117</td>\n",
              "      <td>0.0855</td>\n",
              "      <td>-0.0072</td>\n",
              "      <td>0.2853</td>\n",
              "    </tr>\n",
              "    <tr>\n",
              "      <th>Tenure</th>\n",
              "      <td>-0.0065</td>\n",
              "      <td>-0.0149</td>\n",
              "      <td>0.0008</td>\n",
              "      <td>-0.0100</td>\n",
              "      <td>1.0000</td>\n",
              "      <td>-0.0123</td>\n",
              "      <td>0.0134</td>\n",
              "      <td>0.0226</td>\n",
              "      <td>-0.0284</td>\n",
              "      <td>0.0078</td>\n",
              "      <td>-0.0140</td>\n",
              "    </tr>\n",
              "    <tr>\n",
              "      <th>Balance</th>\n",
              "      <td>-0.0091</td>\n",
              "      <td>-0.0124</td>\n",
              "      <td>0.0063</td>\n",
              "      <td>0.0283</td>\n",
              "      <td>-0.0123</td>\n",
              "      <td>1.0000</td>\n",
              "      <td>-0.3042</td>\n",
              "      <td>-0.0149</td>\n",
              "      <td>-0.0101</td>\n",
              "      <td>0.0128</td>\n",
              "      <td>0.1185</td>\n",
              "    </tr>\n",
              "    <tr>\n",
              "      <th>NumOfProducts</th>\n",
              "      <td>0.0072</td>\n",
              "      <td>0.0170</td>\n",
              "      <td>0.0122</td>\n",
              "      <td>-0.0307</td>\n",
              "      <td>0.0134</td>\n",
              "      <td>-0.3042</td>\n",
              "      <td>1.0000</td>\n",
              "      <td>0.0032</td>\n",
              "      <td>0.0096</td>\n",
              "      <td>0.0142</td>\n",
              "      <td>-0.0478</td>\n",
              "    </tr>\n",
              "    <tr>\n",
              "      <th>HasCrCard</th>\n",
              "      <td>0.0006</td>\n",
              "      <td>-0.0140</td>\n",
              "      <td>-0.0055</td>\n",
              "      <td>-0.0117</td>\n",
              "      <td>0.0226</td>\n",
              "      <td>-0.0149</td>\n",
              "      <td>0.0032</td>\n",
              "      <td>1.0000</td>\n",
              "      <td>-0.0119</td>\n",
              "      <td>-0.0099</td>\n",
              "      <td>-0.0071</td>\n",
              "    </tr>\n",
              "    <tr>\n",
              "      <th>IsActiveMember</th>\n",
              "      <td>0.0120</td>\n",
              "      <td>0.0017</td>\n",
              "      <td>0.0257</td>\n",
              "      <td>0.0855</td>\n",
              "      <td>-0.0284</td>\n",
              "      <td>-0.0101</td>\n",
              "      <td>0.0096</td>\n",
              "      <td>-0.0119</td>\n",
              "      <td>1.0000</td>\n",
              "      <td>-0.0114</td>\n",
              "      <td>-0.1561</td>\n",
              "    </tr>\n",
              "    <tr>\n",
              "      <th>EstimatedSalary</th>\n",
              "      <td>-0.0060</td>\n",
              "      <td>0.0153</td>\n",
              "      <td>-0.0014</td>\n",
              "      <td>-0.0072</td>\n",
              "      <td>0.0078</td>\n",
              "      <td>0.0128</td>\n",
              "      <td>0.0142</td>\n",
              "      <td>-0.0099</td>\n",
              "      <td>-0.0114</td>\n",
              "      <td>1.0000</td>\n",
              "      <td>0.0121</td>\n",
              "    </tr>\n",
              "    <tr>\n",
              "      <th>Exited</th>\n",
              "      <td>-0.0166</td>\n",
              "      <td>-0.0062</td>\n",
              "      <td>-0.0271</td>\n",
              "      <td>0.2853</td>\n",
              "      <td>-0.0140</td>\n",
              "      <td>0.1185</td>\n",
              "      <td>-0.0478</td>\n",
              "      <td>-0.0071</td>\n",
              "      <td>-0.1561</td>\n",
              "      <td>0.0121</td>\n",
              "      <td>1.0000</td>\n",
              "    </tr>\n",
              "  </tbody>\n",
              "</table>\n",
              "</div>"
            ],
            "text/plain": [
              "                 RowNumber  CustomerId  CreditScore     Age  Tenure  Balance  \\\n",
              "RowNumber           1.0000      0.0042       0.0058  0.0008 -0.0065  -0.0091   \n",
              "CustomerId          0.0042      1.0000       0.0053  0.0095 -0.0149  -0.0124   \n",
              "CreditScore         0.0058      0.0053       1.0000 -0.0040  0.0008   0.0063   \n",
              "Age                 0.0008      0.0095      -0.0040  1.0000 -0.0100   0.0283   \n",
              "Tenure             -0.0065     -0.0149       0.0008 -0.0100  1.0000  -0.0123   \n",
              "Balance            -0.0091     -0.0124       0.0063  0.0283 -0.0123   1.0000   \n",
              "NumOfProducts       0.0072      0.0170       0.0122 -0.0307  0.0134  -0.3042   \n",
              "HasCrCard           0.0006     -0.0140      -0.0055 -0.0117  0.0226  -0.0149   \n",
              "IsActiveMember      0.0120      0.0017       0.0257  0.0855 -0.0284  -0.0101   \n",
              "EstimatedSalary    -0.0060      0.0153      -0.0014 -0.0072  0.0078   0.0128   \n",
              "Exited             -0.0166     -0.0062      -0.0271  0.2853 -0.0140   0.1185   \n",
              "\n",
              "                 NumOfProducts  HasCrCard  IsActiveMember  EstimatedSalary  \\\n",
              "RowNumber               0.0072     0.0006          0.0120          -0.0060   \n",
              "CustomerId              0.0170    -0.0140          0.0017           0.0153   \n",
              "CreditScore             0.0122    -0.0055          0.0257          -0.0014   \n",
              "Age                    -0.0307    -0.0117          0.0855          -0.0072   \n",
              "Tenure                  0.0134     0.0226         -0.0284           0.0078   \n",
              "Balance                -0.3042    -0.0149         -0.0101           0.0128   \n",
              "NumOfProducts           1.0000     0.0032          0.0096           0.0142   \n",
              "HasCrCard               0.0032     1.0000         -0.0119          -0.0099   \n",
              "IsActiveMember          0.0096    -0.0119          1.0000          -0.0114   \n",
              "EstimatedSalary         0.0142    -0.0099         -0.0114           1.0000   \n",
              "Exited                 -0.0478    -0.0071         -0.1561           0.0121   \n",
              "\n",
              "                 Exited  \n",
              "RowNumber       -0.0166  \n",
              "CustomerId      -0.0062  \n",
              "CreditScore     -0.0271  \n",
              "Age              0.2853  \n",
              "Tenure          -0.0140  \n",
              "Balance          0.1185  \n",
              "NumOfProducts   -0.0478  \n",
              "HasCrCard       -0.0071  \n",
              "IsActiveMember  -0.1561  \n",
              "EstimatedSalary  0.0121  \n",
              "Exited           1.0000  "
            ]
          },
          "metadata": {
            "tags": []
          },
          "execution_count": 6
        }
      ]
    },
    {
      "metadata": {
        "id": "AwN5ousvwK6K",
        "colab_type": "code",
        "outputId": "04ce4f45-4049-42b4-d9c2-2a660ca8949b",
        "colab": {
          "base_uri": "https://localhost:8080/",
          "height": 546
        }
      },
      "cell_type": "code",
      "source": [
        "# Aqui temos de forma gráfica a matriz de correlação, que tinhamos visto acima, no formato tabular.\n",
        "# Essa visualização nos permite inferir as correlações existentes entre as variáveis. Obviamente qualquer inferência precisa posteriormente ser provada formalmente.\n",
        "plt.subplots(figsize = (12, 8))\n",
        "sns.heatmap(dataset.corr().round(4), annot = True, cmap = 'Blues')\n",
        "plt.show()"
      ],
      "execution_count": 7,
      "outputs": [
        {
          "output_type": "display_data",
          "data": {
            "image/png": "[encoded data removed]",
            "text/plain": [
              "<Figure size 864x576 with 2 Axes>"
            ]
          },
          "metadata": {
            "tags": []
          }
        }
      ]
    },
    {
      "metadata": {
        "id": "ASVXIsiTqOZO",
        "colab_type": "code",
        "outputId": "5dce875e-048c-4bb0-cc5b-3196a5842cc1",
        "colab": {
          "base_uri": "https://localhost:8080/",
          "height": 50
        }
      },
      "cell_type": "code",
      "source": [
        "sairam = dataset.Exited[dataset['Exited'] == 1].count()\n",
        "ficaram = dataset.Exited[dataset['Exited'] == 0].count()\n",
        "print('Sairam', sairam)\n",
        "print('Ficaram', ficaram)"
      ],
      "execution_count": 8,
      "outputs": [
        {
          "output_type": "stream",
          "text": [
            "Sairam 2037\n",
            "Ficaram 7963\n"
          ],
          "name": "stdout"
        }
      ]
    },
    {
      "metadata": {
        "id": "IY6DP1JfoNyB",
        "colab_type": "code",
        "outputId": "d2448cf0-be56-4ca0-d971-68fa79506a19",
        "colab": {
          "base_uri": "https://localhost:8080/",
          "height": 375
        }
      },
      "cell_type": "code",
      "source": [
        "# Visualizamos a Proporção de Clientes que Evadiram e Ficaram\n",
        "labels = 'Evadiu', 'Ficou'\n",
        "sizes = [dataset.Exited[dataset['Exited'] == 1].count(), dataset.Exited[dataset['Exited'] == 0].count()]\n",
        "explode = (0, 0.1)\n",
        "fig1, ax1 = plt.subplots(figsize = (9, 6))\n",
        "ax1.pie(sizes, explode = explode, labels = labels, autopct = '%1.1f%%', shadow = True, startangle = 90, textprops = {'fontsize': 13, 'weight': 'bold'})\n",
        "ax1.axis('equal')\n",
        "plt.title('Proporção de Clientes que Sairam e Ficaram', size = 14)\n",
        "plt.show()"
      ],
      "execution_count": 9,
      "outputs": [
        {
          "output_type": "display_data",
          "data": {
            "image/png": "[encoded data removed]",
            "text/plain": [
              "<Figure size 648x432 with 1 Axes>"
            ]
          },
          "metadata": {
            "tags": []
          }
        }
      ]
    },
    {
      "metadata": {
        "id": "WqKFizDvo4Io",
        "colab_type": "code",
        "outputId": "5e6aef80-6f15-4c88-8727-29fbebc78f69",
        "colab": {
          "base_uri": "https://localhost:8080/",
          "height": 622
        }
      },
      "cell_type": "code",
      "source": [
        "# Vamos analisar a correlação de algumas variáveis binárias com a saída do cliente\n",
        "fig, axarr = plt.subplots(2, 2, figsize = (25, 10))\n",
        "sns.countplot(x = 'Geography', hue = 'Exited',data = dataset, ax = axarr[0][0])\n",
        "sns.countplot(x = 'Gender', hue = 'Exited',data = dataset, ax = axarr[0][1])\n",
        "sns.countplot(x = 'HasCrCard', hue = 'Exited',data = dataset, ax = axarr[1][0])\n",
        "sns.countplot(x = 'IsActiveMember', hue = 'Exited',data = dataset, ax = axarr[1][1])"
      ],
      "execution_count": 10,
      "outputs": [
        {
          "output_type": "execute_result",
          "data": {
            "text/plain": [
              "<matplotlib.axes._subplots.AxesSubplot at 0x7f774824a518>"
            ]
          },
          "metadata": {
            "tags": []
          },
          "execution_count": 10
        },
        {
          "output_type": "display_data",
          "data": {
            "image/png": "[encoded data removed]",
            "text/plain": [
              "<Figure size 1800x720 with 4 Axes>"
            ]
          },
          "metadata": {
            "tags": []
          }
        }
      ]
    },
    {
      "metadata": {
        "id": "A7eI6Fz4o-BZ",
        "colab_type": "code",
        "outputId": "754c7492-a400-4360-df81-0472dbf6c5f5",
        "colab": {
          "base_uri": "https://localhost:8080/",
          "height": 622
        }
      },
      "cell_type": "code",
      "source": [
        "# Relação baseada em atributos contínuos: Score de Credito, Idade, Tempo de Relacionamento, Saldo, Numero de Produtos e Salario Estimado\n",
        "fig, axarr = plt.subplots(2, 3, figsize = (25, 10))\n",
        "sns.boxplot(y = 'CreditScore', x = 'Exited', hue = 'Exited', data = dataset, ax = axarr[0][0])\n",
        "sns.boxplot(y = 'Age', x = 'Exited', hue = 'Exited', data = dataset , ax = axarr[0][1])\n",
        "sns.boxplot(y = 'Tenure', x = 'Exited', hue = 'Exited', data = dataset, ax = axarr[0][2])\n",
        "sns.boxplot(y = 'Balance', x = 'Exited', hue = 'Exited', data = dataset, ax = axarr[1][0])\n",
        "sns.boxplot(y = 'NumOfProducts', x = 'Exited', hue = 'Exited', data = dataset, ax = axarr[1][1])\n",
        "sns.boxplot(y = 'EstimatedSalary', x = 'Exited', hue = 'Exited', data = dataset, ax = axarr[1][2])"
      ],
      "execution_count": 11,
      "outputs": [
        {
          "output_type": "execute_result",
          "data": {
            "text/plain": [
              "<matplotlib.axes._subplots.AxesSubplot at 0x7f7748086e48>"
            ]
          },
          "metadata": {
            "tags": []
          },
          "execution_count": 11
        },
        {
          "output_type": "display_data",
          "data": {
            "image/png": "[encoded data removed]",
            "text/plain": [
              "<Figure size 1800x720 with 6 Axes>"
            ]
          },
          "metadata": {
            "tags": []
          }
        }
      ]
    },
    {
      "metadata": {
        "id": "zUz7gCbUv78M",
        "colab_type": "code",
        "outputId": "214f64d6-6b09-4ba3-c01f-02580c0ccd9e",
        "colab": {
          "base_uri": "https://localhost:8080/",
          "height": 225
        }
      },
      "cell_type": "code",
      "source": [
        "# Visualização do comportamento da variável Idade em relação à variável Saida (Exited)\n",
        "facet = sns.FacetGrid(dataset, hue = 'Exited', aspect = 7)\n",
        "facet.map(sns.kdeplot, 'Age', shade = True)\n",
        "facet.set(xlim = (0, dataset['Age'].max()))\n",
        "facet.add_legend()\n",
        "plt.show()"
      ],
      "execution_count": 12,
      "outputs": [
        {
          "output_type": "display_data",
          "data": {
            "image/png": "[encoded data removed]",
            "text/plain": [
              "<Figure size 1553.62x216 with 1 Axes>"
            ]
          },
          "metadata": {
            "tags": []
          }
        }
      ]
    },
    {
      "metadata": {
        "id": "wRzw2s3Xv_DC",
        "colab_type": "code",
        "outputId": "c99b991f-8813-49ae-c68e-b28ca12225a1",
        "colab": {
          "base_uri": "https://localhost:8080/",
          "height": 225
        }
      },
      "cell_type": "code",
      "source": [
        "# Visualização do comportamento da variável Saldo em relação à variável Saida (Exited)\n",
        "facet = sns.FacetGrid(dataset, hue = 'Exited', aspect = 7)\n",
        "facet.map(sns.kdeplot, 'Balance', shade = True)\n",
        "facet.set(xlim = (0, dataset['Balance'].max()))\n",
        "facet.add_legend()\n",
        "plt.show()"
      ],
      "execution_count": 13,
      "outputs": [
        {
          "output_type": "display_data",
          "data": {
            "image/png": "[encoded data removed]",
            "text/plain": [
              "<Figure size 1553.62x216 with 1 Axes>"
            ]
          },
          "metadata": {
            "tags": []
          }
        }
      ]
    },
    {
      "metadata": {
        "id": "tZybCrN4wB02",
        "colab_type": "code",
        "outputId": "05f56906-1637-4c8b-a917-15b85c3542b0",
        "colab": {
          "base_uri": "https://localhost:8080/",
          "height": 225
        }
      },
      "cell_type": "code",
      "source": [
        "# Visualização do comportamento da variável Score de Crédito em relação à variável Saida (Exited)\n",
        "facet = sns.FacetGrid(dataset, hue = 'Exited', aspect = 7)\n",
        "facet.map(sns.kdeplot, 'CreditScore', shade = True)\n",
        "facet.set(xlim = (0, dataset['CreditScore'].max()))\n",
        "facet.add_legend()\n",
        "plt.show()"
      ],
      "execution_count": 14,
      "outputs": [
        {
          "output_type": "display_data",
          "data": {
            "image/png": "[encoded data removed]",
            "text/plain": [
              "<Figure size 1553.62x216 with 1 Axes>"
            ]
          },
          "metadata": {
            "tags": []
          }
        }
      ]
    },
    {
      "metadata": {
        "id": "hX7GaeMGTSlg",
        "colab_type": "text"
      },
      "cell_type": "markdown",
      "source": [
        "#### PROCESSAMENTO DE DADOS"
      ]
    },
    {
      "metadata": {
        "id": "iKivGYDSIWVD",
        "colab_type": "code",
        "colab": {}
      },
      "cell_type": "code",
      "source": [
        "# Divisão do Dataset em Variáveis Independentes e Variáveis Dependentes\n",
        "# Variáveis Independentes - Features ou Inputs\n",
        "# Variáveis Dependentes - Classe de Saída ou Output\n",
        "X = dataset.iloc[:, 3:13].values\n",
        "y = dataset.iloc[:, 13].values"
      ],
      "execution_count": 0,
      "outputs": []
    },
    {
      "metadata": {
        "id": "z4FKh0a5FC7n",
        "colab_type": "code",
        "outputId": "0bbcc96a-5760-490c-e23c-a00823ec99af",
        "colab": {
          "base_uri": "https://localhost:8080/",
          "height": 335
        }
      },
      "cell_type": "code",
      "source": [
        "df = pd.DataFrame(X)\n",
        "df.head(10)"
      ],
      "execution_count": 16,
      "outputs": [
        {
          "output_type": "execute_result",
          "data": {
            "text/html": [
              "<div>\n",
              "<style scoped>\n",
              "    .dataframe tbody tr th:only-of-type {\n",
              "        vertical-align: middle;\n",
              "    }\n",
              "\n",
              "    .dataframe tbody tr th {\n",
              "        vertical-align: top;\n",
              "    }\n",
              "\n",
              "    .dataframe thead th {\n",
              "        text-align: right;\n",
              "    }\n",
              "</style>\n",
              "<table border=\"1\" class=\"dataframe\">\n",
              "  <thead>\n",
              "    <tr style=\"text-align: right;\">\n",
              "      <th></th>\n",
              "      <th>0</th>\n",
              "      <th>1</th>\n",
              "      <th>2</th>\n",
              "      <th>3</th>\n",
              "      <th>4</th>\n",
              "      <th>5</th>\n",
              "      <th>6</th>\n",
              "      <th>7</th>\n",
              "      <th>8</th>\n",
              "      <th>9</th>\n",
              "    </tr>\n",
              "  </thead>\n",
              "  <tbody>\n",
              "    <tr>\n",
              "      <th>0</th>\n",
              "      <td>619</td>\n",
              "      <td>France</td>\n",
              "      <td>Female</td>\n",
              "      <td>42</td>\n",
              "      <td>2</td>\n",
              "      <td>0</td>\n",
              "      <td>1</td>\n",
              "      <td>1</td>\n",
              "      <td>1</td>\n",
              "      <td>101349</td>\n",
              "    </tr>\n",
              "    <tr>\n",
              "      <th>1</th>\n",
              "      <td>608</td>\n",
              "      <td>Spain</td>\n",
              "      <td>Female</td>\n",
              "      <td>41</td>\n",
              "      <td>1</td>\n",
              "      <td>83807.9</td>\n",
              "      <td>1</td>\n",
              "      <td>0</td>\n",
              "      <td>1</td>\n",
              "      <td>112543</td>\n",
              "    </tr>\n",
              "    <tr>\n",
              "      <th>2</th>\n",
              "      <td>502</td>\n",
              "      <td>France</td>\n",
              "      <td>Female</td>\n",
              "      <td>42</td>\n",
              "      <td>8</td>\n",
              "      <td>159661</td>\n",
              "      <td>3</td>\n",
              "      <td>1</td>\n",
              "      <td>0</td>\n",
              "      <td>113932</td>\n",
              "    </tr>\n",
              "    <tr>\n",
              "      <th>3</th>\n",
              "      <td>699</td>\n",
              "      <td>France</td>\n",
              "      <td>Female</td>\n",
              "      <td>39</td>\n",
              "      <td>1</td>\n",
              "      <td>0</td>\n",
              "      <td>2</td>\n",
              "      <td>0</td>\n",
              "      <td>0</td>\n",
              "      <td>93826.6</td>\n",
              "    </tr>\n",
              "    <tr>\n",
              "      <th>4</th>\n",
              "      <td>850</td>\n",
              "      <td>Spain</td>\n",
              "      <td>Female</td>\n",
              "      <td>43</td>\n",
              "      <td>2</td>\n",
              "      <td>125511</td>\n",
              "      <td>1</td>\n",
              "      <td>1</td>\n",
              "      <td>1</td>\n",
              "      <td>79084.1</td>\n",
              "    </tr>\n",
              "    <tr>\n",
              "      <th>5</th>\n",
              "      <td>645</td>\n",
              "      <td>Spain</td>\n",
              "      <td>Male</td>\n",
              "      <td>44</td>\n",
              "      <td>8</td>\n",
              "      <td>113756</td>\n",
              "      <td>2</td>\n",
              "      <td>1</td>\n",
              "      <td>0</td>\n",
              "      <td>149757</td>\n",
              "    </tr>\n",
              "    <tr>\n",
              "      <th>6</th>\n",
              "      <td>822</td>\n",
              "      <td>France</td>\n",
              "      <td>Male</td>\n",
              "      <td>50</td>\n",
              "      <td>7</td>\n",
              "      <td>0</td>\n",
              "      <td>2</td>\n",
              "      <td>1</td>\n",
              "      <td>1</td>\n",
              "      <td>10062.8</td>\n",
              "    </tr>\n",
              "    <tr>\n",
              "      <th>7</th>\n",
              "      <td>376</td>\n",
              "      <td>Germany</td>\n",
              "      <td>Female</td>\n",
              "      <td>29</td>\n",
              "      <td>4</td>\n",
              "      <td>115047</td>\n",
              "      <td>4</td>\n",
              "      <td>1</td>\n",
              "      <td>0</td>\n",
              "      <td>119347</td>\n",
              "    </tr>\n",
              "    <tr>\n",
              "      <th>8</th>\n",
              "      <td>501</td>\n",
              "      <td>France</td>\n",
              "      <td>Male</td>\n",
              "      <td>44</td>\n",
              "      <td>4</td>\n",
              "      <td>142051</td>\n",
              "      <td>2</td>\n",
              "      <td>0</td>\n",
              "      <td>1</td>\n",
              "      <td>74940.5</td>\n",
              "    </tr>\n",
              "    <tr>\n",
              "      <th>9</th>\n",
              "      <td>684</td>\n",
              "      <td>France</td>\n",
              "      <td>Male</td>\n",
              "      <td>27</td>\n",
              "      <td>2</td>\n",
              "      <td>134604</td>\n",
              "      <td>1</td>\n",
              "      <td>1</td>\n",
              "      <td>1</td>\n",
              "      <td>71725.7</td>\n",
              "    </tr>\n",
              "  </tbody>\n",
              "</table>\n",
              "</div>"
            ],
            "text/plain": [
              "     0        1       2   3  4        5  6  7  8        9\n",
              "0  619   France  Female  42  2        0  1  1  1   101349\n",
              "1  608    Spain  Female  41  1  83807.9  1  0  1   112543\n",
              "2  502   France  Female  42  8   159661  3  1  0   113932\n",
              "3  699   France  Female  39  1        0  2  0  0  93826.6\n",
              "4  850    Spain  Female  43  2   125511  1  1  1  79084.1\n",
              "5  645    Spain    Male  44  8   113756  2  1  0   149757\n",
              "6  822   France    Male  50  7        0  2  1  1  10062.8\n",
              "7  376  Germany  Female  29  4   115047  4  1  0   119347\n",
              "8  501   France    Male  44  4   142051  2  0  1  74940.5\n",
              "9  684   France    Male  27  2   134604  1  1  1  71725.7"
            ]
          },
          "metadata": {
            "tags": []
          },
          "execution_count": 16
        }
      ]
    },
    {
      "metadata": {
        "id": "ZqIXUXuVFCvj",
        "colab_type": "code",
        "colab": {}
      },
      "cell_type": "code",
      "source": [
        "# Codificando a Variável Independente Pais, de Categorica para Binária.\n",
        "# Será acrescentada mais 1 coluna no dataset, ficando assim 2 colunas para representar o pais.\n",
        "# Sera um array de 3 posições.\n",
        "labelencoder_X_1 = LabelEncoder()\n",
        "X[:, 1] = labelencoder_X_1.fit_transform(X[:, 1])"
      ],
      "execution_count": 0,
      "outputs": []
    },
    {
      "metadata": {
        "id": "xtw6O4eHFCmC",
        "colab_type": "code",
        "colab": {}
      },
      "cell_type": "code",
      "source": [
        "# Codificando a Variável Independente Genero, de Categorica para Binária.\n",
        "# Neste caso, os 2 valores categóricos, serão transformados em 2 valores binários.\n",
        "# Male será convertido para 1\n",
        "# Female será convertido para 0\n",
        "labelencoder_X_2 = LabelEncoder()\n",
        "X[:, 2] = labelencoder_X_2.fit_transform(X[:, 2])"
      ],
      "execution_count": 0,
      "outputs": []
    },
    {
      "metadata": {
        "id": "Iu-U_zfl866O",
        "colab_type": "code",
        "outputId": "8494b9c6-6962-49b1-9a8c-7b7ba0d0f90c",
        "colab": {
          "base_uri": "https://localhost:8080/",
          "height": 70
        }
      },
      "cell_type": "code",
      "source": [
        "onehotencoder = OneHotEncoder(categorical_features = [1])\n",
        "X = onehotencoder.fit_transform(X).toarray()\n",
        "X = X[:, 1:]"
      ],
      "execution_count": 19,
      "outputs": [
        {
          "output_type": "stream",
          "text": [
            "/usr/local/lib/python3.6/dist-packages/sklearn/preprocessing/_encoders.py:390: DeprecationWarning: The 'categorical_features' keyword is deprecated in version 0.20 and will be removed in 0.22. You can use the ColumnTransformer instead.\n",
            "  \"use the ColumnTransformer instead.\", DeprecationWarning)\n"
          ],
          "name": "stderr"
        }
      ]
    },
    {
      "metadata": {
        "id": "08Hq6cpKIWWU",
        "colab_type": "code",
        "outputId": "1e0c0051-af1f-4b54-c066-eacc79922d63",
        "colab": {
          "base_uri": "https://localhost:8080/",
          "height": 335
        }
      },
      "cell_type": "code",
      "source": [
        "df = pd.DataFrame(X)\n",
        "df.head(10)"
      ],
      "execution_count": 20,
      "outputs": [
        {
          "output_type": "execute_result",
          "data": {
            "text/html": [
              "<div>\n",
              "<style scoped>\n",
              "    .dataframe tbody tr th:only-of-type {\n",
              "        vertical-align: middle;\n",
              "    }\n",
              "\n",
              "    .dataframe tbody tr th {\n",
              "        vertical-align: top;\n",
              "    }\n",
              "\n",
              "    .dataframe thead th {\n",
              "        text-align: right;\n",
              "    }\n",
              "</style>\n",
              "<table border=\"1\" class=\"dataframe\">\n",
              "  <thead>\n",
              "    <tr style=\"text-align: right;\">\n",
              "      <th></th>\n",
              "      <th>0</th>\n",
              "      <th>1</th>\n",
              "      <th>2</th>\n",
              "      <th>3</th>\n",
              "      <th>4</th>\n",
              "      <th>5</th>\n",
              "      <th>6</th>\n",
              "      <th>7</th>\n",
              "      <th>8</th>\n",
              "      <th>9</th>\n",
              "      <th>10</th>\n",
              "    </tr>\n",
              "  </thead>\n",
              "  <tbody>\n",
              "    <tr>\n",
              "      <th>0</th>\n",
              "      <td>0.0</td>\n",
              "      <td>0.0</td>\n",
              "      <td>619.0</td>\n",
              "      <td>0.0</td>\n",
              "      <td>42.0</td>\n",
              "      <td>2.0</td>\n",
              "      <td>0.00</td>\n",
              "      <td>1.0</td>\n",
              "      <td>1.0</td>\n",
              "      <td>1.0</td>\n",
              "      <td>101348.88</td>\n",
              "    </tr>\n",
              "    <tr>\n",
              "      <th>1</th>\n",
              "      <td>0.0</td>\n",
              "      <td>1.0</td>\n",
              "      <td>608.0</td>\n",
              "      <td>0.0</td>\n",
              "      <td>41.0</td>\n",
              "      <td>1.0</td>\n",
              "      <td>83807.86</td>\n",
              "      <td>1.0</td>\n",
              "      <td>0.0</td>\n",
              "      <td>1.0</td>\n",
              "      <td>112542.58</td>\n",
              "    </tr>\n",
              "    <tr>\n",
              "      <th>2</th>\n",
              "      <td>0.0</td>\n",
              "      <td>0.0</td>\n",
              "      <td>502.0</td>\n",
              "      <td>0.0</td>\n",
              "      <td>42.0</td>\n",
              "      <td>8.0</td>\n",
              "      <td>159660.80</td>\n",
              "      <td>3.0</td>\n",
              "      <td>1.0</td>\n",
              "      <td>0.0</td>\n",
              "      <td>113931.57</td>\n",
              "    </tr>\n",
              "    <tr>\n",
              "      <th>3</th>\n",
              "      <td>0.0</td>\n",
              "      <td>0.0</td>\n",
              "      <td>699.0</td>\n",
              "      <td>0.0</td>\n",
              "      <td>39.0</td>\n",
              "      <td>1.0</td>\n",
              "      <td>0.00</td>\n",
              "      <td>2.0</td>\n",
              "      <td>0.0</td>\n",
              "      <td>0.0</td>\n",
              "      <td>93826.63</td>\n",
              "    </tr>\n",
              "    <tr>\n",
              "      <th>4</th>\n",
              "      <td>0.0</td>\n",
              "      <td>1.0</td>\n",
              "      <td>850.0</td>\n",
              "      <td>0.0</td>\n",
              "      <td>43.0</td>\n",
              "      <td>2.0</td>\n",
              "      <td>125510.82</td>\n",
              "      <td>1.0</td>\n",
              "      <td>1.0</td>\n",
              "      <td>1.0</td>\n",
              "      <td>79084.10</td>\n",
              "    </tr>\n",
              "    <tr>\n",
              "      <th>5</th>\n",
              "      <td>0.0</td>\n",
              "      <td>1.0</td>\n",
              "      <td>645.0</td>\n",
              "      <td>1.0</td>\n",
              "      <td>44.0</td>\n",
              "      <td>8.0</td>\n",
              "      <td>113755.78</td>\n",
              "      <td>2.0</td>\n",
              "      <td>1.0</td>\n",
              "      <td>0.0</td>\n",
              "      <td>149756.71</td>\n",
              "    </tr>\n",
              "    <tr>\n",
              "      <th>6</th>\n",
              "      <td>0.0</td>\n",
              "      <td>0.0</td>\n",
              "      <td>822.0</td>\n",
              "      <td>1.0</td>\n",
              "      <td>50.0</td>\n",
              "      <td>7.0</td>\n",
              "      <td>0.00</td>\n",
              "      <td>2.0</td>\n",
              "      <td>1.0</td>\n",
              "      <td>1.0</td>\n",
              "      <td>10062.80</td>\n",
              "    </tr>\n",
              "    <tr>\n",
              "      <th>7</th>\n",
              "      <td>1.0</td>\n",
              "      <td>0.0</td>\n",
              "      <td>376.0</td>\n",
              "      <td>0.0</td>\n",
              "      <td>29.0</td>\n",
              "      <td>4.0</td>\n",
              "      <td>115046.74</td>\n",
              "      <td>4.0</td>\n",
              "      <td>1.0</td>\n",
              "      <td>0.0</td>\n",
              "      <td>119346.88</td>\n",
              "    </tr>\n",
              "    <tr>\n",
              "      <th>8</th>\n",
              "      <td>0.0</td>\n",
              "      <td>0.0</td>\n",
              "      <td>501.0</td>\n",
              "      <td>1.0</td>\n",
              "      <td>44.0</td>\n",
              "      <td>4.0</td>\n",
              "      <td>142051.07</td>\n",
              "      <td>2.0</td>\n",
              "      <td>0.0</td>\n",
              "      <td>1.0</td>\n",
              "      <td>74940.50</td>\n",
              "    </tr>\n",
              "    <tr>\n",
              "      <th>9</th>\n",
              "      <td>0.0</td>\n",
              "      <td>0.0</td>\n",
              "      <td>684.0</td>\n",
              "      <td>1.0</td>\n",
              "      <td>27.0</td>\n",
              "      <td>2.0</td>\n",
              "      <td>134603.88</td>\n",
              "      <td>1.0</td>\n",
              "      <td>1.0</td>\n",
              "      <td>1.0</td>\n",
              "      <td>71725.73</td>\n",
              "    </tr>\n",
              "  </tbody>\n",
              "</table>\n",
              "</div>"
            ],
            "text/plain": [
              "    0    1      2    3     4    5          6    7    8    9          10\n",
              "0  0.0  0.0  619.0  0.0  42.0  2.0       0.00  1.0  1.0  1.0  101348.88\n",
              "1  0.0  1.0  608.0  0.0  41.0  1.0   83807.86  1.0  0.0  1.0  112542.58\n",
              "2  0.0  0.0  502.0  0.0  42.0  8.0  159660.80  3.0  1.0  0.0  113931.57\n",
              "3  0.0  0.0  699.0  0.0  39.0  1.0       0.00  2.0  0.0  0.0   93826.63\n",
              "4  0.0  1.0  850.0  0.0  43.0  2.0  125510.82  1.0  1.0  1.0   79084.10\n",
              "5  0.0  1.0  645.0  1.0  44.0  8.0  113755.78  2.0  1.0  0.0  149756.71\n",
              "6  0.0  0.0  822.0  1.0  50.0  7.0       0.00  2.0  1.0  1.0   10062.80\n",
              "7  1.0  0.0  376.0  0.0  29.0  4.0  115046.74  4.0  1.0  0.0  119346.88\n",
              "8  0.0  0.0  501.0  1.0  44.0  4.0  142051.07  2.0  0.0  1.0   74940.50\n",
              "9  0.0  0.0  684.0  1.0  27.0  2.0  134603.88  1.0  1.0  1.0   71725.73"
            ]
          },
          "metadata": {
            "tags": []
          },
          "execution_count": 20
        }
      ]
    },
    {
      "metadata": {
        "id": "vHszCVGSZ-Ip",
        "colab_type": "code",
        "colab": {}
      },
      "cell_type": "code",
      "source": [
        "# Dividindo o dataset em Conjunto de Treinamento e Conjunto de Dados\n",
        "X_train, X_test, y_train, y_test = train_test_split(X, y, test_size = 0.2, random_state = 0)"
      ],
      "execution_count": 0,
      "outputs": []
    },
    {
      "metadata": {
        "id": "4Ihrw93iIWWz",
        "colab_type": "code",
        "colab": {}
      },
      "cell_type": "code",
      "source": [
        "# A recomendação de normalizar os atributos vem do fato de utilizamos ranges com escalas diferentes. Ex: Idade, Salario, etc.\n",
        "# De forma geral, o que é feito aqui é o seguinte: \n",
        "# Variavel Padronizada = (variavel original - media da variavel original) / desvio padrão da variavel original\n",
        "# A variavel original, subtraida pela sua média, e dividida pelo seu desvio padrão. Isso faz com que os valores fiquem normalizados, evitando vieses enganosos.\n",
        "# Sem a padronização, temos uma perda de 10% na acurácia do nosso algoritmo\n",
        "\n",
        "sc = StandardScaler()\n",
        "X_train = sc.fit_transform(X_train)\n",
        "X_test = sc.transform(X_test)"
      ],
      "execution_count": 0,
      "outputs": []
    },
    {
      "metadata": {
        "id": "ieoh7hZ7IWXP",
        "colab_type": "code",
        "outputId": "ede6d2b7-86a7-44fb-89f7-dfc9064c3992",
        "colab": {
          "base_uri": "https://localhost:8080/",
          "height": 335
        }
      },
      "cell_type": "code",
      "source": [
        "# Visualizamos como nosso conjunto de dados será enviado para alimentar a rede neural.\n",
        "df = pd.DataFrame(X_train)\n",
        "df.head(10)"
      ],
      "execution_count": 23,
      "outputs": [
        {
          "output_type": "execute_result",
          "data": {
            "text/html": [
              "<div>\n",
              "<style scoped>\n",
              "    .dataframe tbody tr th:only-of-type {\n",
              "        vertical-align: middle;\n",
              "    }\n",
              "\n",
              "    .dataframe tbody tr th {\n",
              "        vertical-align: top;\n",
              "    }\n",
              "\n",
              "    .dataframe thead th {\n",
              "        text-align: right;\n",
              "    }\n",
              "</style>\n",
              "<table border=\"1\" class=\"dataframe\">\n",
              "  <thead>\n",
              "    <tr style=\"text-align: right;\">\n",
              "      <th></th>\n",
              "      <th>0</th>\n",
              "      <th>1</th>\n",
              "      <th>2</th>\n",
              "      <th>3</th>\n",
              "      <th>4</th>\n",
              "      <th>5</th>\n",
              "      <th>6</th>\n",
              "      <th>7</th>\n",
              "      <th>8</th>\n",
              "      <th>9</th>\n",
              "      <th>10</th>\n",
              "    </tr>\n",
              "  </thead>\n",
              "  <tbody>\n",
              "    <tr>\n",
              "      <th>0</th>\n",
              "      <td>-0.569844</td>\n",
              "      <td>1.743090</td>\n",
              "      <td>0.169582</td>\n",
              "      <td>-1.091687</td>\n",
              "      <td>-0.464608</td>\n",
              "      <td>0.006661</td>\n",
              "      <td>-1.215717</td>\n",
              "      <td>0.809503</td>\n",
              "      <td>0.642595</td>\n",
              "      <td>-1.032270</td>\n",
              "      <td>1.106432</td>\n",
              "    </tr>\n",
              "    <tr>\n",
              "      <th>1</th>\n",
              "      <td>1.754865</td>\n",
              "      <td>-0.573694</td>\n",
              "      <td>-2.304559</td>\n",
              "      <td>0.916013</td>\n",
              "      <td>0.301026</td>\n",
              "      <td>-1.377440</td>\n",
              "      <td>-0.006312</td>\n",
              "      <td>-0.921591</td>\n",
              "      <td>0.642595</td>\n",
              "      <td>0.968738</td>\n",
              "      <td>-0.748664</td>\n",
              "    </tr>\n",
              "    <tr>\n",
              "      <th>2</th>\n",
              "      <td>-0.569844</td>\n",
              "      <td>-0.573694</td>\n",
              "      <td>-1.191196</td>\n",
              "      <td>-1.091687</td>\n",
              "      <td>-0.943129</td>\n",
              "      <td>-1.031415</td>\n",
              "      <td>0.579935</td>\n",
              "      <td>-0.921591</td>\n",
              "      <td>0.642595</td>\n",
              "      <td>-1.032270</td>\n",
              "      <td>1.485335</td>\n",
              "    </tr>\n",
              "    <tr>\n",
              "      <th>3</th>\n",
              "      <td>-0.569844</td>\n",
              "      <td>1.743090</td>\n",
              "      <td>0.035566</td>\n",
              "      <td>0.916013</td>\n",
              "      <td>0.109617</td>\n",
              "      <td>0.006661</td>\n",
              "      <td>0.473128</td>\n",
              "      <td>-0.921591</td>\n",
              "      <td>0.642595</td>\n",
              "      <td>-1.032270</td>\n",
              "      <td>1.276528</td>\n",
              "    </tr>\n",
              "    <tr>\n",
              "      <th>4</th>\n",
              "      <td>-0.569844</td>\n",
              "      <td>1.743090</td>\n",
              "      <td>2.056114</td>\n",
              "      <td>-1.091687</td>\n",
              "      <td>1.736588</td>\n",
              "      <td>1.044737</td>\n",
              "      <td>0.810193</td>\n",
              "      <td>0.809503</td>\n",
              "      <td>0.642595</td>\n",
              "      <td>0.968738</td>\n",
              "      <td>0.558378</td>\n",
              "    </tr>\n",
              "    <tr>\n",
              "      <th>5</th>\n",
              "      <td>1.754865</td>\n",
              "      <td>-0.573694</td>\n",
              "      <td>1.293254</td>\n",
              "      <td>-1.091687</td>\n",
              "      <td>-0.177495</td>\n",
              "      <td>-1.031415</td>\n",
              "      <td>0.442535</td>\n",
              "      <td>0.809503</td>\n",
              "      <td>0.642595</td>\n",
              "      <td>-1.032270</td>\n",
              "      <td>1.632521</td>\n",
              "    </tr>\n",
              "    <tr>\n",
              "      <th>6</th>\n",
              "      <td>-0.569844</td>\n",
              "      <td>-0.573694</td>\n",
              "      <td>1.612831</td>\n",
              "      <td>0.916013</td>\n",
              "      <td>0.779547</td>\n",
              "      <td>-1.377440</td>\n",
              "      <td>0.304328</td>\n",
              "      <td>-0.921591</td>\n",
              "      <td>-1.556190</td>\n",
              "      <td>-1.032270</td>\n",
              "      <td>0.481496</td>\n",
              "    </tr>\n",
              "    <tr>\n",
              "      <th>7</th>\n",
              "      <td>-0.569844</td>\n",
              "      <td>1.743090</td>\n",
              "      <td>-0.541734</td>\n",
              "      <td>0.916013</td>\n",
              "      <td>0.205321</td>\n",
              "      <td>1.044737</td>\n",
              "      <td>-1.215717</td>\n",
              "      <td>0.809503</td>\n",
              "      <td>0.642595</td>\n",
              "      <td>0.968738</td>\n",
              "      <td>1.073822</td>\n",
              "    </tr>\n",
              "    <tr>\n",
              "      <th>8</th>\n",
              "      <td>-0.569844</td>\n",
              "      <td>1.743090</td>\n",
              "      <td>-0.149995</td>\n",
              "      <td>0.916013</td>\n",
              "      <td>3.554968</td>\n",
              "      <td>1.390762</td>\n",
              "      <td>0.806330</td>\n",
              "      <td>-0.921591</td>\n",
              "      <td>0.642595</td>\n",
              "      <td>0.968738</td>\n",
              "      <td>-1.049498</td>\n",
              "    </tr>\n",
              "    <tr>\n",
              "      <th>9</th>\n",
              "      <td>-0.569844</td>\n",
              "      <td>-0.573694</td>\n",
              "      <td>-0.294320</td>\n",
              "      <td>-1.091687</td>\n",
              "      <td>-0.656016</td>\n",
              "      <td>0.352686</td>\n",
              "      <td>1.486364</td>\n",
              "      <td>0.809503</td>\n",
              "      <td>0.642595</td>\n",
              "      <td>-1.032270</td>\n",
              "      <td>0.015394</td>\n",
              "    </tr>\n",
              "  </tbody>\n",
              "</table>\n",
              "</div>"
            ],
            "text/plain": [
              "         0         1         2         3         4         5         6   \\\n",
              "0 -0.569844  1.743090  0.169582 -1.091687 -0.464608  0.006661 -1.215717   \n",
              "1  1.754865 -0.573694 -2.304559  0.916013  0.301026 -1.377440 -0.006312   \n",
              "2 -0.569844 -0.573694 -1.191196 -1.091687 -0.943129 -1.031415  0.579935   \n",
              "3 -0.569844  1.743090  0.035566  0.916013  0.109617  0.006661  0.473128   \n",
              "4 -0.569844  1.743090  2.056114 -1.091687  1.736588  1.044737  0.810193   \n",
              "5  1.754865 -0.573694  1.293254 -1.091687 -0.177495 -1.031415  0.442535   \n",
              "6 -0.569844 -0.573694  1.612831  0.916013  0.779547 -1.377440  0.304328   \n",
              "7 -0.569844  1.743090 -0.541734  0.916013  0.205321  1.044737 -1.215717   \n",
              "8 -0.569844  1.743090 -0.149995  0.916013  3.554968  1.390762  0.806330   \n",
              "9 -0.569844 -0.573694 -0.294320 -1.091687 -0.656016  0.352686  1.486364   \n",
              "\n",
              "         7         8         9         10  \n",
              "0  0.809503  0.642595 -1.032270  1.106432  \n",
              "1 -0.921591  0.642595  0.968738 -0.748664  \n",
              "2 -0.921591  0.642595 -1.032270  1.485335  \n",
              "3 -0.921591  0.642595 -1.032270  1.276528  \n",
              "4  0.809503  0.642595  0.968738  0.558378  \n",
              "5  0.809503  0.642595 -1.032270  1.632521  \n",
              "6 -0.921591 -1.556190 -1.032270  0.481496  \n",
              "7  0.809503  0.642595  0.968738  1.073822  \n",
              "8 -0.921591  0.642595  0.968738 -1.049498  \n",
              "9  0.809503  0.642595 -1.032270  0.015394  "
            ]
          },
          "metadata": {
            "tags": []
          },
          "execution_count": 23
        }
      ]
    },
    {
      "metadata": {
        "id": "4Rtl4asmIWXq",
        "colab_type": "text"
      },
      "cell_type": "markdown",
      "source": [
        "#### CONSTRUINDO O MODELO"
      ]
    },
    {
      "metadata": {
        "id": "UT3YK13SPCm6",
        "colab_type": "code",
        "outputId": "aba4d277-bafc-45cf-9324-a8a8fd0a358a",
        "colab": {
          "base_uri": "https://localhost:8080/",
          "height": 86
        }
      },
      "cell_type": "code",
      "source": [
        "# Aqui definimos os parametros da nossa rede neural\n",
        "model = keras.Sequential([\n",
        "    keras.layers.Dense(units = 9, activation = 'relu', input_dim = 11),\n",
        "    keras.layers.Dense(units = 9, kernel_initializer = 'uniform', activation = 'relu'),\n",
        "    keras.layers.Dense(units = 1, activation = 'sigmoid')\n",
        "])\n",
        "\n",
        "# optmizer - Otimizador: Algoritmo que será utilizado para encontrar o melhor conjunto de pesos na Rede Neural.\n",
        "# lr - Learning Rating: O Quão rapido o algoritmo irá realizar o ajuste de seus pesos\n",
        "optimizer = keras.optimizers.Adam(lr = 0.002)\n",
        "\n",
        "# loss - Perda: Algoritmo que irá calcular a perda, ou seja a diferença entre o valor predito e o valor real.\n",
        "loss = 'binary_crossentropy'\n",
        "\n",
        "# metrics - Métrica: Tipo de Métrica Utilizada para medir o desempenho da Rede\n",
        "metrics = ['accuracy']\n",
        "\n",
        "# Isso faz com que o modelo pare de treinar assim que ele começar a piorar. Congela ele no melhor momento, ou seja, na melhor combinação de parâmetros.\n",
        "earlyStopping = [keras.callbacks.EarlyStopping(monitor = 'val_loss'), keras.callbacks.ModelCheckpoint(filepath = 'bestModel.hdf5', monitor = 'val_loss', save_best_only = True)]\n",
        "\n",
        "# Compilamos nosso modelo, dizendo qual algoritmo iremos utilizar como otimizador, qual iremos utilizar para ajuste de perda e qual tipo de métrica queremos observar.\n",
        "model.compile(optimizer, loss, metrics)\n",
        "\n",
        "# Quantidade de dados que será analisada em cada época\n",
        "batch_size = 10\n",
        "\n",
        "# Quantidade máxima de épocas que nosso algoritmo irá treinar. Chamamos de época o ciclo completo de forward e back propagation - Ida e volta até o final da rede\n",
        "epochs = 30\n",
        "\n",
        "# Nossos dados de treinamento. Variáveis de Entrada\n",
        "trainingInputs = X_train\n",
        "\n",
        "# Nossos dados de treinamento. Variáveis de Saída\n",
        "trainingOutputs = y_train\n"
      ],
      "execution_count": 24,
      "outputs": [
        {
          "output_type": "stream",
          "text": [
            "WARNING:tensorflow:From /usr/local/lib/python3.6/dist-packages/tensorflow/python/ops/resource_variable_ops.py:435: colocate_with (from tensorflow.python.framework.ops) is deprecated and will be removed in a future version.\n",
            "Instructions for updating:\n",
            "Colocations handled automatically by placer.\n"
          ],
          "name": "stdout"
        }
      ]
    },
    {
      "metadata": {
        "id": "dlEodQGs8PdS",
        "colab_type": "code",
        "outputId": "90227575-0fb1-47de-bb6e-cba3ba81413e",
        "colab": {
          "base_uri": "https://localhost:8080/",
          "height": 228
        }
      },
      "cell_type": "code",
      "source": [
        "model.summary()"
      ],
      "execution_count": 25,
      "outputs": [
        {
          "output_type": "stream",
          "text": [
            "_________________________________________________________________\n",
            "Layer (type)                 Output Shape              Param #   \n",
            "=================================================================\n",
            "dense (Dense)                (None, 9)                 108       \n",
            "_________________________________________________________________\n",
            "dense_1 (Dense)              (None, 9)                 90        \n",
            "_________________________________________________________________\n",
            "dense_2 (Dense)              (None, 1)                 10        \n",
            "=================================================================\n",
            "Total params: 208\n",
            "Trainable params: 208\n",
            "Non-trainable params: 0\n",
            "_________________________________________________________________\n"
          ],
          "name": "stdout"
        }
      ]
    },
    {
      "metadata": {
        "id": "omLqC0CM504I",
        "colab_type": "code",
        "colab": {
          "base_uri": "https://localhost:8080/",
          "height": 330
        },
        "outputId": "47877b86-1fff-4bd7-9f82-761a35909243"
      },
      "cell_type": "code",
      "source": [
        "# Realizamos o treinamento e guardamos os parametros (Pesos e Tendencias)\n",
        "trainedModel = model.fit(trainingInputs, trainingOutputs, batch_size, epochs, validation_split = 0.25, callbacks = earlyStopping)"
      ],
      "execution_count": 26,
      "outputs": [
        {
          "output_type": "stream",
          "text": [
            "Train on 6000 samples, validate on 2000 samples\n",
            "WARNING:tensorflow:From /usr/local/lib/python3.6/dist-packages/tensorflow/python/ops/math_ops.py:3066: to_int32 (from tensorflow.python.ops.math_ops) is deprecated and will be removed in a future version.\n",
            "Instructions for updating:\n",
            "Use tf.cast instead.\n",
            "Epoch 1/30\n",
            "6000/6000 [==============================] - 1s 178us/sample - loss: 0.4585 - acc: 0.8042 - val_loss: 0.4254 - val_acc: 0.8140\n",
            "Epoch 2/30\n",
            "6000/6000 [==============================] - 1s 135us/sample - loss: 0.4061 - acc: 0.8265 - val_loss: 0.3921 - val_acc: 0.8400\n",
            "Epoch 3/30\n",
            "6000/6000 [==============================] - 1s 134us/sample - loss: 0.3743 - acc: 0.8455 - val_loss: 0.3731 - val_acc: 0.8470\n",
            "Epoch 4/30\n",
            "6000/6000 [==============================] - 1s 137us/sample - loss: 0.3609 - acc: 0.8510 - val_loss: 0.3667 - val_acc: 0.8510\n",
            "Epoch 5/30\n",
            "6000/6000 [==============================] - 1s 134us/sample - loss: 0.3553 - acc: 0.8540 - val_loss: 0.3659 - val_acc: 0.8480\n",
            "Epoch 6/30\n",
            "6000/6000 [==============================] - 1s 136us/sample - loss: 0.3511 - acc: 0.8538 - val_loss: 0.3632 - val_acc: 0.8495\n",
            "Epoch 7/30\n",
            "6000/6000 [==============================] - 1s 131us/sample - loss: 0.3489 - acc: 0.8558 - val_loss: 0.3638 - val_acc: 0.8530\n"
          ],
          "name": "stdout"
        }
      ]
    },
    {
      "metadata": {
        "id": "Ru4dOSnu8Rnz",
        "colab_type": "code",
        "outputId": "6074bafb-4857-4b91-9777-3fb4a0dbc8ed",
        "colab": {
          "base_uri": "https://localhost:8080/",
          "height": 363
        }
      },
      "cell_type": "code",
      "source": [
        "pesos_Camada_Inicial = pd.DataFrame(model.layers[0].get_weights()[0])\n",
        "pesos_Camada_Inicial"
      ],
      "execution_count": 27,
      "outputs": [
        {
          "output_type": "execute_result",
          "data": {
            "text/html": [
              "<div>\n",
              "<style scoped>\n",
              "    .dataframe tbody tr th:only-of-type {\n",
              "        vertical-align: middle;\n",
              "    }\n",
              "\n",
              "    .dataframe tbody tr th {\n",
              "        vertical-align: top;\n",
              "    }\n",
              "\n",
              "    .dataframe thead th {\n",
              "        text-align: right;\n",
              "    }\n",
              "</style>\n",
              "<table border=\"1\" class=\"dataframe\">\n",
              "  <thead>\n",
              "    <tr style=\"text-align: right;\">\n",
              "      <th></th>\n",
              "      <th>0</th>\n",
              "      <th>1</th>\n",
              "      <th>2</th>\n",
              "      <th>3</th>\n",
              "      <th>4</th>\n",
              "      <th>5</th>\n",
              "      <th>6</th>\n",
              "      <th>7</th>\n",
              "      <th>8</th>\n",
              "    </tr>\n",
              "  </thead>\n",
              "  <tbody>\n",
              "    <tr>\n",
              "      <th>0</th>\n",
              "      <td>-0.219858</td>\n",
              "      <td>-0.380057</td>\n",
              "      <td>-0.437749</td>\n",
              "      <td>-0.295763</td>\n",
              "      <td>0.287579</td>\n",
              "      <td>0.126865</td>\n",
              "      <td>0.268073</td>\n",
              "      <td>-0.138127</td>\n",
              "      <td>0.278538</td>\n",
              "    </tr>\n",
              "    <tr>\n",
              "      <th>1</th>\n",
              "      <td>0.028207</td>\n",
              "      <td>-0.318661</td>\n",
              "      <td>0.240138</td>\n",
              "      <td>0.279644</td>\n",
              "      <td>-0.277073</td>\n",
              "      <td>-0.048797</td>\n",
              "      <td>-0.043518</td>\n",
              "      <td>-0.116160</td>\n",
              "      <td>-0.058598</td>\n",
              "    </tr>\n",
              "    <tr>\n",
              "      <th>2</th>\n",
              "      <td>0.021985</td>\n",
              "      <td>0.073074</td>\n",
              "      <td>0.100275</td>\n",
              "      <td>0.250215</td>\n",
              "      <td>-0.071804</td>\n",
              "      <td>0.010455</td>\n",
              "      <td>0.001619</td>\n",
              "      <td>0.145916</td>\n",
              "      <td>-0.208747</td>\n",
              "    </tr>\n",
              "    <tr>\n",
              "      <th>3</th>\n",
              "      <td>-0.069355</td>\n",
              "      <td>0.520484</td>\n",
              "      <td>-0.524764</td>\n",
              "      <td>0.668653</td>\n",
              "      <td>-0.245887</td>\n",
              "      <td>0.352959</td>\n",
              "      <td>-0.080962</td>\n",
              "      <td>0.037413</td>\n",
              "      <td>-0.256490</td>\n",
              "    </tr>\n",
              "    <tr>\n",
              "      <th>4</th>\n",
              "      <td>0.082610</td>\n",
              "      <td>-0.880653</td>\n",
              "      <td>-0.049767</td>\n",
              "      <td>0.109399</td>\n",
              "      <td>0.308345</td>\n",
              "      <td>0.212706</td>\n",
              "      <td>0.108007</td>\n",
              "      <td>-1.143069</td>\n",
              "      <td>-0.372188</td>\n",
              "    </tr>\n",
              "    <tr>\n",
              "      <th>5</th>\n",
              "      <td>-0.096006</td>\n",
              "      <td>0.079422</td>\n",
              "      <td>-0.330117</td>\n",
              "      <td>-0.233049</td>\n",
              "      <td>-0.157638</td>\n",
              "      <td>0.168363</td>\n",
              "      <td>-0.100053</td>\n",
              "      <td>-0.013402</td>\n",
              "      <td>-0.349948</td>\n",
              "    </tr>\n",
              "    <tr>\n",
              "      <th>6</th>\n",
              "      <td>0.369150</td>\n",
              "      <td>-0.394524</td>\n",
              "      <td>-0.361315</td>\n",
              "      <td>-0.063773</td>\n",
              "      <td>-0.330767</td>\n",
              "      <td>0.158622</td>\n",
              "      <td>-0.184062</td>\n",
              "      <td>0.521066</td>\n",
              "      <td>0.043453</td>\n",
              "    </tr>\n",
              "    <tr>\n",
              "      <th>7</th>\n",
              "      <td>1.131106</td>\n",
              "      <td>0.296703</td>\n",
              "      <td>0.249744</td>\n",
              "      <td>0.324368</td>\n",
              "      <td>-0.324213</td>\n",
              "      <td>0.829230</td>\n",
              "      <td>-1.412094</td>\n",
              "      <td>-0.276092</td>\n",
              "      <td>0.000802</td>\n",
              "    </tr>\n",
              "    <tr>\n",
              "      <th>8</th>\n",
              "      <td>0.032396</td>\n",
              "      <td>-0.128903</td>\n",
              "      <td>0.516861</td>\n",
              "      <td>-0.138846</td>\n",
              "      <td>-0.433380</td>\n",
              "      <td>-0.307700</td>\n",
              "      <td>0.030286</td>\n",
              "      <td>0.128814</td>\n",
              "      <td>-0.028959</td>\n",
              "    </tr>\n",
              "    <tr>\n",
              "      <th>9</th>\n",
              "      <td>-0.313294</td>\n",
              "      <td>-0.247839</td>\n",
              "      <td>-0.245906</td>\n",
              "      <td>0.759997</td>\n",
              "      <td>-0.578073</td>\n",
              "      <td>-0.465187</td>\n",
              "      <td>-0.640771</td>\n",
              "      <td>-0.584080</td>\n",
              "      <td>-0.374700</td>\n",
              "    </tr>\n",
              "    <tr>\n",
              "      <th>10</th>\n",
              "      <td>0.009755</td>\n",
              "      <td>-0.002115</td>\n",
              "      <td>-0.262566</td>\n",
              "      <td>0.002364</td>\n",
              "      <td>0.160826</td>\n",
              "      <td>0.181822</td>\n",
              "      <td>0.103908</td>\n",
              "      <td>0.149553</td>\n",
              "      <td>0.090620</td>\n",
              "    </tr>\n",
              "  </tbody>\n",
              "</table>\n",
              "</div>"
            ],
            "text/plain": [
              "           0         1         2         3         4         5         6  \\\n",
              "0  -0.219858 -0.380057 -0.437749 -0.295763  0.287579  0.126865  0.268073   \n",
              "1   0.028207 -0.318661  0.240138  0.279644 -0.277073 -0.048797 -0.043518   \n",
              "2   0.021985  0.073074  0.100275  0.250215 -0.071804  0.010455  0.001619   \n",
              "3  -0.069355  0.520484 -0.524764  0.668653 -0.245887  0.352959 -0.080962   \n",
              "4   0.082610 -0.880653 -0.049767  0.109399  0.308345  0.212706  0.108007   \n",
              "5  -0.096006  0.079422 -0.330117 -0.233049 -0.157638  0.168363 -0.100053   \n",
              "6   0.369150 -0.394524 -0.361315 -0.063773 -0.330767  0.158622 -0.184062   \n",
              "7   1.131106  0.296703  0.249744  0.324368 -0.324213  0.829230 -1.412094   \n",
              "8   0.032396 -0.128903  0.516861 -0.138846 -0.433380 -0.307700  0.030286   \n",
              "9  -0.313294 -0.247839 -0.245906  0.759997 -0.578073 -0.465187 -0.640771   \n",
              "10  0.009755 -0.002115 -0.262566  0.002364  0.160826  0.181822  0.103908   \n",
              "\n",
              "           7         8  \n",
              "0  -0.138127  0.278538  \n",
              "1  -0.116160 -0.058598  \n",
              "2   0.145916 -0.208747  \n",
              "3   0.037413 -0.256490  \n",
              "4  -1.143069 -0.372188  \n",
              "5  -0.013402 -0.349948  \n",
              "6   0.521066  0.043453  \n",
              "7  -0.276092  0.000802  \n",
              "8   0.128814 -0.028959  \n",
              "9  -0.584080 -0.374700  \n",
              "10  0.149553  0.090620  "
            ]
          },
          "metadata": {
            "tags": []
          },
          "execution_count": 27
        }
      ]
    },
    {
      "metadata": {
        "id": "tZOm_-FQRSNo",
        "colab_type": "code",
        "colab": {
          "base_uri": "https://localhost:8080/",
          "height": 306
        },
        "outputId": "927d6b92-f760-4660-ac15-f5201f701253"
      },
      "cell_type": "code",
      "source": [
        "vies_Camada_Inicial = pd.DataFrame(model.layers[0].get_weights()[1])\n",
        "vies_Camada_Inicial"
      ],
      "execution_count": 28,
      "outputs": [
        {
          "output_type": "execute_result",
          "data": {
            "text/html": [
              "<div>\n",
              "<style scoped>\n",
              "    .dataframe tbody tr th:only-of-type {\n",
              "        vertical-align: middle;\n",
              "    }\n",
              "\n",
              "    .dataframe tbody tr th {\n",
              "        vertical-align: top;\n",
              "    }\n",
              "\n",
              "    .dataframe thead th {\n",
              "        text-align: right;\n",
              "    }\n",
              "</style>\n",
              "<table border=\"1\" class=\"dataframe\">\n",
              "  <thead>\n",
              "    <tr style=\"text-align: right;\">\n",
              "      <th></th>\n",
              "      <th>0</th>\n",
              "    </tr>\n",
              "  </thead>\n",
              "  <tbody>\n",
              "    <tr>\n",
              "      <th>0</th>\n",
              "      <td>-0.545905</td>\n",
              "    </tr>\n",
              "    <tr>\n",
              "      <th>1</th>\n",
              "      <td>0.620438</td>\n",
              "    </tr>\n",
              "    <tr>\n",
              "      <th>2</th>\n",
              "      <td>-0.076694</td>\n",
              "    </tr>\n",
              "    <tr>\n",
              "      <th>3</th>\n",
              "      <td>0.419285</td>\n",
              "    </tr>\n",
              "    <tr>\n",
              "      <th>4</th>\n",
              "      <td>-0.047594</td>\n",
              "    </tr>\n",
              "    <tr>\n",
              "      <th>5</th>\n",
              "      <td>-0.465918</td>\n",
              "    </tr>\n",
              "    <tr>\n",
              "      <th>6</th>\n",
              "      <td>0.249133</td>\n",
              "    </tr>\n",
              "    <tr>\n",
              "      <th>7</th>\n",
              "      <td>0.608336</td>\n",
              "    </tr>\n",
              "    <tr>\n",
              "      <th>8</th>\n",
              "      <td>-0.387280</td>\n",
              "    </tr>\n",
              "  </tbody>\n",
              "</table>\n",
              "</div>"
            ],
            "text/plain": [
              "          0\n",
              "0 -0.545905\n",
              "1  0.620438\n",
              "2 -0.076694\n",
              "3  0.419285\n",
              "4 -0.047594\n",
              "5 -0.465918\n",
              "6  0.249133\n",
              "7  0.608336\n",
              "8 -0.387280"
            ]
          },
          "metadata": {
            "tags": []
          },
          "execution_count": 28
        }
      ]
    },
    {
      "metadata": {
        "id": "e_XgY0suRSLE",
        "colab_type": "code",
        "colab": {
          "base_uri": "https://localhost:8080/",
          "height": 306
        },
        "outputId": "cc3659dd-7be9-47f0-b5af-0ccb43bac89e"
      },
      "cell_type": "code",
      "source": [
        "pesos_Camada_Oculta = pd.DataFrame(model.layers[1].get_weights()[0])\n",
        "pesos_Camada_Oculta"
      ],
      "execution_count": 29,
      "outputs": [
        {
          "output_type": "execute_result",
          "data": {
            "text/html": [
              "<div>\n",
              "<style scoped>\n",
              "    .dataframe tbody tr th:only-of-type {\n",
              "        vertical-align: middle;\n",
              "    }\n",
              "\n",
              "    .dataframe tbody tr th {\n",
              "        vertical-align: top;\n",
              "    }\n",
              "\n",
              "    .dataframe thead th {\n",
              "        text-align: right;\n",
              "    }\n",
              "</style>\n",
              "<table border=\"1\" class=\"dataframe\">\n",
              "  <thead>\n",
              "    <tr style=\"text-align: right;\">\n",
              "      <th></th>\n",
              "      <th>0</th>\n",
              "      <th>1</th>\n",
              "      <th>2</th>\n",
              "      <th>3</th>\n",
              "      <th>4</th>\n",
              "      <th>5</th>\n",
              "      <th>6</th>\n",
              "      <th>7</th>\n",
              "      <th>8</th>\n",
              "    </tr>\n",
              "  </thead>\n",
              "  <tbody>\n",
              "    <tr>\n",
              "      <th>0</th>\n",
              "      <td>-0.301973</td>\n",
              "      <td>-0.240376</td>\n",
              "      <td>0.694961</td>\n",
              "      <td>-0.249579</td>\n",
              "      <td>0.539159</td>\n",
              "      <td>-0.226105</td>\n",
              "      <td>-0.269153</td>\n",
              "      <td>-0.286244</td>\n",
              "      <td>0.010368</td>\n",
              "    </tr>\n",
              "    <tr>\n",
              "      <th>1</th>\n",
              "      <td>0.142773</td>\n",
              "      <td>0.176367</td>\n",
              "      <td>-0.011530</td>\n",
              "      <td>0.191024</td>\n",
              "      <td>-0.114756</td>\n",
              "      <td>0.201577</td>\n",
              "      <td>0.231134</td>\n",
              "      <td>0.207514</td>\n",
              "      <td>-0.037905</td>\n",
              "    </tr>\n",
              "    <tr>\n",
              "      <th>2</th>\n",
              "      <td>0.103489</td>\n",
              "      <td>0.053215</td>\n",
              "      <td>0.085657</td>\n",
              "      <td>0.051410</td>\n",
              "      <td>0.164652</td>\n",
              "      <td>0.044467</td>\n",
              "      <td>0.116177</td>\n",
              "      <td>0.093803</td>\n",
              "      <td>-0.045493</td>\n",
              "    </tr>\n",
              "    <tr>\n",
              "      <th>3</th>\n",
              "      <td>0.092265</td>\n",
              "      <td>0.115160</td>\n",
              "      <td>0.024465</td>\n",
              "      <td>0.128617</td>\n",
              "      <td>0.035908</td>\n",
              "      <td>0.103960</td>\n",
              "      <td>0.063884</td>\n",
              "      <td>0.122117</td>\n",
              "      <td>-0.032243</td>\n",
              "    </tr>\n",
              "    <tr>\n",
              "      <th>4</th>\n",
              "      <td>-0.051808</td>\n",
              "      <td>0.040070</td>\n",
              "      <td>0.205833</td>\n",
              "      <td>0.017868</td>\n",
              "      <td>0.165848</td>\n",
              "      <td>0.019555</td>\n",
              "      <td>0.085450</td>\n",
              "      <td>0.035842</td>\n",
              "      <td>-0.048859</td>\n",
              "    </tr>\n",
              "    <tr>\n",
              "      <th>5</th>\n",
              "      <td>0.014749</td>\n",
              "      <td>-0.030348</td>\n",
              "      <td>0.386194</td>\n",
              "      <td>-0.041499</td>\n",
              "      <td>0.238536</td>\n",
              "      <td>-0.041257</td>\n",
              "      <td>0.006526</td>\n",
              "      <td>-0.025920</td>\n",
              "      <td>-0.023232</td>\n",
              "    </tr>\n",
              "    <tr>\n",
              "      <th>6</th>\n",
              "      <td>-0.442229</td>\n",
              "      <td>-0.225903</td>\n",
              "      <td>0.425259</td>\n",
              "      <td>-0.218172</td>\n",
              "      <td>0.322041</td>\n",
              "      <td>-0.225362</td>\n",
              "      <td>-0.254642</td>\n",
              "      <td>-0.238944</td>\n",
              "      <td>-0.055823</td>\n",
              "    </tr>\n",
              "    <tr>\n",
              "      <th>7</th>\n",
              "      <td>-0.118829</td>\n",
              "      <td>0.095796</td>\n",
              "      <td>-0.120282</td>\n",
              "      <td>0.117084</td>\n",
              "      <td>-0.537253</td>\n",
              "      <td>0.052372</td>\n",
              "      <td>0.145590</td>\n",
              "      <td>0.171534</td>\n",
              "      <td>0.012708</td>\n",
              "    </tr>\n",
              "    <tr>\n",
              "      <th>8</th>\n",
              "      <td>-0.068897</td>\n",
              "      <td>0.115810</td>\n",
              "      <td>0.038712</td>\n",
              "      <td>0.151381</td>\n",
              "      <td>-0.056669</td>\n",
              "      <td>0.046178</td>\n",
              "      <td>0.164648</td>\n",
              "      <td>0.109989</td>\n",
              "      <td>-0.000890</td>\n",
              "    </tr>\n",
              "  </tbody>\n",
              "</table>\n",
              "</div>"
            ],
            "text/plain": [
              "          0         1         2         3         4         5         6  \\\n",
              "0 -0.301973 -0.240376  0.694961 -0.249579  0.539159 -0.226105 -0.269153   \n",
              "1  0.142773  0.176367 -0.011530  0.191024 -0.114756  0.201577  0.231134   \n",
              "2  0.103489  0.053215  0.085657  0.051410  0.164652  0.044467  0.116177   \n",
              "3  0.092265  0.115160  0.024465  0.128617  0.035908  0.103960  0.063884   \n",
              "4 -0.051808  0.040070  0.205833  0.017868  0.165848  0.019555  0.085450   \n",
              "5  0.014749 -0.030348  0.386194 -0.041499  0.238536 -0.041257  0.006526   \n",
              "6 -0.442229 -0.225903  0.425259 -0.218172  0.322041 -0.225362 -0.254642   \n",
              "7 -0.118829  0.095796 -0.120282  0.117084 -0.537253  0.052372  0.145590   \n",
              "8 -0.068897  0.115810  0.038712  0.151381 -0.056669  0.046178  0.164648   \n",
              "\n",
              "          7         8  \n",
              "0 -0.286244  0.010368  \n",
              "1  0.207514 -0.037905  \n",
              "2  0.093803 -0.045493  \n",
              "3  0.122117 -0.032243  \n",
              "4  0.035842 -0.048859  \n",
              "5 -0.025920 -0.023232  \n",
              "6 -0.238944 -0.055823  \n",
              "7  0.171534  0.012708  \n",
              "8  0.109989 -0.000890  "
            ]
          },
          "metadata": {
            "tags": []
          },
          "execution_count": 29
        }
      ]
    },
    {
      "metadata": {
        "id": "5vTlcCcrRSIY",
        "colab_type": "code",
        "colab": {
          "base_uri": "https://localhost:8080/",
          "height": 306
        },
        "outputId": "844d81eb-5dfe-4ac7-bbf6-a0d6c0f54e56"
      },
      "cell_type": "code",
      "source": [
        "vies_Camada_Oculta = pd.DataFrame(model.layers[1].get_weights()[1])\n",
        "vies_Camada_Oculta"
      ],
      "execution_count": 30,
      "outputs": [
        {
          "output_type": "execute_result",
          "data": {
            "text/html": [
              "<div>\n",
              "<style scoped>\n",
              "    .dataframe tbody tr th:only-of-type {\n",
              "        vertical-align: middle;\n",
              "    }\n",
              "\n",
              "    .dataframe tbody tr th {\n",
              "        vertical-align: top;\n",
              "    }\n",
              "\n",
              "    .dataframe thead th {\n",
              "        text-align: right;\n",
              "    }\n",
              "</style>\n",
              "<table border=\"1\" class=\"dataframe\">\n",
              "  <thead>\n",
              "    <tr style=\"text-align: right;\">\n",
              "      <th></th>\n",
              "      <th>0</th>\n",
              "    </tr>\n",
              "  </thead>\n",
              "  <tbody>\n",
              "    <tr>\n",
              "      <th>0</th>\n",
              "      <td>0.336578</td>\n",
              "    </tr>\n",
              "    <tr>\n",
              "      <th>1</th>\n",
              "      <td>0.445401</td>\n",
              "    </tr>\n",
              "    <tr>\n",
              "      <th>2</th>\n",
              "      <td>-0.166322</td>\n",
              "    </tr>\n",
              "    <tr>\n",
              "      <th>3</th>\n",
              "      <td>0.469793</td>\n",
              "    </tr>\n",
              "    <tr>\n",
              "      <th>4</th>\n",
              "      <td>-0.127693</td>\n",
              "    </tr>\n",
              "    <tr>\n",
              "      <th>5</th>\n",
              "      <td>0.431730</td>\n",
              "    </tr>\n",
              "    <tr>\n",
              "      <th>6</th>\n",
              "      <td>0.383883</td>\n",
              "    </tr>\n",
              "    <tr>\n",
              "      <th>7</th>\n",
              "      <td>0.478768</td>\n",
              "    </tr>\n",
              "    <tr>\n",
              "      <th>8</th>\n",
              "      <td>-0.025944</td>\n",
              "    </tr>\n",
              "  </tbody>\n",
              "</table>\n",
              "</div>"
            ],
            "text/plain": [
              "          0\n",
              "0  0.336578\n",
              "1  0.445401\n",
              "2 -0.166322\n",
              "3  0.469793\n",
              "4 -0.127693\n",
              "5  0.431730\n",
              "6  0.383883\n",
              "7  0.478768\n",
              "8 -0.025944"
            ]
          },
          "metadata": {
            "tags": []
          },
          "execution_count": 30
        }
      ]
    },
    {
      "metadata": {
        "id": "GekeG4FORSGA",
        "colab_type": "code",
        "colab": {
          "base_uri": "https://localhost:8080/",
          "height": 306
        },
        "outputId": "c8c24d8f-4147-47c2-e67d-0d31511f768f"
      },
      "cell_type": "code",
      "source": [
        "pesos_Camada_Oculta_Saida = pd.DataFrame(model.layers[2].get_weights()[0])\n",
        "pesos_Camada_Oculta_Saida"
      ],
      "execution_count": 31,
      "outputs": [
        {
          "output_type": "execute_result",
          "data": {
            "text/html": [
              "<div>\n",
              "<style scoped>\n",
              "    .dataframe tbody tr th:only-of-type {\n",
              "        vertical-align: middle;\n",
              "    }\n",
              "\n",
              "    .dataframe tbody tr th {\n",
              "        vertical-align: top;\n",
              "    }\n",
              "\n",
              "    .dataframe thead th {\n",
              "        text-align: right;\n",
              "    }\n",
              "</style>\n",
              "<table border=\"1\" class=\"dataframe\">\n",
              "  <thead>\n",
              "    <tr style=\"text-align: right;\">\n",
              "      <th></th>\n",
              "      <th>0</th>\n",
              "    </tr>\n",
              "  </thead>\n",
              "  <tbody>\n",
              "    <tr>\n",
              "      <th>0</th>\n",
              "      <td>-0.745943</td>\n",
              "    </tr>\n",
              "    <tr>\n",
              "      <th>1</th>\n",
              "      <td>-0.766210</td>\n",
              "    </tr>\n",
              "    <tr>\n",
              "      <th>2</th>\n",
              "      <td>0.743284</td>\n",
              "    </tr>\n",
              "    <tr>\n",
              "      <th>3</th>\n",
              "      <td>-0.888340</td>\n",
              "    </tr>\n",
              "    <tr>\n",
              "      <th>4</th>\n",
              "      <td>1.046754</td>\n",
              "    </tr>\n",
              "    <tr>\n",
              "      <th>5</th>\n",
              "      <td>-0.633806</td>\n",
              "    </tr>\n",
              "    <tr>\n",
              "      <th>6</th>\n",
              "      <td>-0.987486</td>\n",
              "    </tr>\n",
              "    <tr>\n",
              "      <th>7</th>\n",
              "      <td>-0.306147</td>\n",
              "    </tr>\n",
              "    <tr>\n",
              "      <th>8</th>\n",
              "      <td>0.511102</td>\n",
              "    </tr>\n",
              "  </tbody>\n",
              "</table>\n",
              "</div>"
            ],
            "text/plain": [
              "          0\n",
              "0 -0.745943\n",
              "1 -0.766210\n",
              "2  0.743284\n",
              "3 -0.888340\n",
              "4  1.046754\n",
              "5 -0.633806\n",
              "6 -0.987486\n",
              "7 -0.306147\n",
              "8  0.511102"
            ]
          },
          "metadata": {
            "tags": []
          },
          "execution_count": 31
        }
      ]
    },
    {
      "metadata": {
        "id": "FhfMM0GPRSCx",
        "colab_type": "code",
        "colab": {
          "base_uri": "https://localhost:8080/",
          "height": 76
        },
        "outputId": "ff442287-e529-4ac6-f75a-5b8dd39c45da"
      },
      "cell_type": "code",
      "source": [
        "vies_Camada_Oculta_Saida = pd.DataFrame(model.layers[2].get_weights()[1])\n",
        "vies_Camada_Oculta_Saida"
      ],
      "execution_count": 32,
      "outputs": [
        {
          "output_type": "execute_result",
          "data": {
            "text/html": [
              "<div>\n",
              "<style scoped>\n",
              "    .dataframe tbody tr th:only-of-type {\n",
              "        vertical-align: middle;\n",
              "    }\n",
              "\n",
              "    .dataframe tbody tr th {\n",
              "        vertical-align: top;\n",
              "    }\n",
              "\n",
              "    .dataframe thead th {\n",
              "        text-align: right;\n",
              "    }\n",
              "</style>\n",
              "<table border=\"1\" class=\"dataframe\">\n",
              "  <thead>\n",
              "    <tr style=\"text-align: right;\">\n",
              "      <th></th>\n",
              "      <th>0</th>\n",
              "    </tr>\n",
              "  </thead>\n",
              "  <tbody>\n",
              "    <tr>\n",
              "      <th>0</th>\n",
              "      <td>-0.275409</td>\n",
              "    </tr>\n",
              "  </tbody>\n",
              "</table>\n",
              "</div>"
            ],
            "text/plain": [
              "          0\n",
              "0 -0.275409"
            ]
          },
          "metadata": {
            "tags": []
          },
          "execution_count": 32
        }
      ]
    },
    {
      "metadata": {
        "id": "v5-qb9U5vyML",
        "colab_type": "code",
        "outputId": "3d829c98-b9fa-4fd1-c7b2-4010faefa302",
        "colab": {
          "base_uri": "https://localhost:8080/",
          "height": 528
        }
      },
      "cell_type": "code",
      "source": [
        "# Aqui visualizamos a progressão da nossa acurácia. Repare que ela aumenta conforme as épocas vão avançando.\n",
        "# Isso faz todo sentido, uma vez que os ajustes vão sendo realizados nos neurônios (Pesos e Tendencias).\n",
        "plt.subplots(figsize = (8, 8))\n",
        "plt.plot(trainedModel.history['acc'])\n",
        "plt.plot(trainedModel.history['val_acc'])\n",
        "plt.title('Acurácia por Epochs')\n",
        "plt.xlabel('Epochs')\n",
        "plt.ylabel('Acurácia')\n",
        "plt.legend(['Treino', 'Validação'])"
      ],
      "execution_count": 33,
      "outputs": [
        {
          "output_type": "execute_result",
          "data": {
            "text/plain": [
              "<matplotlib.legend.Legend at 0x7f7741ec89e8>"
            ]
          },
          "metadata": {
            "tags": []
          },
          "execution_count": 33
        },
        {
          "output_type": "display_data",
          "data": {
            "image/png": "[encoded data removed]",
            "text/plain": [
              "<Figure size 576x576 with 1 Axes>"
            ]
          },
          "metadata": {
            "tags": []
          }
        }
      ]
    },
    {
      "metadata": {
        "id": "cF6LS0uqv9lU",
        "colab_type": "code",
        "outputId": "1ee986dd-b9b1-4eb6-abaa-e82bd24140d6",
        "colab": {
          "base_uri": "https://localhost:8080/",
          "height": 528
        }
      },
      "cell_type": "code",
      "source": [
        "# Aqui visualizamos a progressão da nossa perda. Tanto de treino como de validação. Ela deve fazer o caminho inverso da acurácia, ja que uma deve cair para outra subir.\n",
        "# Falando por alto, essa perda que nos referimos aqui, é o quando estamos errando em nossa predição. Repare que a perda cai conforme as épocas vão avançando.\n",
        "plt.subplots(figsize = (8, 8))\n",
        "plt.plot(trainedModel.history['loss'])\n",
        "plt.plot(trainedModel.history['val_loss'])\n",
        "plt.title('Perda por Epochs')\n",
        "plt.xlabel('Epochs')\n",
        "plt.ylabel('Perda')\n",
        "plt.legend(['Treino', 'Validação'])"
      ],
      "execution_count": 34,
      "outputs": [
        {
          "output_type": "execute_result",
          "data": {
            "text/plain": [
              "<matplotlib.legend.Legend at 0x7f77481c6b38>"
            ]
          },
          "metadata": {
            "tags": []
          },
          "execution_count": 34
        },
        {
          "output_type": "display_data",
          "data": {
            "image/png": "[encoded data removed]",
            "text/plain": [
              "<Figure size 576x576 with 1 Axes>"
            ]
          },
          "metadata": {
            "tags": []
          }
        }
      ]
    },
    {
      "metadata": {
        "id": "JN9uPUDuIWZp",
        "colab_type": "text"
      },
      "cell_type": "markdown",
      "source": [
        "#### FAZENDO PREDIÇÕES E AVALIANDO O MODELO"
      ]
    },
    {
      "metadata": {
        "id": "qg8gGC0wIWZ2",
        "colab_type": "code",
        "colab": {}
      },
      "cell_type": "code",
      "source": [
        "# Testando nosso modelo no conjunto de teste\n",
        "y_pred = model.predict(X_test)"
      ],
      "execution_count": 0,
      "outputs": []
    },
    {
      "metadata": {
        "id": "jbHNPD7wIWaG",
        "colab_type": "code",
        "outputId": "4ec6ee66-697e-4e8e-ab0a-bc0348fe8754",
        "colab": {
          "base_uri": "https://localhost:8080/",
          "height": 335
        }
      },
      "cell_type": "code",
      "source": [
        "# Convertendo o array com as probabilidades em um Data Frame\n",
        "# O modelo nos retorna um array com as probabilidades de cada cliente evadir. Com base nisso, montamos nossa estratégia de retenção.\n",
        "df_y_pred = pd.DataFrame(y_pred)\n",
        "\n",
        "# Mostrando as 5 primeiras linhas\n",
        "df_y_pred.head(10)"
      ],
      "execution_count": 36,
      "outputs": [
        {
          "output_type": "execute_result",
          "data": {
            "text/html": [
              "<div>\n",
              "<style scoped>\n",
              "    .dataframe tbody tr th:only-of-type {\n",
              "        vertical-align: middle;\n",
              "    }\n",
              "\n",
              "    .dataframe tbody tr th {\n",
              "        vertical-align: top;\n",
              "    }\n",
              "\n",
              "    .dataframe thead th {\n",
              "        text-align: right;\n",
              "    }\n",
              "</style>\n",
              "<table border=\"1\" class=\"dataframe\">\n",
              "  <thead>\n",
              "    <tr style=\"text-align: right;\">\n",
              "      <th></th>\n",
              "      <th>0</th>\n",
              "    </tr>\n",
              "  </thead>\n",
              "  <tbody>\n",
              "    <tr>\n",
              "      <th>0</th>\n",
              "      <td>0.271295</td>\n",
              "    </tr>\n",
              "    <tr>\n",
              "      <th>1</th>\n",
              "      <td>0.340591</td>\n",
              "    </tr>\n",
              "    <tr>\n",
              "      <th>2</th>\n",
              "      <td>0.178914</td>\n",
              "    </tr>\n",
              "    <tr>\n",
              "      <th>3</th>\n",
              "      <td>0.050604</td>\n",
              "    </tr>\n",
              "    <tr>\n",
              "      <th>4</th>\n",
              "      <td>0.060713</td>\n",
              "    </tr>\n",
              "    <tr>\n",
              "      <th>5</th>\n",
              "      <td>0.838381</td>\n",
              "    </tr>\n",
              "    <tr>\n",
              "      <th>6</th>\n",
              "      <td>0.014586</td>\n",
              "    </tr>\n",
              "    <tr>\n",
              "      <th>7</th>\n",
              "      <td>0.091643</td>\n",
              "    </tr>\n",
              "    <tr>\n",
              "      <th>8</th>\n",
              "      <td>0.401859</td>\n",
              "    </tr>\n",
              "    <tr>\n",
              "      <th>9</th>\n",
              "      <td>0.895701</td>\n",
              "    </tr>\n",
              "  </tbody>\n",
              "</table>\n",
              "</div>"
            ],
            "text/plain": [
              "          0\n",
              "0  0.271295\n",
              "1  0.340591\n",
              "2  0.178914\n",
              "3  0.050604\n",
              "4  0.060713\n",
              "5  0.838381\n",
              "6  0.014586\n",
              "7  0.091643\n",
              "8  0.401859\n",
              "9  0.895701"
            ]
          },
          "metadata": {
            "tags": []
          },
          "execution_count": 36
        }
      ]
    },
    {
      "metadata": {
        "id": "GSXZQuJWIWaw",
        "colab_type": "code",
        "outputId": "593af170-cf8b-4598-9999-2a7ed34cc595",
        "colab": {
          "base_uri": "https://localhost:8080/",
          "height": 500
        }
      },
      "cell_type": "code",
      "source": [
        "plt.clf()\n",
        "plt.subplots(figsize = (8, 8))\n",
        "cm = confusion_matrix(y_test, y_pred.round())\n",
        "plt.imshow(cm, interpolation = 'nearest', cmap = plt.cm.Blues)\n",
        "classNames = ['Negativo', 'Positivo']\n",
        "plt.title('MATRIZ DE CONFUSÃO')\n",
        "plt.ylabel('Classe Original')\n",
        "plt.xlabel('Classe Predita')\n",
        "tick_marks = np.arange(len(classNames))\n",
        "plt.xticks(tick_marks, classNames, rotation = 45)\n",
        "plt.yticks(tick_marks, classNames)\n",
        "s = [['TN', 'FP'], ['FN', 'TP']]\n",
        "plt.colorbar()\n",
        "for i in range(2):\n",
        "    for j in range(2):\n",
        "        plt.text(j,i, str(s[i][j])+' = '+str(cm[i][j]), horizontalalignment = 'center', color = 'black')\n",
        "plt.show()"
      ],
      "execution_count": 37,
      "outputs": [
        {
          "output_type": "display_data",
          "data": {
            "text/plain": [
              "<Figure size 432x288 with 0 Axes>"
            ]
          },
          "metadata": {
            "tags": []
          }
        },
        {
          "output_type": "display_data",
          "data": {
            "image/png": "[encoded data removed]",
            "text/plain": [
              "<Figure size 576x576 with 2 Axes>"
            ]
          },
          "metadata": {
            "tags": []
          }
        }
      ]
    },
    {
      "metadata": {
        "id": "TtO_c7mx26b8",
        "colab_type": "code",
        "outputId": "4565fde7-8798-443b-b3b1-a82ab5e1aab4",
        "colab": {
          "base_uri": "https://localhost:8080/",
          "height": 82
        }
      },
      "cell_type": "code",
      "source": [
        "# Detalhamento da Matriz de Confusão\n",
        "print('TN - Verdadeiro Negativos: ', cm[0][0]) # O que realmente eram negativos. Ou seja, o modelo disse que não iam evadir e realmente não evadiram.\n",
        "print('FP - Falsos Positivos: ', cm[0][1]) # O modelo considerou como positivos mas eram negativos. Ou seja, o modelo disse que iriam evadir, mas não evadiram.\n",
        "print('FN - Falsos Negativos: ', cm[1][0]) # O modelo considerou como negativos mas eram positivos. Ou seja, o modelo disse que não iriam evadir, mas evadiram.\n",
        "print('TP - Verdadeiro Positivo: ', cm[1][1]) # O que realmente eram positivos. Ou seja, o modelo disse que iriam evadir e realmente evadiram."
      ],
      "execution_count": 38,
      "outputs": [
        {
          "output_type": "stream",
          "text": [
            "TN - Verdadeiro Negativos:  1520\n",
            "FP - Falsos Positivos:  75\n",
            "FN - Falsos Negativos:  208\n",
            "TP - Verdadeiro Positivo:  197\n"
          ],
          "name": "stdout"
        }
      ]
    },
    {
      "metadata": {
        "id": "JlptT66lIWap",
        "colab_type": "code",
        "outputId": "d053ad52-72ae-4407-d381-9f8c3e8b9eb5",
        "colab": {
          "base_uri": "https://localhost:8080/",
          "height": 180
        }
      },
      "cell_type": "code",
      "source": [
        "# Relatório de Classificação. Aqui temos um detalhamento maior das métricas obtidas.\n",
        "print(classification_report(y_test, y_pred.round()))\n",
        "acuracia = accuracy_score(y_test, y_pred.round())\n",
        "print('Acurácia Média : %0.2f' % (acuracia * 100))"
      ],
      "execution_count": 39,
      "outputs": [
        {
          "output_type": "stream",
          "text": [
            "              precision    recall  f1-score   support\n",
            "\n",
            "           0       0.88      0.95      0.91      1595\n",
            "           1       0.72      0.49      0.58       405\n",
            "\n",
            "   micro avg       0.86      0.86      0.86      2000\n",
            "   macro avg       0.80      0.72      0.75      2000\n",
            "weighted avg       0.85      0.86      0.85      2000\n",
            "\n",
            "Acurácia Média : 85.85\n"
          ],
          "name": "stdout"
        }
      ]
    },
    {
      "metadata": {
        "id": "jYRZygJlIWbD",
        "colab_type": "text"
      },
      "cell_type": "markdown",
      "source": [
        "#### TESTANDO O MODELO"
      ]
    },
    {
      "metadata": {
        "id": "utnLuuuMIWbO",
        "colab_type": "code",
        "outputId": "52845591-e71c-4add-eb1c-ab3ae1c285e5",
        "colab": {
          "base_uri": "https://localhost:8080/",
          "height": 50
        }
      },
      "cell_type": "code",
      "source": [
        "# DADOS SOBRE PAIS:\n",
        "# ## FRANÇA: 0, 0\n",
        "# ## ESPANHA: 0, 1\n",
        "# ## ALEMANHA: 1, 0\n",
        "\n",
        "# Especificamos os dados\n",
        "Pais0 = 0.0\n",
        "Pais1 = 0.0\n",
        "ScoreCredito = 200\n",
        "Genero = 1\n",
        "Idade = 70\n",
        "Relacionamento = 1\n",
        "Saldo = 10000\n",
        "QtdProdutos = 1\n",
        "CartaoCredito = 1\n",
        "Ativo = 1\n",
        "Salario = 10000\n",
        "\n",
        "# Carregamos em um array e fazemos a transformação\n",
        "data = sc.transform(np.array([[Pais0, Pais1, ScoreCredito, Genero, Idade, Relacionamento, Saldo, QtdProdutos, CartaoCredito, Ativo, Salario]]))\n",
        "\n",
        "# Fazemos o predict usando o modelo já treinado e guardamos o resultado na variavel new_prediction\n",
        "new_prediction = model.predict(data)\n",
        "\n",
        "# O modelo irá nos devolver um percentual. Com base nisso, decidimos a partir de que percentual o cliente irá sair do banco. No caso aqui, consideramos 50%.\n",
        "valor = 'Sim' if (new_prediction > 0.5) else 'Não'\n",
        "    \n",
        "print('Cliente Irá Sair ?', valor)\n",
        "print('Qual a Probabilidade do Cliente Sair: ', '%.2f' % (new_prediction * 100))"
      ],
      "execution_count": 40,
      "outputs": [
        {
          "output_type": "stream",
          "text": [
            "Cliente Irá Sair ? Não\n",
            "Qual a Probabilidade do Cliente Sair:  39.54\n"
          ],
          "name": "stdout"
        }
      ]
    },
    {
      "metadata": {
        "id": "4f6BrkinrU5W",
        "colab_type": "text"
      },
      "cell_type": "markdown",
      "source": [
        "#### SALVANDO E EXPORTANDO O MODELO"
      ]
    },
    {
      "metadata": {
        "id": "SdibUQA-vrL6",
        "colab_type": "code",
        "colab": {}
      },
      "cell_type": "code",
      "source": [
        "# Salvamos o modelo para uso posterior\n",
        "model.save('model.h5')\n",
        "\n",
        "# Para carregar o modelo, basta utilizar a funcoa load_model()\n",
        "savedModel = load_model('model.h5')"
      ],
      "execution_count": 0,
      "outputs": []
    }
  ]
}